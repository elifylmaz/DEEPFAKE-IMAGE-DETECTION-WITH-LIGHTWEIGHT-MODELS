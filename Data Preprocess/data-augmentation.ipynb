{
 "cells": [
  {
   "cell_type": "code",
   "execution_count": 1,
   "id": "9d5250dd-032e-4903-8bfb-610eb8f47438",
   "metadata": {},
   "outputs": [
    {
     "name": "stdout",
     "output_type": "stream",
     "text": [
      "✅ Videolar başarıyla train/test klasörlerine kopyalandı.\n"
     ]
    }
   ],
   "source": [
    "import os\n",
    "import shutil\n",
    "import random\n",
    "from pathlib import Path\n",
    "\n",
    "# Kaynak klasörler\n",
    "source_dirs = {\n",
    "    \"real\": [r\"C:\\Users\\Admin\\Desktop\\TEZ\\Deepfake\\Celeb-real\", r\"C:\\Users\\Admin\\Desktop\\TEZ\\Deepfake\\youtube-real\"],\n",
    "    \"fake\": [r\"C:\\Users\\Admin\\Desktop\\TEZ\\Deepfake\\Celeb-synthesis\"]\n",
    "}\n",
    "\n",
    "# Hedef kök klasör\n",
    "output_root = r\"C:\\Users\\Admin\\Desktop\\TEZ\\Deepfake\"\n",
    "train_ratio = 0.8  # %80 eğitim, %20 test\n",
    "\n",
    "# Sabit tutmak için random seed\n",
    "random.seed(42)\n",
    "\n",
    "# Hedef klasörleri oluştur\n",
    "for split in [\"train\", \"test\"]:\n",
    "    for cls in [\"real\", \"fake\"]:\n",
    "        Path(f\"{output_root}/{split}/{cls}\").mkdir(parents=True, exist_ok=True)\n",
    "\n",
    "# Tüm videoları topla ve sınıflandır\n",
    "video_paths = {\"real\": [], \"fake\": []}\n",
    "\n",
    "for label, dirs in source_dirs.items():\n",
    "    for folder in dirs:\n",
    "        for video in Path(folder).glob(\"*.*\"):\n",
    "            if video.suffix.lower() in [\".mp4\", \".avi\", \".mov\", \".mkv\"]:  # yaygın video formatları\n",
    "                video_paths[label].append(video)\n",
    "\n",
    "# Eğitim ve test olarak ayır, sonra kopyala\n",
    "for label, paths in video_paths.items():\n",
    "    random.shuffle(paths)\n",
    "    split_index = int(len(paths) * train_ratio)\n",
    "    train_videos = paths[:split_index]\n",
    "    test_videos = paths[split_index:]\n",
    "\n",
    "    # Kopyala\n",
    "    for video in train_videos:\n",
    "        shutil.copy(video, f\"{output_root}/train/{label}/{video.name}\")\n",
    "    for video in test_videos:\n",
    "        shutil.copy(video, f\"{output_root}/test/{label}/{video.name}\")\n",
    "\n",
    "print(\"✅ Videolar başarıyla train/test klasörlerine kopyalandı.\")\n"
   ]
  },
  {
   "cell_type": "code",
   "execution_count": null,
   "id": "1fafaabb-ace7-4213-bb4c-f00cefcf358a",
   "metadata": {},
   "outputs": [],
   "source": [
    "import cv2\n",
    "import os\n",
    "from pathlib import Path\n",
    "\n",
    "# Ana ayarlar\n",
    "root_dir =  r\"C:\\Users\\Admin\\Desktop\\TEZ\\Deepfake\"\n",
    "frames_per_video = 30\n",
    "\n",
    "# Frame çıkarma fonksiyonu\n",
    "def extract_frames(video_path, output_folder, num_frames=30):\n",
    "    cap = cv2.VideoCapture(str(video_path))\n",
    "    total_frames = int(cap.get(cv2.CAP_PROP_FRAME_COUNT))\n",
    "\n",
    "    if total_frames < num_frames or total_frames == 0:\n",
    "        frame_indices = list(range(min(total_frames, num_frames)))\n",
    "    else:\n",
    "        interval = total_frames // num_frames\n",
    "        frame_indices = [i * interval for i in range(num_frames)]\n",
    "\n",
    "    video_name = video_path.stem\n",
    "    count = 0\n",
    "    for i in frame_indices:\n",
    "        cap.set(cv2.CAP_PROP_POS_FRAMES, i)\n",
    "        ret, frame = cap.read()\n",
    "        if ret:\n",
    "            frame_name = f\"{video_name}_frame_{count:03d}.jpg\"\n",
    "            cv2.imwrite(str(output_folder / frame_name), frame)\n",
    "            count += 1\n",
    "    cap.release()\n",
    "\n",
    "# İşlenecek klasör ve hedef klasör isimleri\n",
    "split_label_dirs = {\n",
    "    (\"train\", \"real\"): \"train/train-real-frame\",\n",
    "    (\"train\", \"fake\"): \"train/train-fake-frame\",\n",
    "    (\"test\", \"real\"): \"test/test-real-frame\",\n",
    "    (\"test\", \"fake\"): \"test/test-fake-frame\"\n",
    "}\n",
    "\n",
    "# Tüm videoları işleyip frameleri çıkart\n",
    "for (split, label), output_rel in split_label_dirs.items():\n",
    "    video_dir = Path(root_dir) / split / label\n",
    "    output_dir = Path(root_dir) / output_rel\n",
    "    output_dir.mkdir(parents=True, exist_ok=True)\n",
    "\n",
    "    for video_file in video_dir.glob(\"*.*\"):\n",
    "        if video_file.suffix.lower() in [\".mp4\", \".avi\", \".mov\", \".mkv\"]:\n",
    "            extract_frames(video_file, output_dir, frames_per_video)\n",
    "\n",
    "print(\"✅ Frame çıkarma işlemi tamamlandı.\")\n"
   ]
  },
  {
   "cell_type": "code",
   "execution_count": 1,
   "id": "169e7a0e-22e6-4bdb-bf53-fe7df195ce8a",
   "metadata": {},
   "outputs": [
    {
     "name": "stdout",
     "output_type": "stream",
     "text": [
      "Collecting albumentations\n",
      "  Using cached albumentations-2.0.5-py3-none-any.whl.metadata (41 kB)\n",
      "Requirement already satisfied: opencv-python in c:\\users\\admin\\anaconda3\\lib\\site-packages (4.11.0.86)\n",
      "Requirement already satisfied: tqdm in c:\\users\\admin\\anaconda3\\lib\\site-packages (4.66.5)\n",
      "Requirement already satisfied: numpy>=1.24.4 in c:\\users\\admin\\anaconda3\\lib\\site-packages (from albumentations) (1.26.4)\n",
      "Requirement already satisfied: scipy>=1.10.0 in c:\\users\\admin\\anaconda3\\lib\\site-packages (from albumentations) (1.13.1)\n",
      "Requirement already satisfied: PyYAML in c:\\users\\admin\\anaconda3\\lib\\site-packages (from albumentations) (6.0.1)\n",
      "Collecting pydantic>=2.9.2 (from albumentations)\n",
      "  Using cached pydantic-2.11.3-py3-none-any.whl.metadata (65 kB)\n",
      "Collecting albucore==0.0.23 (from albumentations)\n",
      "  Using cached albucore-0.0.23-py3-none-any.whl.metadata (5.3 kB)\n",
      "Collecting opencv-python-headless>=4.9.0.80 (from albumentations)\n",
      "  Using cached opencv_python_headless-4.11.0.86-cp37-abi3-win_amd64.whl.metadata (20 kB)\n",
      "Requirement already satisfied: stringzilla>=3.10.4 in c:\\users\\admin\\anaconda3\\lib\\site-packages (from albucore==0.0.23->albumentations) (3.12.4)\n",
      "Requirement already satisfied: simsimd>=5.9.2 in c:\\users\\admin\\anaconda3\\lib\\site-packages (from albucore==0.0.23->albumentations) (6.2.1)\n",
      "Requirement already satisfied: colorama in c:\\users\\admin\\anaconda3\\lib\\site-packages (from tqdm) (0.4.6)\n",
      "Requirement already satisfied: annotated-types>=0.6.0 in c:\\users\\admin\\anaconda3\\lib\\site-packages (from pydantic>=2.9.2->albumentations) (0.6.0)\n",
      "Requirement already satisfied: pydantic-core==2.33.1 in c:\\users\\admin\\anaconda3\\lib\\site-packages (from pydantic>=2.9.2->albumentations) (2.33.1)\n",
      "Requirement already satisfied: typing-extensions>=4.12.2 in c:\\users\\admin\\anaconda3\\lib\\site-packages (from pydantic>=2.9.2->albumentations) (4.13.2)\n",
      "Requirement already satisfied: typing-inspection>=0.4.0 in c:\\users\\admin\\anaconda3\\lib\\site-packages (from pydantic>=2.9.2->albumentations) (0.4.0)\n",
      "Using cached albumentations-2.0.5-py3-none-any.whl (290 kB)\n",
      "Using cached albucore-0.0.23-py3-none-any.whl (14 kB)\n",
      "Using cached opencv_python_headless-4.11.0.86-cp37-abi3-win_amd64.whl (39.4 MB)\n",
      "Using cached pydantic-2.11.3-py3-none-any.whl (443 kB)\n",
      "Installing collected packages: opencv-python-headless, pydantic, albucore, albumentations\n",
      "  Attempting uninstall: pydantic\n",
      "    Found existing installation: pydantic 2.8.2\n",
      "    Uninstalling pydantic-2.8.2:\n",
      "      Successfully uninstalled pydantic-2.8.2\n",
      "Successfully installed albucore-0.0.23 albumentations-2.0.5 opencv-python-headless-4.11.0.86 pydantic-2.11.3\n",
      "Note: you may need to restart the kernel to use updated packages.\n"
     ]
    }
   ],
   "source": [
    "pip install albumentations opencv-python tqdm"
   ]
  },
  {
   "cell_type": "code",
   "execution_count": 7,
   "id": "6e3e211e-ebbb-4322-80ea-14b802e2f719",
   "metadata": {},
   "outputs": [
    {
     "name": "stdout",
     "output_type": "stream",
     "text": [
      "🚀 Augmenting train-real-frame: 21331 → 135330 (eklenecek: 113999)\n",
      "✅ 113999 yeni frame oluşturuldu: C:\\Users\\Admin\\Desktop\\TEZ\\Deepfake\\DeepFake-train-test\\train\\train-real-frame-aug\n",
      "🚀 Augmenting test-real-frame: 5340 → 33840 (eklenecek: 28500)\n",
      "✅ 28500 yeni frame oluşturuldu: C:\\Users\\Admin\\Desktop\\TEZ\\Deepfake\\DeepFake-train-test\\test\\test-real-frame-aug\n"
     ]
    }
   ],
   "source": []
  },
  {
   "cell_type": "code",
   "execution_count": null,
   "id": "16f81ccd-d75b-42ec-890d-3b407f41645c",
   "metadata": {},
   "outputs": [],
   "source": []
  }
 ],
 "metadata": {
  "kernelspec": {
   "display_name": "Python 3 (ipykernel)",
   "language": "python",
   "name": "python3"
  },
  "language_info": {
   "codemirror_mode": {
    "name": "ipython",
    "version": 3
   },
   "file_extension": ".py",
   "mimetype": "text/x-python",
   "name": "python",
   "nbconvert_exporter": "python",
   "pygments_lexer": "ipython3",
   "version": "3.10.12"
  }
 },
 "nbformat": 4,
 "nbformat_minor": 5
}
