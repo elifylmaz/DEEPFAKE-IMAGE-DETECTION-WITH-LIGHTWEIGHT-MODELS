{
 "cells": [
  {
   "cell_type": "code",
   "execution_count": 2,
   "id": "618ef3b6-044b-44d7-9d79-5a9ebc7541d8",
   "metadata": {},
   "outputs": [
    {
     "name": "stdout",
     "output_type": "stream",
     "text": [
      "Kullanılan cihaz: cuda\n",
      "GPU Adı: NVIDIA GeForce RTX 4060\n",
      "Veri seti GPU ile ön işleme yapılıyor...\n",
      "train_fake işleniyor...\n",
      "train_real işleniyor...\n",
      "test_fake işleniyor...\n",
      "test_real işleniyor...\n",
      "Ön işleme tamamlandı. Geçerli yollar 'valid_image_paths.pkl' dosyasına kaydedildi. Süre: 1464.82 saniye\n"
     ]
    }
   ],
   "source": [
    "import os\n",
    "import cv2\n",
    "import numpy as np\n",
    "import torch\n",
    "from torchvision import transforms\n",
    "from tqdm import tqdm\n",
    "import pickle\n",
    "import time\n",
    "\n",
    "# GPU kontrolü\n",
    "device = torch.device(\"cuda\" if torch.cuda.is_available() else \"cpu\")\n",
    "print(f\"Kullanılan cihaz: {device}\")\n",
    "if device.type == \"cuda\":\n",
    "    print(f\"GPU Adı: {torch.cuda.get_device_name(0)}\")\n",
    "\n",
    "# Giriş ve çıkış klasörleri\n",
    "input_paths = {\n",
    "    'train_fake': r\"C:\\Users\\Admin\\Desktop\\TEZ\\Deepfake\\DeepFake-train-test\\_faces\\train-fake-frame\",\n",
    "    'train_real': r\"C:\\Users\\Admin\\Desktop\\TEZ\\Deepfake\\DeepFake-train-test\\_faces\\train-real-frame\",\n",
    "    'test_fake': r\"C:\\Users\\Admin\\Desktop\\TEZ\\Deepfake\\DeepFake-train-test\\_faces\\test-fake-frame\",\n",
    "    'test_real': r\"C:\\Users\\Admin\\Desktop\\TEZ\\Deepfake\\DeepFake-train-test\\_faces\\test-real-frame\"\n",
    "}\n",
    "output_paths = {\n",
    "    'train_fake': r\"C:\\Users\\Admin\\Desktop\\TEZ\\Deepfake\\DeepFake-train-test\\_faces_preprocessed\\train-fake-frame\",\n",
    "    'train_real': r\"C:\\Users\\Admin\\Desktop\\TEZ\\Deepfake\\DeepFake-train-test\\_faces_preprocessed\\train-real-frame\",\n",
    "    'test_fake': r\"C:\\Users\\Admin\\Desktop\\TEZ\\Deepfake\\DeepFake-train-test\\_faces_preprocessed\\test-fake-frame\",\n",
    "    'test_real': r\"C:\\Users\\Admin\\Desktop\\TEZ\\Deepfake\\DeepFake-train-test\\_faces_preprocessed\\test-real-frame\"\n",
    "}\n",
    "\n",
    "# Çıkış klasörlerini oluştur\n",
    "for path in output_paths.values():\n",
    "    os.makedirs(path, exist_ok=True)\n",
    "\n",
    "# GPU ile batch ön işleme\n",
    "def preprocess_image_batch(image_paths, output_dir, batch_size=32):\n",
    "    valid_images = []\n",
    "    resize_transform = transforms.Resize((224, 224), antialias=True)\n",
    "    for i in range(0, len(image_paths), batch_size):\n",
    "        batch_paths = image_paths[i:i + batch_size]\n",
    "        batch_images = []\n",
    "        for img_path in batch_paths:\n",
    "            try:\n",
    "                img = cv2.imread(img_path)\n",
    "                if img is None:\n",
    "                    print(f\"Yüklenemedi: {img_path}\")\n",
    "                    continue\n",
    "                img_rgb = cv2.cvtColor(img, cv2.COLOR_BGR2RGB)\n",
    "                if img_rgb.max() == 0:\n",
    "                    print(f\"Siyah görüntü atlandı: {img_path}\")\n",
    "                    continue\n",
    "                img_resized = cv2.resize(img_rgb, (224, 224))\n",
    "                batch_images.append(img_resized)\n",
    "            except Exception as e:\n",
    "                print(f\"Hata: {img_path}: {e}\")\n",
    "        \n",
    "        if batch_images:\n",
    "            batch_tensor = torch.tensor(np.array(batch_images), dtype=torch.float32).permute(0, 3, 1, 2) / 255.0\n",
    "            batch_tensor = batch_tensor.to(device)\n",
    "            batch_resized = resize_transform(batch_tensor)\n",
    "            batch_cpu = (batch_resized.cpu().numpy() * 255.0).astype(np.uint8).transpose(0, 2, 3, 1)\n",
    "            \n",
    "            for j, img in enumerate(batch_cpu):\n",
    "                output_path = os.path.join(output_dir, os.path.basename(batch_paths[j]))\n",
    "                cv2.imwrite(output_path, cv2.cvtColor(img, cv2.COLOR_RGB2BGR))\n",
    "                valid_images.append(output_path)\n",
    "    return valid_images\n",
    "\n",
    "# Ön işleme işlemini başlat\n",
    "print(\"Veri seti GPU ile ön işleme yapılıyor...\")\n",
    "start_time = time.time()\n",
    "valid_image_paths = {}\n",
    "for key in input_paths:\n",
    "    print(f\"{key} işleniyor...\")\n",
    "    image_paths = [os.path.join(input_paths[key], img) for img in os.listdir(input_paths[key])]\n",
    "    valid_image_paths[key] = preprocess_image_batch(image_paths, output_paths[key])\n",
    "\n",
    "# Geçerli görüntü yollarını kaydet\n",
    "with open('valid_image_paths.pkl', 'wb') as f:\n",
    "    pickle.dump(valid_image_paths, f)\n",
    "print(f\"Ön işleme tamamlandı. Geçerli yollar 'valid_image_paths.pkl' dosyasına kaydedildi. Süre: {time.time() - start_time:.2f} saniye\")\n",
    "\n",
    "# Belleği temizle\n",
    "torch.cuda.empty_cache()"
   ]
  },
  {
   "cell_type": "code",
   "execution_count": 4,
   "id": "11e14118-8219-45ea-aae9-3e2a1b413011",
   "metadata": {
    "scrolled": true
   },
   "outputs": [
    {
     "name": "stdout",
     "output_type": "stream",
     "text": [
      "PyTorch Sürümü: 2.5.1\n",
      "Kullanılan cihaz: cuda\n",
      "GPU Adı: NVIDIA GeForce RTX 4060\n",
      "Veri setleri yükleniyor...\n",
      "178196 sahte ve 166870 gerçek görüntü bulundu\n",
      "178196 sahte ve 166870 gerçek görüntü bulundu\n",
      "345066 eğitim görüntüsü yüklendi\n",
      "345066 test görüntüsü yüklendi\n",
      "ResNet50 öğretmen modeli oluşturuluyor...\n",
      "ResNet50 öğretmen modeli eğitiliyor...\n"
     ]
    },
    {
     "name": "stderr",
     "output_type": "stream",
     "text": [
      "Eğitim: 100%|████████████████████████████████████████████████████████████████████| 21567/21567 [41:50<00:00,  8.59it/s]\n",
      "Değerlendirme: 100%|█████████████████████████████████████████████████████████████| 21567/21567 [12:50<00:00, 27.98it/s]\n"
     ]
    },
    {
     "name": "stdout",
     "output_type": "stream",
     "text": [
      "Epoch 1/20 - Eğitim Kaybı: 0.5296, Eğitim Doğruluğu: 0.7272, Doğrulama Kaybı: 0.4517, Doğrulama Doğruluğu: 0.7806\n"
     ]
    },
    {
     "name": "stderr",
     "output_type": "stream",
     "text": [
      "Eğitim: 100%|████████████████████████████████████████████████████████████████████| 21567/21567 [37:32<00:00,  9.57it/s]\n",
      "Değerlendirme: 100%|█████████████████████████████████████████████████████████████| 21567/21567 [13:32<00:00, 26.55it/s]\n"
     ]
    },
    {
     "name": "stdout",
     "output_type": "stream",
     "text": [
      "Epoch 2/20 - Eğitim Kaybı: 0.5008, Eğitim Doğruluğu: 0.7461, Doğrulama Kaybı: 0.4339, Doğrulama Doğruluğu: 0.7920\n"
     ]
    },
    {
     "name": "stderr",
     "output_type": "stream",
     "text": [
      "Eğitim: 100%|████████████████████████████████████████████████████████████████████| 21567/21567 [39:07<00:00,  9.19it/s]\n",
      "Değerlendirme: 100%|█████████████████████████████████████████████████████████████| 21567/21567 [13:27<00:00, 26.71it/s]\n"
     ]
    },
    {
     "name": "stdout",
     "output_type": "stream",
     "text": [
      "Epoch 3/20 - Eğitim Kaybı: 0.4918, Eğitim Doğruluğu: 0.7530, Doğrulama Kaybı: 0.4458, Doğrulama Doğruluğu: 0.7840\n"
     ]
    },
    {
     "name": "stderr",
     "output_type": "stream",
     "text": [
      "Eğitim: 100%|████████████████████████████████████████████████████████████████████| 21567/21567 [38:51<00:00,  9.25it/s]\n",
      "Değerlendirme: 100%|█████████████████████████████████████████████████████████████| 21567/21567 [13:51<00:00, 25.94it/s]\n"
     ]
    },
    {
     "name": "stdout",
     "output_type": "stream",
     "text": [
      "Epoch 4/20 - Eğitim Kaybı: 0.4880, Eğitim Doğruluğu: 0.7555, Doğrulama Kaybı: 0.4492, Doğrulama Doğruluğu: 0.7833\n"
     ]
    },
    {
     "name": "stderr",
     "output_type": "stream",
     "text": [
      "Eğitim: 100%|████████████████████████████████████████████████████████████████████| 21567/21567 [38:20<00:00,  9.38it/s]\n",
      "Değerlendirme: 100%|█████████████████████████████████████████████████████████████| 21567/21567 [12:15<00:00, 29.31it/s]\n"
     ]
    },
    {
     "name": "stdout",
     "output_type": "stream",
     "text": [
      "Epoch 5/20 - Eğitim Kaybı: 0.4842, Eğitim Doğruluğu: 0.7583, Doğrulama Kaybı: 0.4371, Doğrulama Doğruluğu: 0.7912\n"
     ]
    },
    {
     "name": "stderr",
     "output_type": "stream",
     "text": [
      "Eğitim: 100%|████████████████████████████████████████████████████████████████████| 21567/21567 [35:32<00:00, 10.12it/s]\n",
      "Değerlendirme: 100%|█████████████████████████████████████████████████████████████| 21567/21567 [12:08<00:00, 29.62it/s]\n"
     ]
    },
    {
     "name": "stdout",
     "output_type": "stream",
     "text": [
      "Epoch 6/20 - Eğitim Kaybı: 0.4806, Eğitim Doğruluğu: 0.7609, Doğrulama Kaybı: 0.4220, Doğrulama Doğruluğu: 0.7980\n"
     ]
    },
    {
     "name": "stderr",
     "output_type": "stream",
     "text": [
      "Eğitim: 100%|████████████████████████████████████████████████████████████████████| 21567/21567 [35:52<00:00, 10.02it/s]\n",
      "Değerlendirme: 100%|█████████████████████████████████████████████████████████████| 21567/21567 [11:57<00:00, 30.04it/s]\n"
     ]
    },
    {
     "name": "stdout",
     "output_type": "stream",
     "text": [
      "Epoch 7/20 - Eğitim Kaybı: 0.4771, Eğitim Doğruluğu: 0.7624, Doğrulama Kaybı: 0.4220, Doğrulama Doğruluğu: 0.7986\n"
     ]
    },
    {
     "name": "stderr",
     "output_type": "stream",
     "text": [
      "Eğitim: 100%|████████████████████████████████████████████████████████████████████| 21567/21567 [35:35<00:00, 10.10it/s]\n",
      "Değerlendirme: 100%|█████████████████████████████████████████████████████████████| 21567/21567 [12:03<00:00, 29.81it/s]\n"
     ]
    },
    {
     "name": "stdout",
     "output_type": "stream",
     "text": [
      "Epoch 8/20 - Eğitim Kaybı: 0.4763, Eğitim Doğruluğu: 0.7638, Doğrulama Kaybı: 0.4235, Doğrulama Doğruluğu: 0.7977\n"
     ]
    },
    {
     "name": "stderr",
     "output_type": "stream",
     "text": [
      "Eğitim: 100%|████████████████████████████████████████████████████████████████████| 21567/21567 [35:51<00:00, 10.02it/s]\n",
      "Değerlendirme: 100%|█████████████████████████████████████████████████████████████| 21567/21567 [12:04<00:00, 29.77it/s]\n"
     ]
    },
    {
     "name": "stdout",
     "output_type": "stream",
     "text": [
      "Epoch 9/20 - Eğitim Kaybı: 0.4736, Eğitim Doğruluğu: 0.7654, Doğrulama Kaybı: 0.4111, Doğrulama Doğruluğu: 0.8040\n"
     ]
    },
    {
     "name": "stderr",
     "output_type": "stream",
     "text": [
      "Eğitim: 100%|████████████████████████████████████████████████████████████████████| 21567/21567 [35:45<00:00, 10.05it/s]\n",
      "Değerlendirme: 100%|█████████████████████████████████████████████████████████████| 21567/21567 [12:23<00:00, 29.01it/s]\n"
     ]
    },
    {
     "name": "stdout",
     "output_type": "stream",
     "text": [
      "Epoch 10/20 - Eğitim Kaybı: 0.4734, Eğitim Doğruluğu: 0.7662, Doğrulama Kaybı: 0.4110, Doğrulama Doğruluğu: 0.8044\n"
     ]
    },
    {
     "name": "stderr",
     "output_type": "stream",
     "text": [
      "Eğitim: 100%|████████████████████████████████████████████████████████████████████| 21567/21567 [37:38<00:00,  9.55it/s]\n",
      "Değerlendirme: 100%|█████████████████████████████████████████████████████████████| 21567/21567 [12:31<00:00, 28.71it/s]\n"
     ]
    },
    {
     "name": "stdout",
     "output_type": "stream",
     "text": [
      "Epoch 11/20 - Eğitim Kaybı: 0.4729, Eğitim Doğruluğu: 0.7658, Doğrulama Kaybı: 0.4041, Doğrulama Doğruluğu: 0.8097\n"
     ]
    },
    {
     "name": "stderr",
     "output_type": "stream",
     "text": [
      "Eğitim: 100%|████████████████████████████████████████████████████████████████████| 21567/21567 [38:27<00:00,  9.35it/s]\n",
      "Değerlendirme: 100%|█████████████████████████████████████████████████████████████| 21567/21567 [13:25<00:00, 26.78it/s]\n"
     ]
    },
    {
     "name": "stdout",
     "output_type": "stream",
     "text": [
      "Epoch 12/20 - Eğitim Kaybı: 0.4707, Eğitim Doğruluğu: 0.7677, Doğrulama Kaybı: 0.4169, Doğrulama Doğruluğu: 0.8024\n"
     ]
    },
    {
     "name": "stderr",
     "output_type": "stream",
     "text": [
      "Eğitim: 100%|████████████████████████████████████████████████████████████████████| 21567/21567 [36:35<00:00,  9.82it/s]\n",
      "Değerlendirme: 100%|█████████████████████████████████████████████████████████████| 21567/21567 [12:15<00:00, 29.30it/s]\n"
     ]
    },
    {
     "name": "stdout",
     "output_type": "stream",
     "text": [
      "Epoch 13/20 - Eğitim Kaybı: 0.4704, Eğitim Doğruluğu: 0.7663, Doğrulama Kaybı: 0.4099, Doğrulama Doğruluğu: 0.8054\n"
     ]
    },
    {
     "name": "stderr",
     "output_type": "stream",
     "text": [
      "Eğitim: 100%|████████████████████████████████████████████████████████████████████| 21567/21567 [37:09<00:00,  9.67it/s]\n",
      "Değerlendirme: 100%|█████████████████████████████████████████████████████████████| 21567/21567 [12:36<00:00, 28.50it/s]\n"
     ]
    },
    {
     "name": "stdout",
     "output_type": "stream",
     "text": [
      "Epoch 14/20 - Eğitim Kaybı: 0.4693, Eğitim Doğruluğu: 0.7679, Doğrulama Kaybı: 0.4110, Doğrulama Doğruluğu: 0.8045\n"
     ]
    },
    {
     "name": "stderr",
     "output_type": "stream",
     "text": [
      "Eğitim: 100%|████████████████████████████████████████████████████████████████████| 21567/21567 [37:25<00:00,  9.60it/s]\n",
      "Değerlendirme: 100%|█████████████████████████████████████████████████████████████| 21567/21567 [12:41<00:00, 28.32it/s]\n"
     ]
    },
    {
     "name": "stdout",
     "output_type": "stream",
     "text": [
      "Epoch 15/20 - Eğitim Kaybı: 0.4694, Eğitim Doğruluğu: 0.7689, Doğrulama Kaybı: 0.4051, Doğrulama Doğruluğu: 0.8080\n"
     ]
    },
    {
     "name": "stderr",
     "output_type": "stream",
     "text": [
      "Eğitim: 100%|████████████████████████████████████████████████████████████████████| 21567/21567 [37:20<00:00,  9.62it/s]\n",
      "Değerlendirme: 100%|█████████████████████████████████████████████████████████████| 21567/21567 [12:29<00:00, 28.77it/s]\n"
     ]
    },
    {
     "name": "stdout",
     "output_type": "stream",
     "text": [
      "Epoch 16/20 - Eğitim Kaybı: 0.4600, Eğitim Doğruluğu: 0.7735, Doğrulama Kaybı: 0.4060, Doğrulama Doğruluğu: 0.8092\n",
      "Erken durdurma tetiklendi\n",
      "Öğretmen eğitimi 48093.98 saniyede tamamlandı\n"
     ]
    }
   ],
   "source": [
    "import os\n",
    "import cv2\n",
    "import numpy as np\n",
    "import torch\n",
    "import torch.nn as nn\n",
    "import torch.optim as optim\n",
    "import torchvision.models as models\n",
    "import torchvision.transforms as transforms\n",
    "from torch.utils.data import Dataset, DataLoader\n",
    "from sklearn.metrics import accuracy_score, precision_score, recall_score, f1_score, roc_auc_score\n",
    "import matplotlib.pyplot as plt\n",
    "from tqdm import tqdm\n",
    "import time\n",
    "import logging\n",
    "import warnings\n",
    "import torch.nn.utils.prune as prune\n",
    "from torch.cuda.amp import GradScaler, autocast\n",
    "import pickle\n",
    "\n",
    "# Uyarıları gizle\n",
    "logging.getLogger().setLevel(logging.ERROR)\n",
    "warnings.filterwarnings(\"ignore\")\n",
    "\n",
    "# PyTorch ve GPU durumunu kontrol et\n",
    "print(f\"PyTorch Sürümü: {torch.__version__}\")\n",
    "device = torch.device(\"cuda\" if torch.cuda.is_available() else \"cpu\")\n",
    "print(f\"Kullanılan cihaz: {device}\")\n",
    "if device.type == \"cuda\":\n",
    "    print(f\"GPU Adı: {torch.cuda.get_device_name(0)}\")\n",
    "\n",
    "# Belleği temizle\n",
    "torch.cuda.empty_cache()\n",
    "\n",
    "# Ön işlenmiş veri yolları\n",
    "train_fake_path = r\"C:\\Users\\Admin\\Desktop\\TEZ\\Deepfake\\DeepFake-train-test\\_faces_preprocessed\\train-fake-frame\"\n",
    "train_real_path = r\"C:\\Users\\Admin\\Desktop\\TEZ\\Deepfake\\DeepFake-train-test\\_faces_preprocessed\\train-real-frame\"\n",
    "test_fake_path = r\"C:\\Users\\Admin\\Desktop\\TEZ\\Deepfake\\DeepFake-train-test\\_faces_preprocessed\\test-fake-frame\"\n",
    "test_real_path = r\"C:\\Users\\Admin\\Desktop\\TEZ\\Deepfake\\DeepFake-train-test\\_faces_preprocessed\\test-real-frame\"\n",
    "\n",
    "# Ön işleme fonksiyonu (GPU'ya taşıma kaldırıldı)\n",
    "def preprocess_image(image_path):\n",
    "    try:\n",
    "        image = cv2.imread(image_path)\n",
    "        if image is None:\n",
    "            print(f\"Yüklenemedi: {image_path}\")\n",
    "            return None\n",
    "        image = cv2.cvtColor(image, cv2.COLOR_BGR2RGB)\n",
    "        image = image / 255.0\n",
    "        image_tensor = torch.tensor(image, dtype=torch.float32).permute(2, 0, 1)  # CPU'da kalır\n",
    "        return image_tensor\n",
    "    except Exception as e:\n",
    "        print(f\"Hata: {image_path}: {e}\")\n",
    "        return None\n",
    "\n",
    "# Özel veri seti sınıfı\n",
    "class DeepfakeDataset(Dataset):\n",
    "    def __init__(self, fake_path, real_path, transform=None, valid_paths_file='valid_image_paths.pkl'):\n",
    "        with open(valid_paths_file, 'rb') as f:\n",
    "            valid_paths = pickle.load(f)\n",
    "        self.fake_images = valid_paths.get('train_fake', []) if 'train' in fake_path else valid_paths.get('test_fake', [])\n",
    "        self.real_images = valid_paths.get('train_real', []) if 'train' in real_path else valid_paths.get('test_real', [])\n",
    "        self.image_paths = self.fake_images + self.real_images\n",
    "        self.labels = [1] * len(self.fake_images) + [0] * len(self.real_images)\n",
    "        self.transform = transform\n",
    "        \n",
    "        if not self.image_paths:\n",
    "            raise ValueError(\"Geçerli görüntü bulunamadı.\")\n",
    "        \n",
    "        print(f\"{len(self.fake_images)} sahte ve {len(self.real_images)} gerçek görüntü bulundu\")\n",
    "    \n",
    "    def __len__(self):\n",
    "        return len(self.image_paths)\n",
    "    \n",
    "    def __getitem__(self, idx):\n",
    "        img_path = self.image_paths[idx]\n",
    "        label = self.labels[idx]\n",
    "        img = preprocess_image(img_path)\n",
    "        if img is None:\n",
    "            img = torch.zeros((3, 224, 224), dtype=torch.float32)  # CPU'da sıfır tensörü\n",
    "            label = -1\n",
    "        if self.transform:\n",
    "            img = self.transform(img)\n",
    "        return img, label\n",
    "\n",
    "# Veri artırımı\n",
    "transform = transforms.Compose([\n",
    "    transforms.RandomRotation(20),\n",
    "    transforms.RandomHorizontalFlip(),\n",
    "    transforms.RandomAffine(degrees=0, translate=(0.2, 0.2)),\n",
    "])\n",
    "\n",
    "# Veri setlerini yükle\n",
    "print(\"Veri setleri yükleniyor...\")\n",
    "train_dataset = DeepfakeDataset(train_fake_path, train_real_path, transform=transform)\n",
    "test_dataset = DeepfakeDataset(test_fake_path, test_real_path)\n",
    "\n",
    "# Geçersiz görüntüleri filtrele\n",
    "train_dataset = torch.utils.data.Subset(\n",
    "    train_dataset,\n",
    "    [i for i in range(len(train_dataset)) if train_dataset[i][1] != -1]\n",
    ")\n",
    "test_dataset = torch.utils.data.Subset(\n",
    "    test_dataset,\n",
    "    [i for i in range(len(test_dataset)) if test_dataset[i][1] != -1]\n",
    ")\n",
    "\n",
    "print(f\"{len(train_dataset)} eğitim görüntüsü yüklendi\")\n",
    "print(f\"{len(test_dataset)} test görüntüsü yüklendi\")\n",
    "\n",
    "# DataLoader'lar\n",
    "train_loader = DataLoader(train_dataset, batch_size=16, shuffle=True, num_workers=0, pin_memory=True)\n",
    "test_loader = DataLoader(test_dataset, batch_size=16, shuffle=False, num_workers=0, pin_memory=True)\n",
    "\n",
    "# Öğretmen Model: ResNet50\n",
    "print(\"ResNet50 öğretmen modeli oluşturuluyor...\")\n",
    "class ResNet50Model(nn.Module):\n",
    "    def __init__(self):\n",
    "        super(ResNet50Model, self).__init__()\n",
    "        self.base_model = models.resnet50(weights=models.ResNet50_Weights.DEFAULT)\n",
    "        self.base_model.fc = nn.Identity()\n",
    "        self.pool = nn.AdaptiveAvgPool2d(1)\n",
    "        self.fc1 = nn.Linear(2048, 128)\n",
    "        self.relu = nn.ReLU()\n",
    "        self.dropout = nn.Dropout(0.5)\n",
    "        self.fc2 = nn.Linear(128, 2)\n",
    "    \n",
    "    def forward(self, x):\n",
    "        x = self.base_model(x)\n",
    "        x = self.pool(x.view(x.size(0), -1, 1, 1))\n",
    "        x = x.view(x.size(0), -1)\n",
    "        x = self.fc1(x)\n",
    "        x = self.relu(x)\n",
    "        x = self.dropout(x)\n",
    "        x = self.fc2(x)\n",
    "        return x\n",
    "\n",
    "teacher_model = ResNet50Model().to(device)\n",
    "for param in teacher_model.base_model.parameters():\n",
    "    param.requires_grad = False\n",
    "\n",
    "# Kayıp fonksiyonu ve optimizer\n",
    "criterion = nn.CrossEntropyLoss()\n",
    "optimizer = optim.Adam(teacher_model.parameters(), lr=0.001)\n",
    "scheduler = optim.lr_scheduler.ReduceLROnPlateau(optimizer, factor=0.2, patience=3)\n",
    "scaler = GradScaler()\n",
    "\n",
    "# Öğretmen modelini eğit\n",
    "print(\"ResNet50 öğretmen modeli eğitiliyor...\")\n",
    "start_time = time.time()\n",
    "teacher_train_acc = []\n",
    "teacher_val_acc = []\n",
    "teacher_train_loss = []\n",
    "teacher_val_loss = []\n",
    "\n",
    "def train_model(model, train_loader, criterion, optimizer, device):\n",
    "    model.train()\n",
    "    running_loss = 0.0\n",
    "    correct = 0\n",
    "    total = 0\n",
    "    for images, labels in tqdm(train_loader, desc=\"Eğitim\"):\n",
    "        images, labels = images.to(device, non_blocking=True), labels.to(device, non_blocking=True)  # GPU'ya taşıma burada\n",
    "        optimizer.zero_grad()\n",
    "        with autocast():\n",
    "            outputs = model(images)\n",
    "            loss = criterion(outputs, labels)\n",
    "        scaler.scale(loss).backward()\n",
    "        scaler.step(optimizer)\n",
    "        scaler.update()\n",
    "        running_loss += loss.item()\n",
    "        _, predicted = torch.max(outputs, 1)\n",
    "        total += labels.size(0)\n",
    "        correct += (predicted == labels).sum().item()\n",
    "    epoch_loss = running_loss / len(train_loader)\n",
    "    epoch_acc = correct / total\n",
    "    return epoch_loss, epoch_acc\n",
    "\n",
    "def evaluate_model(model, test_loader, criterion, device):\n",
    "    model.eval()\n",
    "    running_loss = 0.0\n",
    "    correct = 0\n",
    "    total = 0\n",
    "    predictions = []\n",
    "    true_labels = []\n",
    "    probs = []\n",
    "    with torch.no_grad():\n",
    "        for images, labels in tqdm(test_loader, desc=\"Değerlendirme\"):\n",
    "            images, labels = images.to(device, non_blocking=True), labels.to(device, non_blocking=True)  # GPU'ya taşıma burada\n",
    "            with autocast():\n",
    "                outputs = model(images)\n",
    "                loss = criterion(outputs, labels)\n",
    "            running_loss += loss.item()\n",
    "            _, predicted = torch.max(outputs, 1)\n",
    "            total += labels.size(0)\n",
    "            correct += (predicted == labels).sum().item()\n",
    "            predictions.extend(predicted.cpu().numpy())\n",
    "            true_labels.extend(labels.cpu().numpy())\n",
    "            probs.extend(torch.softmax(outputs, dim=1)[:, 1].cpu().numpy())\n",
    "    epoch_loss = running_loss / len(test_loader)\n",
    "    epoch_acc = correct / total\n",
    "    return epoch_loss, epoch_acc, predictions, true_labels, probs\n",
    "\n",
    "best_val_loss = float('inf')\n",
    "patience = 5\n",
    "counter = 0\n",
    "\n",
    "for epoch in range(20):\n",
    "    train_loss, train_acc = train_model(teacher_model, train_loader, criterion, optimizer, device)\n",
    "    val_loss, val_acc, _, _, _ = evaluate_model(teacher_model, test_loader, criterion, device)\n",
    "    \n",
    "    teacher_train_acc.append(train_acc)\n",
    "    teacher_val_acc.append(val_acc)\n",
    "    teacher_train_loss.append(train_loss)\n",
    "    teacher_val_loss.append(val_loss)\n",
    "    \n",
    "    print(f\"Epoch {epoch+1}/20 - Eğitim Kaybı: {train_loss:.4f}, Eğitim Doğruluğu: {train_acc:.4f}, Doğrulama Kaybı: {val_loss:.4f}, Doğrulama Doğruluğu: {val_acc:.4f}\")\n",
    "    \n",
    "    scheduler.step(val_loss)\n",
    "    \n",
    "    if val_loss < best_val_loss:\n",
    "        best_val_loss = val_loss\n",
    "        counter = 0\n",
    "        torch.save(teacher_model.state_dict(), 'teacher_model.pth')\n",
    "    else:\n",
    "        counter += 1\n",
    "        if counter >= patience:\n",
    "            print(\"Erken durdurma tetiklendi\")\n",
    "            break\n",
    "\n",
    "teacher_training_time = time.time() - start_time\n",
    "print(f\"Öğretmen eğitimi {teacher_training_time:.2f} saniyede tamamlandı\")"
   ]
  },
  {
   "cell_type": "code",
   "execution_count": 5,
   "id": "020a529e-b2b9-41f1-b1a0-8934c537540b",
   "metadata": {},
   "outputs": [
    {
     "name": "stdout",
     "output_type": "stream",
     "text": [
      "Öğretmen modeli 'teacher_model.pth' dosyasından yüklendi\n",
      "ResNet50 öğretmen modeli değerlendiriliyor...\n"
     ]
    },
    {
     "name": "stderr",
     "output_type": "stream",
     "text": [
      "Değerlendirme: 100%|█████████████████████████████████████████████████████████████| 21567/21567 [14:18<00:00, 25.13it/s]\n"
     ]
    },
    {
     "name": "stdout",
     "output_type": "stream",
     "text": [
      "Öğretmen değerlendirmesi 858.17 saniyede tamamlandı\n",
      "Öğretmen Doğruluğu: 0.8097\n",
      "Öğretmen Kesinlik: 0.7860\n",
      "Öğretmen Duyarlılık: 0.8676\n",
      "Öğretmen F1-Skor: 0.8248\n",
      "Öğretmen ROC-AUC: 0.8936\n",
      "MesoNet öğrenci modeli oluşturuluyor...\n",
      "Bilgi damıtma için hazırlanıyor...\n",
      "MesoNet öğrenci modeli damıtma ile eğitiliyor...\n"
     ]
    },
    {
     "name": "stderr",
     "output_type": "stream",
     "text": [
      "Eğitim: 100%|████████████████████████████████████████████████████████████████████| 21567/21567 [37:42<00:00,  9.53it/s]\n",
      "Değerlendirme: 100%|█████████████████████████████████████████████████████████████| 21567/21567 [10:03<00:00, 35.74it/s]\n"
     ]
    },
    {
     "name": "stdout",
     "output_type": "stream",
     "text": [
      "Epoch 1/20 - Eğitim Kaybı: 0.5038, Eğitim Doğruluğu: 0.6470, Doğrulama Kaybı: 0.5954, Doğrulama Doğruluğu: 0.6650\n"
     ]
    },
    {
     "name": "stderr",
     "output_type": "stream",
     "text": [
      "Eğitim: 100%|████████████████████████████████████████████████████████████████████| 21567/21567 [36:32<00:00,  9.84it/s]\n",
      "Değerlendirme: 100%|█████████████████████████████████████████████████████████████| 21567/21567 [10:10<00:00, 35.35it/s]\n"
     ]
    },
    {
     "name": "stdout",
     "output_type": "stream",
     "text": [
      "Epoch 2/20 - Eğitim Kaybı: 0.4820, Eğitim Doğruluğu: 0.6556, Doğrulama Kaybı: 0.6081, Doğrulama Doğruluğu: 0.6627\n"
     ]
    },
    {
     "name": "stderr",
     "output_type": "stream",
     "text": [
      "Eğitim: 100%|████████████████████████████████████████████████████████████████████| 21567/21567 [39:57<00:00,  8.99it/s]\n",
      "Değerlendirme: 100%|█████████████████████████████████████████████████████████████| 21567/21567 [11:25<00:00, 31.44it/s]\n"
     ]
    },
    {
     "name": "stdout",
     "output_type": "stream",
     "text": [
      "Epoch 3/20 - Eğitim Kaybı: 0.4704, Eğitim Doğruluğu: 0.6619, Doğrulama Kaybı: 0.5952, Doğrulama Doğruluğu: 0.6736\n"
     ]
    },
    {
     "name": "stderr",
     "output_type": "stream",
     "text": [
      "Eğitim: 100%|████████████████████████████████████████████████████████████████████| 21567/21567 [39:17<00:00,  9.15it/s]\n",
      "Değerlendirme: 100%|█████████████████████████████████████████████████████████████| 21567/21567 [12:10<00:00, 29.54it/s]\n"
     ]
    },
    {
     "name": "stdout",
     "output_type": "stream",
     "text": [
      "Epoch 4/20 - Eğitim Kaybı: 0.4586, Eğitim Doğruluğu: 0.6659, Doğrulama Kaybı: 0.5786, Doğrulama Doğruluğu: 0.6842\n"
     ]
    },
    {
     "name": "stderr",
     "output_type": "stream",
     "text": [
      "Eğitim: 100%|████████████████████████████████████████████████████████████████████| 21567/21567 [37:59<00:00,  9.46it/s]\n",
      "Değerlendirme: 100%|█████████████████████████████████████████████████████████████| 21567/21567 [11:13<00:00, 32.05it/s]\n"
     ]
    },
    {
     "name": "stdout",
     "output_type": "stream",
     "text": [
      "Epoch 5/20 - Eğitim Kaybı: 0.4427, Eğitim Doğruluğu: 0.6730, Doğrulama Kaybı: 0.5673, Doğrulama Doğruluğu: 0.6906\n"
     ]
    },
    {
     "name": "stderr",
     "output_type": "stream",
     "text": [
      "Eğitim: 100%|████████████████████████████████████████████████████████████████████| 21567/21567 [38:46<00:00,  9.27it/s]\n",
      "Değerlendirme: 100%|█████████████████████████████████████████████████████████████| 21567/21567 [12:00<00:00, 29.93it/s]\n"
     ]
    },
    {
     "name": "stdout",
     "output_type": "stream",
     "text": [
      "Epoch 6/20 - Eğitim Kaybı: 0.4308, Eğitim Doğruluğu: 0.6818, Doğrulama Kaybı: 0.5620, Doğrulama Doğruluğu: 0.7007\n"
     ]
    },
    {
     "name": "stderr",
     "output_type": "stream",
     "text": [
      "Eğitim: 100%|████████████████████████████████████████████████████████████████████| 21567/21567 [38:13<00:00,  9.40it/s]\n",
      "Değerlendirme: 100%|█████████████████████████████████████████████████████████████| 21567/21567 [11:26<00:00, 31.43it/s]\n"
     ]
    },
    {
     "name": "stdout",
     "output_type": "stream",
     "text": [
      "Epoch 7/20 - Eğitim Kaybı: 0.4170, Eğitim Doğruluğu: 0.6896, Doğrulama Kaybı: 0.5431, Doğrulama Doğruluğu: 0.7148\n"
     ]
    },
    {
     "name": "stderr",
     "output_type": "stream",
     "text": [
      "Eğitim: 100%|████████████████████████████████████████████████████████████████████| 21567/21567 [39:01<00:00,  9.21it/s]\n",
      "Değerlendirme: 100%|█████████████████████████████████████████████████████████████| 21567/21567 [11:44<00:00, 30.59it/s]\n"
     ]
    },
    {
     "name": "stdout",
     "output_type": "stream",
     "text": [
      "Epoch 8/20 - Eğitim Kaybı: 0.3987, Eğitim Doğruluğu: 0.7036, Doğrulama Kaybı: 0.5375, Doğrulama Doğruluğu: 0.7217\n"
     ]
    },
    {
     "name": "stderr",
     "output_type": "stream",
     "text": [
      "Eğitim: 100%|████████████████████████████████████████████████████████████████████| 21567/21567 [38:05<00:00,  9.44it/s]\n",
      "Değerlendirme: 100%|█████████████████████████████████████████████████████████████| 21567/21567 [12:08<00:00, 29.61it/s]\n"
     ]
    },
    {
     "name": "stdout",
     "output_type": "stream",
     "text": [
      "Epoch 9/20 - Eğitim Kaybı: 0.3807, Eğitim Doğruluğu: 0.7130, Doğrulama Kaybı: 0.5496, Doğrulama Doğruluğu: 0.7101\n"
     ]
    },
    {
     "name": "stderr",
     "output_type": "stream",
     "text": [
      "Eğitim: 100%|████████████████████████████████████████████████████████████████████| 21567/21567 [35:34<00:00, 10.10it/s]\n",
      "Değerlendirme: 100%|█████████████████████████████████████████████████████████████| 21567/21567 [09:52<00:00, 36.39it/s]\n"
     ]
    },
    {
     "name": "stdout",
     "output_type": "stream",
     "text": [
      "Epoch 10/20 - Eğitim Kaybı: 0.3729, Eğitim Doğruluğu: 0.7181, Doğrulama Kaybı: 0.5050, Doğrulama Doğruluğu: 0.7378\n"
     ]
    },
    {
     "name": "stderr",
     "output_type": "stream",
     "text": [
      "Eğitim: 100%|████████████████████████████████████████████████████████████████████| 21567/21567 [34:04<00:00, 10.55it/s]\n",
      "Değerlendirme: 100%|█████████████████████████████████████████████████████████████| 21567/21567 [09:53<00:00, 36.36it/s]\n"
     ]
    },
    {
     "name": "stdout",
     "output_type": "stream",
     "text": [
      "Epoch 11/20 - Eğitim Kaybı: 0.3634, Eğitim Doğruluğu: 0.7222, Doğrulama Kaybı: 0.5337, Doğrulama Doğruluğu: 0.7174\n"
     ]
    },
    {
     "name": "stderr",
     "output_type": "stream",
     "text": [
      "Eğitim: 100%|████████████████████████████████████████████████████████████████████| 21567/21567 [34:03<00:00, 10.56it/s]\n",
      "Değerlendirme: 100%|█████████████████████████████████████████████████████████████| 21567/21567 [09:51<00:00, 36.46it/s]\n"
     ]
    },
    {
     "name": "stdout",
     "output_type": "stream",
     "text": [
      "Epoch 12/20 - Eğitim Kaybı: 0.3559, Eğitim Doğruluğu: 0.7267, Doğrulama Kaybı: 0.4987, Doğrulama Doğruluğu: 0.7451\n"
     ]
    },
    {
     "name": "stderr",
     "output_type": "stream",
     "text": [
      "Eğitim: 100%|████████████████████████████████████████████████████████████████████| 21567/21567 [34:03<00:00, 10.55it/s]\n",
      "Değerlendirme: 100%|█████████████████████████████████████████████████████████████| 21567/21567 [09:56<00:00, 36.15it/s]\n"
     ]
    },
    {
     "name": "stdout",
     "output_type": "stream",
     "text": [
      "Epoch 13/20 - Eğitim Kaybı: 0.3510, Eğitim Doğruluğu: 0.7290, Doğrulama Kaybı: 0.4879, Doğrulama Doğruluğu: 0.7501\n"
     ]
    },
    {
     "name": "stderr",
     "output_type": "stream",
     "text": [
      "Eğitim: 100%|████████████████████████████████████████████████████████████████████| 21567/21567 [34:09<00:00, 10.52it/s]\n",
      "Değerlendirme: 100%|█████████████████████████████████████████████████████████████| 21567/21567 [10:19<00:00, 34.84it/s]\n"
     ]
    },
    {
     "name": "stdout",
     "output_type": "stream",
     "text": [
      "Epoch 14/20 - Eğitim Kaybı: 0.3451, Eğitim Doğruluğu: 0.7338, Doğrulama Kaybı: 0.4936, Doğrulama Doğruluğu: 0.7531\n"
     ]
    },
    {
     "name": "stderr",
     "output_type": "stream",
     "text": [
      "Eğitim: 100%|████████████████████████████████████████████████████████████████████| 21567/21567 [34:24<00:00, 10.45it/s]\n",
      "Değerlendirme: 100%|█████████████████████████████████████████████████████████████| 21567/21567 [09:58<00:00, 36.05it/s]\n"
     ]
    },
    {
     "name": "stdout",
     "output_type": "stream",
     "text": [
      "Epoch 15/20 - Eğitim Kaybı: 0.3416, Eğitim Doğruluğu: 0.7377, Doğrulama Kaybı: 0.4900, Doğrulama Doğruluğu: 0.7400\n"
     ]
    },
    {
     "name": "stderr",
     "output_type": "stream",
     "text": [
      "Eğitim: 100%|████████████████████████████████████████████████████████████████████| 21567/21567 [34:17<00:00, 10.48it/s]\n",
      "Değerlendirme: 100%|█████████████████████████████████████████████████████████████| 21567/21567 [09:53<00:00, 36.35it/s]\n"
     ]
    },
    {
     "name": "stdout",
     "output_type": "stream",
     "text": [
      "Epoch 16/20 - Eğitim Kaybı: 0.3386, Eğitim Doğruluğu: 0.7395, Doğrulama Kaybı: 0.4887, Doğrulama Doğruluğu: 0.7521\n"
     ]
    },
    {
     "name": "stderr",
     "output_type": "stream",
     "text": [
      "Eğitim: 100%|████████████████████████████████████████████████████████████████████| 21567/21567 [34:44<00:00, 10.35it/s]\n",
      "Değerlendirme: 100%|█████████████████████████████████████████████████████████████| 21567/21567 [10:36<00:00, 33.90it/s]\n"
     ]
    },
    {
     "name": "stdout",
     "output_type": "stream",
     "text": [
      "Epoch 17/20 - Eğitim Kaybı: 0.3344, Eğitim Doğruluğu: 0.7432, Doğrulama Kaybı: 0.5027, Doğrulama Doğruluğu: 0.7341\n"
     ]
    },
    {
     "name": "stderr",
     "output_type": "stream",
     "text": [
      "Eğitim: 100%|████████████████████████████████████████████████████████████████████| 21567/21567 [34:41<00:00, 10.36it/s]\n",
      "Değerlendirme: 100%|█████████████████████████████████████████████████████████████| 21567/21567 [10:42<00:00, 33.55it/s]\n"
     ]
    },
    {
     "name": "stdout",
     "output_type": "stream",
     "text": [
      "Epoch 18/20 - Eğitim Kaybı: 0.3210, Eğitim Doğruluğu: 0.7520, Doğrulama Kaybı: 0.4765, Doğrulama Doğruluğu: 0.7560\n"
     ]
    },
    {
     "name": "stderr",
     "output_type": "stream",
     "text": [
      "Eğitim: 100%|████████████████████████████████████████████████████████████████████| 21567/21567 [34:51<00:00, 10.31it/s]\n",
      "Değerlendirme: 100%|█████████████████████████████████████████████████████████████| 21567/21567 [10:38<00:00, 33.76it/s]\n"
     ]
    },
    {
     "name": "stdout",
     "output_type": "stream",
     "text": [
      "Epoch 19/20 - Eğitim Kaybı: 0.3191, Eğitim Doğruluğu: 0.7550, Doğrulama Kaybı: 0.4613, Doğrulama Doğruluğu: 0.7717\n"
     ]
    },
    {
     "name": "stderr",
     "output_type": "stream",
     "text": [
      "Eğitim: 100%|████████████████████████████████████████████████████████████████████| 21567/21567 [34:54<00:00, 10.30it/s]\n",
      "Değerlendirme: 100%|█████████████████████████████████████████████████████████████| 21567/21567 [10:45<00:00, 33.42it/s]\n"
     ]
    },
    {
     "name": "stdout",
     "output_type": "stream",
     "text": [
      "Epoch 20/20 - Eğitim Kaybı: 0.3184, Eğitim Doğruluğu: 0.7556, Doğrulama Kaybı: 0.4687, Doğrulama Doğruluğu: 0.7596\n",
      "Öğrenci eğitimi 56416.89 saniyede tamamlandı\n",
      "Öğrenci modeli 'student_model.pth' olarak kaydedildi\n",
      "MesoNet öğrenci modeli değerlendiriliyor...\n"
     ]
    },
    {
     "name": "stderr",
     "output_type": "stream",
     "text": [
      "Değerlendirme: 100%|█████████████████████████████████████████████████████████████| 21567/21567 [12:32<00:00, 28.64it/s]\n"
     ]
    },
    {
     "name": "stdout",
     "output_type": "stream",
     "text": [
      "Öğrenci değerlendirmesi 752.98 saniyede tamamlandı\n",
      "Öğrenci Doğruluğu: 0.7717\n",
      "Öğrenci Kesinlik: 0.7461\n",
      "Öğrenci Duyarlılık: 0.8456\n",
      "Öğrenci F1-Skor: 0.7927\n",
      "Öğrenci ROC-AUC: 0.8619\n",
      "MesoNet öğrenci modeline budama uygulanıyor...\n",
      "Budanmış MesoNet modeli ince ayar yapılıyor...\n"
     ]
    },
    {
     "name": "stderr",
     "output_type": "stream",
     "text": [
      "Eğitim: 100%|████████████████████████████████████████████████████████████████████| 21567/21567 [33:02<00:00, 10.88it/s]\n",
      "Değerlendirme: 100%|█████████████████████████████████████████████████████████████| 21567/21567 [11:04<00:00, 32.45it/s]\n"
     ]
    },
    {
     "name": "stdout",
     "output_type": "stream",
     "text": [
      "Epoch 1/15 - Eğitim Kaybı: 0.5717, Eğitim Doğruluğu: 0.7005, Doğrulama Kaybı: 0.5175, Doğrulama Doğruluğu: 0.7397\n"
     ]
    },
    {
     "name": "stderr",
     "output_type": "stream",
     "text": [
      "Eğitim: 100%|████████████████████████████████████████████████████████████████████| 21567/21567 [33:23<00:00, 10.76it/s]\n",
      "Değerlendirme: 100%|█████████████████████████████████████████████████████████████| 21567/21567 [11:10<00:00, 32.15it/s]\n"
     ]
    },
    {
     "name": "stdout",
     "output_type": "stream",
     "text": [
      "Epoch 2/15 - Eğitim Kaybı: 0.5321, Eğitim Doğruluğu: 0.7332, Doğrulama Kaybı: 0.4964, Doğrulama Doğruluğu: 0.7556\n"
     ]
    },
    {
     "name": "stderr",
     "output_type": "stream",
     "text": [
      "Eğitim: 100%|████████████████████████████████████████████████████████████████████| 21567/21567 [34:22<00:00, 10.46it/s]\n",
      "Değerlendirme: 100%|█████████████████████████████████████████████████████████████| 21567/21567 [10:36<00:00, 33.86it/s]\n"
     ]
    },
    {
     "name": "stdout",
     "output_type": "stream",
     "text": [
      "Epoch 3/15 - Eğitim Kaybı: 0.5243, Eğitim Doğruluğu: 0.7391, Doğrulama Kaybı: 0.4983, Doğrulama Doğruluğu: 0.7533\n"
     ]
    },
    {
     "name": "stderr",
     "output_type": "stream",
     "text": [
      "Eğitim: 100%|████████████████████████████████████████████████████████████████████| 21567/21567 [32:27<00:00, 11.08it/s]\n",
      "Değerlendirme: 100%|█████████████████████████████████████████████████████████████| 21567/21567 [10:08<00:00, 35.44it/s]\n"
     ]
    },
    {
     "name": "stdout",
     "output_type": "stream",
     "text": [
      "Epoch 4/15 - Eğitim Kaybı: 0.5217, Eğitim Doğruluğu: 0.7408, Doğrulama Kaybı: 0.4944, Doğrulama Doğruluğu: 0.7554\n"
     ]
    },
    {
     "name": "stderr",
     "output_type": "stream",
     "text": [
      "Eğitim: 100%|████████████████████████████████████████████████████████████████████| 21567/21567 [32:00<00:00, 11.23it/s]\n",
      "Değerlendirme: 100%|█████████████████████████████████████████████████████████████| 21567/21567 [10:47<00:00, 33.30it/s]\n"
     ]
    },
    {
     "name": "stdout",
     "output_type": "stream",
     "text": [
      "Epoch 5/15 - Eğitim Kaybı: 0.5191, Eğitim Doğruluğu: 0.7429, Doğrulama Kaybı: 0.5019, Doğrulama Doğruluğu: 0.7499\n"
     ]
    },
    {
     "name": "stderr",
     "output_type": "stream",
     "text": [
      "Eğitim: 100%|████████████████████████████████████████████████████████████████████| 21567/21567 [33:19<00:00, 10.78it/s]\n",
      "Değerlendirme: 100%|█████████████████████████████████████████████████████████████| 21567/21567 [10:55<00:00, 32.91it/s]\n"
     ]
    },
    {
     "name": "stdout",
     "output_type": "stream",
     "text": [
      "Epoch 6/15 - Eğitim Kaybı: 0.5165, Eğitim Doğruluğu: 0.7444, Doğrulama Kaybı: 0.4780, Doğrulama Doğruluğu: 0.7693\n"
     ]
    },
    {
     "name": "stderr",
     "output_type": "stream",
     "text": [
      "Eğitim: 100%|████████████████████████████████████████████████████████████████████| 21567/21567 [38:48<00:00,  9.26it/s]\n",
      "Değerlendirme: 100%|█████████████████████████████████████████████████████████████| 21567/21567 [12:39<00:00, 28.40it/s]\n"
     ]
    },
    {
     "name": "stdout",
     "output_type": "stream",
     "text": [
      "Epoch 7/15 - Eğitim Kaybı: 0.5144, Eğitim Doğruluğu: 0.7465, Doğrulama Kaybı: 0.4738, Doğrulama Doğruluğu: 0.7724\n"
     ]
    },
    {
     "name": "stderr",
     "output_type": "stream",
     "text": [
      "Eğitim: 100%|████████████████████████████████████████████████████████████████████| 21567/21567 [38:40<00:00,  9.30it/s]\n",
      "Değerlendirme: 100%|█████████████████████████████████████████████████████████████| 21567/21567 [11:43<00:00, 30.64it/s]\n"
     ]
    },
    {
     "name": "stdout",
     "output_type": "stream",
     "text": [
      "Epoch 8/15 - Eğitim Kaybı: 0.5131, Eğitim Doğruluğu: 0.7474, Doğrulama Kaybı: 0.4817, Doğrulama Doğruluğu: 0.7648\n"
     ]
    },
    {
     "name": "stderr",
     "output_type": "stream",
     "text": [
      "Eğitim: 100%|████████████████████████████████████████████████████████████████████| 21567/21567 [38:12<00:00,  9.41it/s]\n",
      "Değerlendirme: 100%|█████████████████████████████████████████████████████████████| 21567/21567 [11:11<00:00, 32.10it/s]\n"
     ]
    },
    {
     "name": "stdout",
     "output_type": "stream",
     "text": [
      "Epoch 9/15 - Eğitim Kaybı: 0.5110, Eğitim Doğruluğu: 0.7486, Doğrulama Kaybı: 0.4642, Doğrulama Doğruluğu: 0.7792\n"
     ]
    },
    {
     "name": "stderr",
     "output_type": "stream",
     "text": [
      "Eğitim: 100%|████████████████████████████████████████████████████████████████████| 21567/21567 [35:38<00:00, 10.08it/s]\n",
      "Değerlendirme: 100%|█████████████████████████████████████████████████████████████| 21567/21567 [09:47<00:00, 36.71it/s]\n"
     ]
    },
    {
     "name": "stdout",
     "output_type": "stream",
     "text": [
      "Epoch 10/15 - Eğitim Kaybı: 0.5095, Eğitim Doğruluğu: 0.7501, Doğrulama Kaybı: 0.4719, Doğrulama Doğruluğu: 0.7725\n"
     ]
    },
    {
     "name": "stderr",
     "output_type": "stream",
     "text": [
      "Eğitim: 100%|████████████████████████████████████████████████████████████████████| 21567/21567 [35:44<00:00, 10.06it/s]\n",
      "Değerlendirme: 100%|█████████████████████████████████████████████████████████████| 21567/21567 [09:47<00:00, 36.73it/s]\n"
     ]
    },
    {
     "name": "stdout",
     "output_type": "stream",
     "text": [
      "Epoch 11/15 - Eğitim Kaybı: 0.5079, Eğitim Doğruluğu: 0.7512, Doğrulama Kaybı: 0.4647, Doğrulama Doğruluğu: 0.7783\n"
     ]
    },
    {
     "name": "stderr",
     "output_type": "stream",
     "text": [
      "Eğitim: 100%|████████████████████████████████████████████████████████████████████| 21567/21567 [35:27<00:00, 10.14it/s]\n",
      "Değerlendirme: 100%|█████████████████████████████████████████████████████████████| 21567/21567 [10:02<00:00, 35.79it/s]\n"
     ]
    },
    {
     "name": "stdout",
     "output_type": "stream",
     "text": [
      "Epoch 12/15 - Eğitim Kaybı: 0.5072, Eğitim Doğruluğu: 0.7516, Doğrulama Kaybı: 0.4705, Doğrulama Doğruluğu: 0.7734\n"
     ]
    },
    {
     "name": "stderr",
     "output_type": "stream",
     "text": [
      "Eğitim: 100%|████████████████████████████████████████████████████████████████████| 21567/21567 [35:31<00:00, 10.12it/s]\n",
      "Değerlendirme: 100%|█████████████████████████████████████████████████████████████| 21567/21567 [09:46<00:00, 36.78it/s]\n"
     ]
    },
    {
     "name": "stdout",
     "output_type": "stream",
     "text": [
      "Epoch 13/15 - Eğitim Kaybı: 0.5063, Eğitim Doğruluğu: 0.7520, Doğrulama Kaybı: 0.4729, Doğrulama Doğruluğu: 0.7712\n"
     ]
    },
    {
     "name": "stderr",
     "output_type": "stream",
     "text": [
      "Eğitim: 100%|████████████████████████████████████████████████████████████████████| 21567/21567 [35:42<00:00, 10.07it/s]\n",
      "Değerlendirme: 100%|█████████████████████████████████████████████████████████████| 21567/21567 [09:50<00:00, 36.51it/s]\n"
     ]
    },
    {
     "name": "stdout",
     "output_type": "stream",
     "text": [
      "Epoch 14/15 - Eğitim Kaybı: 0.5032, Eğitim Doğruluğu: 0.7550, Doğrulama Kaybı: 0.4665, Doğrulama Doğruluğu: 0.7766\n",
      "Erken durdurma tetiklendi\n",
      "Budanmış model eğitimi 38515.21 saniyede tamamlandı\n",
      "Budanmış model 'pruned_model.pth' olarak kaydedildi\n",
      "Budanmış MesoNet modeli değerlendiriliyor...\n"
     ]
    },
    {
     "name": "stderr",
     "output_type": "stream",
     "text": [
      "Değerlendirme: 100%|█████████████████████████████████████████████████████████████| 21567/21567 [09:53<00:00, 36.35it/s]\n"
     ]
    },
    {
     "name": "stdout",
     "output_type": "stream",
     "text": [
      "Budanmış değerlendirme 593.32 saniyede tamamlandı\n",
      "Budanmış Doğruluğu: 0.7792\n",
      "Budanmış Kesinlik: 0.7287\n",
      "Budanmış Duyarlılık: 0.9119\n",
      "Budanmış F1-Skor: 0.8101\n",
      "Budanmış ROC-AUC: 0.8576\n",
      "Eğitim geçmişi grafikleri oluşturuluyor...\n"
     ]
    },
    {
     "data": {
      "image/png": "[encoded data removed]",
      "text/plain": [
       "<Figure size 1200x400 with 2 Axes>"
      ]
     },
     "metadata": {},
     "output_type": "display_data"
    },
    {
     "name": "stdout",
     "output_type": "stream",
     "text": [
      "Eğitim geçmişi grafiği 'training_history.png' olarak kaydedildi\n"
     ]
    }
   ],
   "source": [
    "# En iyi öğretmen modelini yükle\n",
    "teacher_model.load_state_dict(torch.load('teacher_model.pth'))\n",
    "print(\"Öğretmen modeli 'teacher_model.pth' dosyasından yüklendi\")\n",
    "\n",
    "# Öğretmen modelini değerlendir\n",
    "print(\"ResNet50 öğretmen modeli değerlendiriliyor...\")\n",
    "start_time = time.time()\n",
    "_, teacher_accuracy, teacher_pred_labels, teacher_true_labels, teacher_probs = evaluate_model(teacher_model, test_loader, criterion, device)\n",
    "teacher_test_time = time.time() - start_time\n",
    "\n",
    "teacher_precision = precision_score(teacher_true_labels, teacher_pred_labels, zero_division=0)\n",
    "teacher_recall = recall_score(teacher_true_labels, teacher_pred_labels, zero_division=0)\n",
    "teacher_f1 = f1_score(teacher_true_labels, teacher_pred_labels, zero_division=0)\n",
    "teacher_roc_auc = roc_auc_score(teacher_true_labels, teacher_probs)\n",
    "\n",
    "print(f\"Öğretmen değerlendirmesi {teacher_test_time:.2f} saniyede tamamlandı\")\n",
    "print(f\"Öğretmen Doğruluğu: {teacher_accuracy:.4f}\")\n",
    "print(f\"Öğretmen Kesinlik: {teacher_precision:.4f}\")\n",
    "print(f\"Öğretmen Duyarlılık: {teacher_recall:.4f}\")\n",
    "print(f\"Öğretmen F1-Skor: {teacher_f1:.4f}\")\n",
    "print(f\"Öğretmen ROC-AUC: {teacher_roc_auc:.4f}\")\n",
    "\n",
    "# Öğrenci Model: MesoNet\n",
    "print(\"MesoNet öğrenci modeli oluşturuluyor...\")\n",
    "class MesoNet(nn.Module):\n",
    "    def __init__(self):\n",
    "        super(MesoNet, self).__init__()\n",
    "        self.conv1 = nn.Conv2d(3, 8, kernel_size=3, padding=1)\n",
    "        self.bn1 = nn.BatchNorm2d(8)\n",
    "        self.conv2 = nn.Conv2d(8, 8, kernel_size=5, padding=2)\n",
    "        self.bn2 = nn.BatchNorm2d(8)\n",
    "        self.conv3 = nn.Conv2d(8, 16, kernel_size=5, padding=2)\n",
    "        self.bn3 = nn.BatchNorm2d(16)\n",
    "        self.conv4 = nn.Conv2d(16, 16, kernel_size=5, padding=2)\n",
    "        self.bn4 = nn.BatchNorm2d(16)\n",
    "        self.relu = nn.ReLU()\n",
    "        self.pool = nn.AdaptiveAvgPool2d(1)\n",
    "        self.fc1 = nn.Linear(16, 16)\n",
    "        self.dropout = nn.Dropout(0.5)\n",
    "        self.fc2 = nn.Linear(16, 2)\n",
    "    \n",
    "    def forward(self, x):\n",
    "        x = self.relu(self.bn1(self.conv1(x)))\n",
    "        x = self.relu(self.bn2(self.conv2(x)))\n",
    "        x = self.relu(self.bn3(self.conv3(x)))\n",
    "        x = self.relu(self.bn4(self.conv4(x)))\n",
    "        x = self.pool(x)\n",
    "        x = x.view(x.size(0), -1)\n",
    "        x = self.relu(self.fc1(x))\n",
    "        x = self.dropout(x)\n",
    "        x = self.fc2(x)\n",
    "        return x\n",
    "\n",
    "student_model = MesoNet().to(device)\n",
    "\n",
    "# Bilgi Damıtma (Knowledge Distillation)\n",
    "print(\"Bilgi damıtma için hazırlanıyor...\")\n",
    "def distillation_loss(y_true, y_pred, teacher_logits, temperature=3.0, alpha=0.1):\n",
    "    teacher_probs = torch.softmax(teacher_logits / temperature, dim=1)\n",
    "    student_probs = torch.softmax(y_pred / temperature, dim=1)\n",
    "    distill_loss = nn.KLDivLoss(reduction='batchmean')(torch.log(student_probs), teacher_probs) * (temperature ** 2)\n",
    "    student_loss = nn.CrossEntropyLoss()(y_pred, y_true)\n",
    "    return alpha * student_loss + (1 - alpha) * distill_loss\n",
    "\n",
    "# Öğrenci modelini damıtma ile eğit\n",
    "print(\"MesoNet öğrenci modeli damıtma ile eğitiliyor...\")\n",
    "optimizer = optim.Adam(student_model.parameters(), lr=0.001)\n",
    "scheduler = optim.lr_scheduler.ReduceLROnPlateau(optimizer, factor=0.2, patience=3)\n",
    "scaler = GradScaler()\n",
    "\n",
    "start_time = time.time()\n",
    "student_train_acc = []\n",
    "student_val_acc = []\n",
    "student_train_loss = []\n",
    "student_val_loss = []\n",
    "\n",
    "def train_distillation(student, teacher, train_loader, criterion, optimizer, device, temperature=3.0, alpha=0.1):\n",
    "    student.train()\n",
    "    teacher.eval()\n",
    "    running_loss = 0.0\n",
    "    correct = 0\n",
    "    total = 0\n",
    "    for images, labels in tqdm(train_loader, desc=\"Eğitim\"):\n",
    "        images, labels = images.to(device, non_blocking=True), labels.to(device, non_blocking=True)\n",
    "        optimizer.zero_grad()\n",
    "        with torch.no_grad():\n",
    "            with autocast():\n",
    "                teacher_logits = teacher(images)\n",
    "        with autocast():\n",
    "            student_logits = student(images)\n",
    "            loss = distillation_loss(labels, student_logits, teacher_logits, temperature, alpha)\n",
    "        scaler.scale(loss).backward()\n",
    "        scaler.step(optimizer)\n",
    "        scaler.update()\n",
    "        running_loss += loss.item()\n",
    "        _, predicted = torch.max(student_logits, 1)\n",
    "        total += labels.size(0)\n",
    "        correct += (predicted == labels).sum().item()\n",
    "    epoch_loss = running_loss / len(train_loader)\n",
    "    epoch_acc = correct / total\n",
    "    return epoch_loss, epoch_acc\n",
    "\n",
    "best_val_loss = float('inf')\n",
    "counter = 0\n",
    "\n",
    "for epoch in range(20):\n",
    "    train_loss, train_acc = train_distillation(student_model, teacher_model, train_loader, criterion, optimizer, device)\n",
    "    val_loss, val_acc, _, _, _ = evaluate_model(student_model, test_loader, criterion, device)\n",
    "    \n",
    "    student_train_acc.append(train_acc)\n",
    "    student_val_acc.append(val_acc)\n",
    "    student_train_loss.append(train_loss)\n",
    "    student_val_loss.append(val_loss)\n",
    "    \n",
    "    print(f\"Epoch {epoch+1}/20 - Eğitim Kaybı: {train_loss:.4f}, Eğitim Doğruluğu: {train_acc:.4f}, Doğrulama Kaybı: {val_loss:.4f}, Doğrulama Doğruluğu: {val_acc:.4f}\")\n",
    "    \n",
    "    scheduler.step(val_loss)\n",
    "    \n",
    "    if val_loss < best_val_loss:\n",
    "        best_val_loss = val_loss\n",
    "        counter = 0\n",
    "        torch.save(student_model.state_dict(), 'student_model.pth')\n",
    "    else:\n",
    "        counter += 1\n",
    "        if counter >= patience:\n",
    "            print(\"Erken durdurma tetiklendi\")\n",
    "            break\n",
    "\n",
    "student_training_time = time.time() - start_time\n",
    "print(f\"Öğrenci eğitimi {student_training_time:.2f} saniyede tamamlandı\")\n",
    "\n",
    "# En iyi öğrenci modelini yükle\n",
    "student_model.load_state_dict(torch.load('student_model.pth'))\n",
    "print(\"Öğrenci modeli 'student_model.pth' olarak kaydedildi\")\n",
    "\n",
    "# Öğrenci modelini değerlendir\n",
    "print(\"MesoNet öğrenci modeli değerlendiriliyor...\")\n",
    "start_time = time.time()\n",
    "_, student_accuracy, student_pred_labels, student_true_labels, student_probs = evaluate_model(student_model, test_loader, criterion, device)\n",
    "student_test_time = time.time() - start_time\n",
    "\n",
    "student_precision = precision_score(student_true_labels, student_pred_labels, zero_division=0)\n",
    "student_recall = recall_score(student_true_labels, student_pred_labels, zero_division=0)\n",
    "student_f1 = f1_score(student_true_labels, student_pred_labels, zero_division=0)\n",
    "student_roc_auc = roc_auc_score(student_true_labels, student_probs)\n",
    "\n",
    "print(f\"Öğrenci değerlendirmesi {student_test_time:.2f} saniyede tamamlandı\")\n",
    "print(f\"Öğrenci Doğruluğu: {student_accuracy:.4f}\")\n",
    "print(f\"Öğrenci Kesinlik: {student_precision:.4f}\")\n",
    "print(f\"Öğrenci Duyarlılık: {student_recall:.4f}\")\n",
    "print(f\"Öğrenci F1-Skor: {student_f1:.4f}\")\n",
    "print(f\"Öğrenci ROC-AUC: {student_roc_auc:.4f}\")\n",
    "\n",
    "# Budama\n",
    "print(\"MesoNet öğrenci modeline budama uygulanıyor...\")\n",
    "def apply_pruning(model, amount=0.5):\n",
    "    for name, module in model.named_modules():\n",
    "        if isinstance(module, nn.Conv2d) or isinstance(module, nn.Linear):\n",
    "            prune.l1_unstructured(module, name='weight', amount=amount)\n",
    "    return model\n",
    "\n",
    "pruned_model = apply_pruning(student_model, amount=0.5)\n",
    "\n",
    "# Budanmış modeli ince ayarla\n",
    "print(\"Budanmış MesoNet modeli ince ayar yapılıyor...\")\n",
    "optimizer = optim.Adam(pruned_model.parameters(), lr=0.0001)\n",
    "scheduler = optim.lr_scheduler.ReduceLROnPlateau(optimizer, factor=0.2, patience=3)\n",
    "scaler = GradScaler()\n",
    "\n",
    "start_time = time.time()\n",
    "pruned_train_acc = []\n",
    "pruned_val_acc = []\n",
    "pruned_train_loss = []\n",
    "pruned_val_loss = []\n",
    "\n",
    "best_val_loss = float('inf')\n",
    "counter = 0\n",
    "\n",
    "for epoch in range(15):\n",
    "    train_loss, train_acc = train_model(pruned_model, train_loader, criterion, optimizer, device)\n",
    "    val_loss, val_acc, _, _, _ = evaluate_model(pruned_model, test_loader, criterion, device)\n",
    "    \n",
    "    pruned_train_acc.append(train_acc)\n",
    "    pruned_val_acc.append(val_acc)\n",
    "    pruned_train_loss.append(train_loss)\n",
    "    pruned_val_loss.append(val_loss)\n",
    "    \n",
    "    print(f\"Epoch {epoch+1}/15 - Eğitim Kaybı: {train_loss:.4f}, Eğitim Doğruluğu: {train_acc:.4f}, Doğrulama Kaybı: {val_loss:.4f}, Doğrulama Doğruluğu: {val_acc:.4f}\")\n",
    "    \n",
    "    scheduler.step(val_loss)\n",
    "    \n",
    "    if val_loss < best_val_loss:\n",
    "        best_val_loss = val_loss\n",
    "        counter = 0\n",
    "        torch.save(pruned_model.state_dict(), 'pruned_model.pth')\n",
    "    else:\n",
    "        counter += 1\n",
    "        if counter >= patience:\n",
    "            print(\"Erken durdurma tetiklendi\")\n",
    "            break\n",
    "\n",
    "pruned_training_time = time.time() - start_time\n",
    "print(f\"Budanmış model eğitimi {pruned_training_time:.2f} saniyede tamamlandı\")\n",
    "\n",
    "# En iyi budanmış modeli yükle\n",
    "pruned_model.load_state_dict(torch.load('pruned_model.pth'))\n",
    "print(\"Budanmış model 'pruned_model.pth' olarak kaydedildi\")\n",
    "\n",
    "# Budanmış modeli değerlendir\n",
    "print(\"Budanmış MesoNet modeli değerlendiriliyor...\")\n",
    "start_time = time.time()\n",
    "_, pruned_accuracy, pruned_pred_labels, pruned_true_labels, pruned_probs = evaluate_model(pruned_model, test_loader, criterion, device)\n",
    "pruned_test_time = time.time() - start_time\n",
    "\n",
    "pruned_precision = precision_score(pruned_true_labels, pruned_pred_labels, zero_division=0)\n",
    "pruned_recall = recall_score(pruned_true_labels, pruned_pred_labels, zero_division=0)\n",
    "pruned_f1 = f1_score(pruned_true_labels, pruned_pred_labels, zero_division=0)\n",
    "pruned_roc_auc = roc_auc_score(pruned_true_labels, pruned_probs)\n",
    "\n",
    "print(f\"Budanmış değerlendirme {pruned_test_time:.2f} saniyede tamamlandı\")\n",
    "print(f\"Budanmış Doğruluğu: {pruned_accuracy:.4f}\")\n",
    "print(f\"Budanmış Kesinlik: {pruned_precision:.4f}\")\n",
    "print(f\"Budanmış Duyarlılık: {pruned_recall:.4f}\")\n",
    "print(f\"Budanmış F1-Skor: {pruned_f1:.4f}\")\n",
    "print(f\"Budanmış ROC-AUC: {pruned_roc_auc:.4f}\")\n",
    "\n",
    "# Grafik çizimi\n",
    "print(\"Eğitim geçmişi grafikleri oluşturuluyor...\")\n",
    "plt.figure(figsize=(12, 4))\n",
    "plt.subplot(1, 2, 1)\n",
    "plt.plot(teacher_train_acc, label='Öğretmen Eğitim Doğruluğu')\n",
    "plt.plot(teacher_val_acc, label='Öğretmen Doğrulama Doğruluğu')\n",
    "plt.plot(student_train_acc, label='Öğrenci Eğitim Doğruluğu')\n",
    "plt.plot(student_val_acc, label='Öğrenci Doğrulama Doğruluğu')\n",
    "plt.plot(pruned_train_acc, label='Budanmış Eğitim Doğruluğu')\n",
    "plt.plot(pruned_val_acc, label='Budanmış Doğrulama Doğruluğu')\n",
    "plt.title('Model Doğrulukları')\n",
    "plt.xlabel('Epoch')\n",
    "plt.ylabel('Doğruluk')\n",
    "plt.legend()\n",
    "\n",
    "plt.subplot(1, 2, 2)\n",
    "plt.plot(teacher_train_loss, label='Öğretmen Eğitim Kaybı')\n",
    "plt.plot(teacher_val_loss, label='Öğretmen Doğrulama Kaybı')\n",
    "plt.plot(student_train_loss, label='Öğrenci Eğitim Kaybı')\n",
    "plt.plot(student_val_loss, label='Öğrenci Doğrulama Kaybı')\n",
    "plt.plot(pruned_train_loss, label='Budanmış Eğitim Kaybı')\n",
    "plt.plot(pruned_val_loss, label='Budanmış Doğrulama Kaybı')\n",
    "plt.title('Model Kayıpları')\n",
    "plt.xlabel('Epoch')\n",
    "plt.ylabel('Kayıp')\n",
    "plt.legend()\n",
    "\n",
    "plt.tight_layout()\n",
    "plt.savefig('training_history.png')\n",
    "plt.show()\n",
    "print(\"Eğitim geçmişi grafiği 'training_history.png' olarak kaydedildi\")"
   ]
  },
  {
   "cell_type": "code",
   "execution_count": null,
   "id": "857bcbb8-f869-4e01-9b48-e87bde2c14cd",
   "metadata": {},
   "outputs": [],
   "source": []
  }
 ],
 "metadata": {
  "kernelspec": {
   "display_name": "Python 3 (ipykernel)",
   "language": "python",
   "name": "python3"
  },
  "language_info": {
   "codemirror_mode": {
    "name": "ipython",
    "version": 3
   },
   "file_extension": ".py",
   "mimetype": "text/x-python",
   "name": "python",
   "nbconvert_exporter": "python",
   "pygments_lexer": "ipython3",
   "version": "3.11.7"
  }
 },
 "nbformat": 4,
 "nbformat_minor": 5
}
