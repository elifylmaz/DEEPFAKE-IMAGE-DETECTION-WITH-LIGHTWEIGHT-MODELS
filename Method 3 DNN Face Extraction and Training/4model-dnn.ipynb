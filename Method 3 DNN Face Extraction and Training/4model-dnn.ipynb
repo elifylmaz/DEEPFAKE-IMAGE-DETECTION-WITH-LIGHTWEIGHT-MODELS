{
 "cells": [
  {
   "cell_type": "code",
   "execution_count": 1,
   "id": "e0c25f5a-7139-4cc2-9adc-356aa6f34d49",
   "metadata": {},
   "outputs": [
    {
     "name": "stdout",
     "output_type": "stream",
     "text": [
      "GPU kullanılabilir: True\n",
      "GPU adı: NVIDIA GeForce RTX 4060\n"
     ]
    }
   ],
   "source": [
    "import torch\n",
    "print(\"GPU kullanılabilir:\", torch.cuda.is_available())\n",
    "print(\"GPU adı:\", torch.cuda.get_device_name(0) if torch.cuda.is_available() else \"Yok\")"
   ]
  },
  {
   "cell_type": "code",
   "execution_count": 7,
   "id": "752b7559-ca84-42b9-a5f1-e00c67fa3ef5",
   "metadata": {},
   "outputs": [
    {
     "name": "stdout",
     "output_type": "stream",
     "text": [
      "Collecting matplotlib==3.5.2\n",
      "  Downloading matplotlib-3.5.2-cp39-cp39-win_amd64.whl.metadata (6.7 kB)\n",
      "Collecting tqdm==4.66.1\n",
      "  Downloading tqdm-4.66.1-py3-none-any.whl.metadata (57 kB)\n",
      "Collecting cycler>=0.10 (from matplotlib==3.5.2)\n",
      "  Using cached cycler-0.12.1-py3-none-any.whl.metadata (3.8 kB)\n",
      "Collecting fonttools>=4.22.0 (from matplotlib==3.5.2)\n",
      "  Downloading fonttools-4.58.0-cp39-cp39-win_amd64.whl.metadata (106 kB)\n",
      "Collecting kiwisolver>=1.0.1 (from matplotlib==3.5.2)\n",
      "  Using cached kiwisolver-1.4.7-cp39-cp39-win_amd64.whl.metadata (6.4 kB)\n",
      "Requirement already satisfied: numpy>=1.17 in c:\\users\\admin\\anaconda3\\envs\\deepfake\\lib\\site-packages (from matplotlib==3.5.2) (1.19.5)\n",
      "Requirement already satisfied: packaging>=20.0 in c:\\users\\admin\\anaconda3\\envs\\deepfake\\lib\\site-packages (from matplotlib==3.5.2) (25.0)\n",
      "Requirement already satisfied: pillow>=6.2.0 in c:\\users\\admin\\anaconda3\\envs\\deepfake\\lib\\site-packages (from matplotlib==3.5.2) (9.0.0)\n",
      "Collecting pyparsing>=2.2.1 (from matplotlib==3.5.2)\n",
      "  Using cached pyparsing-3.2.3-py3-none-any.whl.metadata (5.0 kB)\n",
      "Requirement already satisfied: python-dateutil>=2.7 in c:\\users\\admin\\anaconda3\\envs\\deepfake\\lib\\site-packages (from matplotlib==3.5.2) (2.9.0.post0)\n",
      "Requirement already satisfied: colorama in c:\\users\\admin\\anaconda3\\envs\\deepfake\\lib\\site-packages (from tqdm==4.66.1) (0.4.6)\n",
      "Requirement already satisfied: six>=1.5 in c:\\users\\admin\\anaconda3\\envs\\deepfake\\lib\\site-packages (from python-dateutil>=2.7->matplotlib==3.5.2) (1.15.0)\n",
      "Downloading matplotlib-3.5.2-cp39-cp39-win_amd64.whl (7.2 MB)\n",
      "   ---------------------------------------- 0.0/7.2 MB ? eta -:--:--\n",
      "   ---------------------------------------- 0.0/7.2 MB ? eta -:--:--\n",
      "   ---------------------------------------- 0.0/7.2 MB ? eta -:--:--\n",
      "   ---------------------------------------- 0.0/7.2 MB ? eta -:--:--\n",
      "   ---------------------------------------- 0.0/7.2 MB ? eta -:--:--\n",
      "   ---------------------------------------- 0.0/7.2 MB ? eta -:--:--\n",
      "   ---------------------------------------- 0.0/7.2 MB ? eta -:--:--\n",
      "   ---------------------------------------- 0.0/7.2 MB ? eta -:--:--\n",
      "   ---------------------------------------- 0.0/7.2 MB ? eta -:--:--\n",
      "   ---------------------------------------- 0.0/7.2 MB ? eta -:--:--\n",
      "   ---------------------------------------- 0.0/7.2 MB ? eta -:--:--\n",
      "   - -------------------------------------- 0.3/7.2 MB ? eta -:--:--\n",
      "   - -------------------------------------- 0.3/7.2 MB ? eta -:--:--\n",
      "   - -------------------------------------- 0.3/7.2 MB ? eta -:--:--\n",
      "   - -------------------------------------- 0.3/7.2 MB ? eta -:--:--\n",
      "   - -------------------------------------- 0.3/7.2 MB ? eta -:--:--\n",
      "   - -------------------------------------- 0.3/7.2 MB ? eta -:--:--\n",
      "   - -------------------------------------- 0.3/7.2 MB ? eta -:--:--\n",
      "   - -------------------------------------- 0.3/7.2 MB ? eta -:--:--\n",
      "   - -------------------------------------- 0.3/7.2 MB ? eta -:--:--\n",
      "   - -------------------------------------- 0.3/7.2 MB ? eta -:--:--\n",
      "   -- ------------------------------------- 0.5/7.2 MB 123.4 kB/s eta 0:00:55\n",
      "   -- ------------------------------------- 0.5/7.2 MB 123.4 kB/s eta 0:00:55\n",
      "   -- ------------------------------------- 0.5/7.2 MB 123.4 kB/s eta 0:00:55\n",
      "   -- ------------------------------------- 0.5/7.2 MB 123.4 kB/s eta 0:00:55\n",
      "   -- ------------------------------------- 0.5/7.2 MB 123.4 kB/s eta 0:00:55\n",
      "   ---- ----------------------------------- 0.8/7.2 MB 164.5 kB/s eta 0:00:40\n",
      "   ---- ----------------------------------- 0.8/7.2 MB 164.5 kB/s eta 0:00:40\n",
      "   ----- ---------------------------------- 1.0/7.2 MB 222.7 kB/s eta 0:00:28\n",
      "   ------- -------------------------------- 1.3/7.2 MB 276.2 kB/s eta 0:00:22\n",
      "   -------- ------------------------------- 1.6/7.2 MB 326.4 kB/s eta 0:00:18\n",
      "   ---------- ----------------------------- 1.8/7.2 MB 370.1 kB/s eta 0:00:15\n",
      "   ----------- ---------------------------- 2.1/7.2 MB 410.6 kB/s eta 0:00:13\n",
      "   ----------- ---------------------------- 2.1/7.2 MB 410.6 kB/s eta 0:00:13\n",
      "   ------------- -------------------------- 2.4/7.2 MB 445.9 kB/s eta 0:00:11\n",
      "   -------------- ------------------------- 2.6/7.2 MB 479.3 kB/s eta 0:00:10\n",
      "   ---------------- ----------------------- 2.9/7.2 MB 509.9 kB/s eta 0:00:09\n",
      "   ----------------- ---------------------- 3.1/7.2 MB 536.5 kB/s eta 0:00:08\n",
      "   ------------------ --------------------- 3.4/7.2 MB 562.3 kB/s eta 0:00:07\n",
      "   -------------------- ------------------- 3.7/7.2 MB 584.7 kB/s eta 0:00:07\n",
      "   --------------------- ------------------ 3.9/7.2 MB 606.9 kB/s eta 0:00:06\n",
      "   ----------------------- ---------------- 4.2/7.2 MB 626.0 kB/s eta 0:00:05\n",
      "   ------------------------ --------------- 4.5/7.2 MB 645.3 kB/s eta 0:00:05\n",
      "   ------------------------ --------------- 4.5/7.2 MB 645.3 kB/s eta 0:00:05\n",
      "   --------------------------- ------------ 5.0/7.2 MB 678.6 kB/s eta 0:00:04\n",
      "   --------------------------- ------------ 5.0/7.2 MB 678.6 kB/s eta 0:00:04\n",
      "   ----------------------------- ---------- 5.2/7.2 MB 693.0 kB/s eta 0:00:03\n",
      "   ------------------------------ --------- 5.5/7.2 MB 707.9 kB/s eta 0:00:03\n",
      "   -------------------------------- ------- 5.8/7.2 MB 720.5 kB/s eta 0:00:02\n",
      "   --------------------------------- ------ 6.0/7.2 MB 733.8 kB/s eta 0:00:02\n",
      "   ---------------------------------- ----- 6.3/7.2 MB 746.4 kB/s eta 0:00:02\n",
      "   ------------------------------------ --- 6.6/7.2 MB 756.9 kB/s eta 0:00:01\n",
      "   ------------------------------------- -- 6.8/7.2 MB 766.8 kB/s eta 0:00:01\n",
      "   ---------------------------------------  7.1/7.2 MB 777.5 kB/s eta 0:00:01\n",
      "   ---------------------------------------- 7.2/7.2 MB 779.5 kB/s eta 0:00:00\n",
      "Downloading tqdm-4.66.1-py3-none-any.whl (78 kB)\n",
      "Using cached cycler-0.12.1-py3-none-any.whl (8.3 kB)\n",
      "Downloading fonttools-4.58.0-cp39-cp39-win_amd64.whl (1.5 MB)\n",
      "   ---------------------------------------- 0.0/1.5 MB ? eta -:--:--\n",
      "   ---------------------------------------- 0.0/1.5 MB ? eta -:--:--\n",
      "   ------ --------------------------------- 0.3/1.5 MB ? eta -:--:--\n",
      "   ------------- -------------------------- 0.5/1.5 MB 1.4 MB/s eta 0:00:01\n",
      "   -------------------- ------------------- 0.8/1.5 MB 1.2 MB/s eta 0:00:01\n",
      "   --------------------------- ------------ 1.0/1.5 MB 1.2 MB/s eta 0:00:01\n",
      "   ---------------------------------- ----- 1.3/1.5 MB 1.2 MB/s eta 0:00:01\n",
      "   ---------------------------------------- 1.5/1.5 MB 1.2 MB/s eta 0:00:00\n",
      "Using cached kiwisolver-1.4.7-cp39-cp39-win_amd64.whl (55 kB)\n",
      "Using cached pyparsing-3.2.3-py3-none-any.whl (111 kB)\n",
      "Installing collected packages: tqdm, pyparsing, kiwisolver, fonttools, cycler, matplotlib\n",
      "\n",
      "   ------ --------------------------------- 1/6 [pyparsing]\n",
      "   -------------------- ------------------- 3/6 [fonttools]\n",
      "   -------------------- ------------------- 3/6 [fonttools]\n",
      "   -------------------- ------------------- 3/6 [fonttools]\n",
      "   -------------------- ------------------- 3/6 [fonttools]\n",
      "   -------------------- ------------------- 3/6 [fonttools]\n",
      "   -------------------- ------------------- 3/6 [fonttools]\n",
      "   -------------------- ------------------- 3/6 [fonttools]\n",
      "   -------------------- ------------------- 3/6 [fonttools]\n",
      "   -------------------- ------------------- 3/6 [fonttools]\n",
      "   --------------------------------- ------ 5/6 [matplotlib]\n",
      "   --------------------------------- ------ 5/6 [matplotlib]\n",
      "   --------------------------------- ------ 5/6 [matplotlib]\n",
      "   --------------------------------- ------ 5/6 [matplotlib]\n",
      "   --------------------------------- ------ 5/6 [matplotlib]\n",
      "   --------------------------------- ------ 5/6 [matplotlib]\n",
      "   --------------------------------- ------ 5/6 [matplotlib]\n",
      "   --------------------------------- ------ 5/6 [matplotlib]\n",
      "   --------------------------------- ------ 5/6 [matplotlib]\n",
      "   --------------------------------- ------ 5/6 [matplotlib]\n",
      "   --------------------------------- ------ 5/6 [matplotlib]\n",
      "   ---------------------------------------- 6/6 [matplotlib]\n",
      "\n",
      "Successfully installed cycler-0.12.1 fonttools-4.58.0 kiwisolver-1.4.7 matplotlib-3.5.2 pyparsing-3.2.3 tqdm-4.66.1\n",
      "Note: you may need to restart the kernel to use updated packages.\n"
     ]
    },
    {
     "name": "stderr",
     "output_type": "stream",
     "text": [
      "  WARNING: The script tqdm.exe is installed in 'C:\\Users\\Admin\\anaconda3\\envs\\deepfake\\Scripts' which is not on PATH.\n",
      "  Consider adding this directory to PATH or, if you prefer to suppress this warning, use --no-warn-script-location.\n",
      "  WARNING: The scripts fonttools.exe, pyftmerge.exe, pyftsubset.exe and ttx.exe are installed in 'C:\\Users\\Admin\\anaconda3\\envs\\deepfake\\Scripts' which is not on PATH.\n",
      "  Consider adding this directory to PATH or, if you prefer to suppress this warning, use --no-warn-script-location.\n"
     ]
    }
   ],
   "source": [
    "pip install matplotlib==3.5.2 tqdm==4.66.1"
   ]
  },
  {
   "cell_type": "code",
   "execution_count": 3,
   "id": "fbd607a3-4bd5-475b-a2b5-92e76a49e9e9",
   "metadata": {},
   "outputs": [
    {
     "name": "stdout",
     "output_type": "stream",
     "text": [
      "Collecting seabornNote: you may need to restart the kernel to use updated packages.\n"
     ]
    },
    {
     "name": "stderr",
     "output_type": "stream",
     "text": [
      "  WARNING: The scripts f2py.exe and numpy-config.exe are installed in 'C:\\Users\\Admin\\anaconda3\\envs\\deepfake\\Scripts' which is not on PATH.\n",
      "  Consider adding this directory to PATH or, if you prefer to suppress this warning, use --no-warn-script-location.\n",
      "  WARNING: Failed to remove contents in a temporary directory 'C:\\Users\\Admin\\anaconda3\\envs\\deepfake\\Lib\\site-packages\\~umpy'.\n",
      "  You can safely remove it manually.\n",
      "ERROR: pip's dependency resolver does not currently take into account all the packages that are installed. This behaviour is the source of the following dependency conflicts.\n",
      "scipy 1.7.3 requires numpy<1.23.0,>=1.16.5, but you have numpy 2.0.2 which is incompatible.\n",
      "tensorflow 2.5.0 requires numpy~=1.19.2, but you have numpy 2.0.2 which is incompatible.\n",
      "tensorflow 2.5.0 requires typing-extensions~=3.7.4, but you have typing-extensions 4.13.2 which is incompatible.\n"
     ]
    },
    {
     "name": "stdout",
     "output_type": "stream",
     "text": [
      "\n",
      "  Downloading seaborn-0.13.2-py3-none-any.whl.metadata (5.4 kB)\n",
      "Collecting numpy!=1.24.0,>=1.20 (from seaborn)\n",
      "  Using cached numpy-2.0.2-cp39-cp39-win_amd64.whl.metadata (59 kB)\n",
      "Collecting pandas>=1.2 (from seaborn)\n",
      "  Using cached pandas-2.2.3-cp39-cp39-win_amd64.whl.metadata (19 kB)\n",
      "Requirement already satisfied: matplotlib!=3.6.1,>=3.4 in c:\\users\\admin\\anaconda3\\envs\\deepfake\\lib\\site-packages (from seaborn) (3.5.2)\n",
      "Requirement already satisfied: cycler>=0.10 in c:\\users\\admin\\anaconda3\\envs\\deepfake\\lib\\site-packages (from matplotlib!=3.6.1,>=3.4->seaborn) (0.12.1)\n",
      "Requirement already satisfied: fonttools>=4.22.0 in c:\\users\\admin\\anaconda3\\envs\\deepfake\\lib\\site-packages (from matplotlib!=3.6.1,>=3.4->seaborn) (4.58.0)\n",
      "Requirement already satisfied: kiwisolver>=1.0.1 in c:\\users\\admin\\anaconda3\\envs\\deepfake\\lib\\site-packages (from matplotlib!=3.6.1,>=3.4->seaborn) (1.4.7)\n",
      "Requirement already satisfied: packaging>=20.0 in c:\\users\\admin\\anaconda3\\envs\\deepfake\\lib\\site-packages (from matplotlib!=3.6.1,>=3.4->seaborn) (25.0)\n",
      "Requirement already satisfied: pillow>=6.2.0 in c:\\users\\admin\\anaconda3\\envs\\deepfake\\lib\\site-packages (from matplotlib!=3.6.1,>=3.4->seaborn) (9.0.0)\n",
      "Requirement already satisfied: pyparsing>=2.2.1 in c:\\users\\admin\\anaconda3\\envs\\deepfake\\lib\\site-packages (from matplotlib!=3.6.1,>=3.4->seaborn) (3.2.3)\n",
      "Requirement already satisfied: python-dateutil>=2.7 in c:\\users\\admin\\anaconda3\\envs\\deepfake\\lib\\site-packages (from matplotlib!=3.6.1,>=3.4->seaborn) (2.9.0.post0)\n",
      "Collecting pytz>=2020.1 (from pandas>=1.2->seaborn)\n",
      "  Using cached pytz-2025.2-py2.py3-none-any.whl.metadata (22 kB)\n",
      "Collecting tzdata>=2022.7 (from pandas>=1.2->seaborn)\n",
      "  Using cached tzdata-2025.2-py2.py3-none-any.whl.metadata (1.4 kB)\n",
      "Requirement already satisfied: six>=1.5 in c:\\users\\admin\\anaconda3\\envs\\deepfake\\lib\\site-packages (from python-dateutil>=2.7->matplotlib!=3.6.1,>=3.4->seaborn) (1.15.0)\n",
      "Downloading seaborn-0.13.2-py3-none-any.whl (294 kB)\n",
      "Using cached numpy-2.0.2-cp39-cp39-win_amd64.whl (15.9 MB)\n",
      "Downloading pandas-2.2.3-cp39-cp39-win_amd64.whl (11.6 MB)\n",
      "   ---------------------------------------- 0.0/11.6 MB ? eta -:--:--\n",
      "   ---------------------------------------- 0.0/11.6 MB ? eta -:--:--\n",
      "   ---------------------------------------- 0.0/11.6 MB ? eta -:--:--\n",
      "   ---------------------------------------- 0.0/11.6 MB ? eta -:--:--\n",
      "   ---------------------------------------- 0.0/11.6 MB ? eta -:--:--\n",
      "   ---------------------------------------- 0.0/11.6 MB ? eta -:--:--\n",
      "   ---------------------------------------- 0.0/11.6 MB ? eta -:--:--\n",
      "   ---------------------------------------- 0.0/11.6 MB ? eta -:--:--\n",
      "   ---------------------------------------- 0.0/11.6 MB ? eta -:--:--\n",
      "   ---------------------------------------- 0.0/11.6 MB ? eta -:--:--\n",
      "   ---------------------------------------- 0.0/11.6 MB ? eta -:--:--\n",
      "   ---------------------------------------- 0.0/11.6 MB ? eta -:--:--\n",
      "   ---------------------------------------- 0.0/11.6 MB ? eta -:--:--\n",
      "    --------------------------------------- 0.3/11.6 MB ? eta -:--:--\n",
      "    --------------------------------------- 0.3/11.6 MB ? eta -:--:--\n",
      "    --------------------------------------- 0.3/11.6 MB ? eta -:--:--\n",
      "    --------------------------------------- 0.3/11.6 MB ? eta -:--:--\n",
      "    --------------------------------------- 0.3/11.6 MB ? eta -:--:--\n",
      "    --------------------------------------- 0.3/11.6 MB ? eta -:--:--\n",
      "    --------------------------------------- 0.3/11.6 MB ? eta -:--:--\n",
      "    --------------------------------------- 0.3/11.6 MB ? eta -:--:--\n",
      "    --------------------------------------- 0.3/11.6 MB ? eta -:--:--\n",
      "    --------------------------------------- 0.3/11.6 MB ? eta -:--:--\n",
      "   - -------------------------------------- 0.5/11.6 MB 132.1 kB/s eta 0:01:24\n",
      "   - -------------------------------------- 0.5/11.6 MB 132.1 kB/s eta 0:01:24\n",
      "   - -------------------------------------- 0.5/11.6 MB 132.1 kB/s eta 0:01:24\n",
      "   - -------------------------------------- 0.5/11.6 MB 132.1 kB/s eta 0:01:24\n",
      "   - -------------------------------------- 0.5/11.6 MB 132.1 kB/s eta 0:01:24\n",
      "   -- ------------------------------------- 0.8/11.6 MB 173.0 kB/s eta 0:01:03\n",
      "   -- ------------------------------------- 0.8/11.6 MB 173.0 kB/s eta 0:01:03\n",
      "   --- ------------------------------------ 1.0/11.6 MB 223.7 kB/s eta 0:00:48\n",
      "   ---- ----------------------------------- 1.3/11.6 MB 279.6 kB/s eta 0:00:37\n",
      "   ----- ---------------------------------- 1.6/11.6 MB 329.0 kB/s eta 0:00:31\n",
      "   ----- ---------------------------------- 1.6/11.6 MB 329.0 kB/s eta 0:00:31\n",
      "   ------ --------------------------------- 1.8/11.6 MB 374.2 kB/s eta 0:00:27\n",
      "   ------- -------------------------------- 2.1/11.6 MB 413.6 kB/s eta 0:00:24\n",
      "   -------- ------------------------------- 2.4/11.6 MB 450.4 kB/s eta 0:00:21\n",
      "   --------- ------------------------------ 2.6/11.6 MB 484.0 kB/s eta 0:00:19\n",
      "   --------- ------------------------------ 2.9/11.6 MB 513.1 kB/s eta 0:00:18\n",
      "   ---------- ----------------------------- 3.1/11.6 MB 541.2 kB/s eta 0:00:16\n",
      "   ----------- ---------------------------- 3.4/11.6 MB 565.6 kB/s eta 0:00:15\n",
      "   ------------ --------------------------- 3.7/11.6 MB 589.5 kB/s eta 0:00:14\n",
      "   ------------ --------------------------- 3.7/11.6 MB 589.5 kB/s eta 0:00:14\n",
      "   -------------- ------------------------- 4.2/11.6 MB 629.1 kB/s eta 0:00:12\n",
      "   -------------- ------------------------- 4.2/11.6 MB 629.1 kB/s eta 0:00:12\n",
      "   --------------- ------------------------ 4.5/11.6 MB 646.9 kB/s eta 0:00:12\n",
      "   ---------------- ----------------------- 4.7/11.6 MB 664.8 kB/s eta 0:00:11\n",
      "   ----------------- ---------------------- 5.0/11.6 MB 681.8 kB/s eta 0:00:10\n",
      "   ------------------ --------------------- 5.2/11.6 MB 697.6 kB/s eta 0:00:10\n",
      "   ------------------ --------------------- 5.5/11.6 MB 710.9 kB/s eta 0:00:09\n",
      "   ------------------- -------------------- 5.8/11.6 MB 722.0 kB/s eta 0:00:09\n",
      "   -------------------- ------------------- 6.0/11.6 MB 735.3 kB/s eta 0:00:08\n",
      "   --------------------- ------------------ 6.3/11.6 MB 747.9 kB/s eta 0:00:08\n",
      "   ---------------------- ----------------- 6.6/11.6 MB 758.4 kB/s eta 0:00:07\n",
      "   ----------------------- ---------------- 6.8/11.6 MB 769.7 kB/s eta 0:00:07\n",
      "   ----------------------- ---------------- 6.8/11.6 MB 769.7 kB/s eta 0:00:07\n",
      "   ------------------------ --------------- 7.1/11.6 MB 772.1 kB/s eta 0:00:06\n",
      "   ------------------------- -------------- 7.3/11.6 MB 787.8 kB/s eta 0:00:06\n",
      "   -------------------------- ------------- 7.6/11.6 MB 796.3 kB/s eta 0:00:06\n",
      "   --------------------------- ------------ 7.9/11.6 MB 805.6 kB/s eta 0:00:05\n",
      "   --------------------------- ------------ 8.1/11.6 MB 805.4 kB/s eta 0:00:05\n",
      "   ---------------------------- ----------- 8.4/11.6 MB 820.4 kB/s eta 0:00:04\n",
      "   ----------------------------- ---------- 8.7/11.6 MB 826.0 kB/s eta 0:00:04\n",
      "   ------------------------------ --------- 8.9/11.6 MB 833.8 kB/s eta 0:00:04\n",
      "   ------------------------------- -------- 9.2/11.6 MB 841.4 kB/s eta 0:00:03\n",
      "   -------------------------------- ------- 9.4/11.6 MB 847.3 kB/s eta 0:00:03\n",
      "   -------------------------------- ------- 9.4/11.6 MB 847.3 kB/s eta 0:00:03\n",
      "   --------------------------------- ------ 9.7/11.6 MB 854.4 kB/s eta 0:00:03\n",
      "   ---------------------------------- ----- 10.0/11.6 MB 861.0 kB/s eta 0:00:02\n",
      "   ----------------------------------- ---- 10.2/11.6 MB 865.1 kB/s eta 0:00:02\n",
      "   ------------------------------------ --- 10.5/11.6 MB 867.8 kB/s eta 0:00:02\n",
      "   ------------------------------------- -- 10.7/11.6 MB 875.0 kB/s eta 0:00:01\n",
      "   ------------------------------------- -- 11.0/11.6 MB 880.8 kB/s eta 0:00:01\n",
      "   -------------------------------------- - 11.3/11.6 MB 885.3 kB/s eta 0:00:01\n",
      "   ---------------------------------------  11.5/11.6 MB 891.8 kB/s eta 0:00:01\n",
      "   ---------------------------------------- 11.6/11.6 MB 890.7 kB/s eta 0:00:00\n",
      "Using cached pytz-2025.2-py2.py3-none-any.whl (509 kB)\n",
      "Using cached tzdata-2025.2-py2.py3-none-any.whl (347 kB)\n",
      "Installing collected packages: pytz, tzdata, numpy, pandas, seaborn\n",
      "\n",
      "   ---------------------------------------- 0/5 [pytz]\n",
      "   -------- ------------------------------- 1/5 [tzdata]\n",
      "   -------- ------------------------------- 1/5 [tzdata]\n",
      "  Attempting uninstall: numpy\n",
      "   -------- ------------------------------- 1/5 [tzdata]\n",
      "    Found existing installation: numpy 1.19.5\n",
      "   -------- ------------------------------- 1/5 [tzdata]\n",
      "   ---------------- ----------------------- 2/5 [numpy]\n",
      "    Uninstalling numpy-1.19.5:\n",
      "   ---------------- ----------------------- 2/5 [numpy]\n",
      "      Successfully uninstalled numpy-1.19.5\n",
      "   ---------------- ----------------------- 2/5 [numpy]\n",
      "   ---------------- ----------------------- 2/5 [numpy]\n",
      "   ---------------- ----------------------- 2/5 [numpy]\n",
      "   ---------------- ----------------------- 2/5 [numpy]\n",
      "   ---------------- ----------------------- 2/5 [numpy]\n",
      "   ---------------- ----------------------- 2/5 [numpy]\n",
      "   ---------------- ----------------------- 2/5 [numpy]\n",
      "   ---------------- ----------------------- 2/5 [numpy]\n",
      "   ---------------- ----------------------- 2/5 [numpy]\n",
      "   ---------------- ----------------------- 2/5 [numpy]\n",
      "   ---------------- ----------------------- 2/5 [numpy]\n",
      "   ---------------- ----------------------- 2/5 [numpy]\n",
      "   ---------------- ----------------------- 2/5 [numpy]\n",
      "   ---------------- ----------------------- 2/5 [numpy]\n",
      "   ---------------- ----------------------- 2/5 [numpy]\n",
      "   ---------------- ----------------------- 2/5 [numpy]\n",
      "   ---------------- ----------------------- 2/5 [numpy]\n",
      "   ---------------- ----------------------- 2/5 [numpy]\n",
      "   ---------------- ----------------------- 2/5 [numpy]\n",
      "   ---------------- ----------------------- 2/5 [numpy]\n",
      "   ---------------- ----------------------- 2/5 [numpy]\n",
      "   ---------------- ----------------------- 2/5 [numpy]\n",
      "   ---------------- ----------------------- 2/5 [numpy]\n",
      "   ---------------- ----------------------- 2/5 [numpy]\n",
      "   ---------------- ----------------------- 2/5 [numpy]\n",
      "   ---------------- ----------------------- 2/5 [numpy]\n",
      "   ---------------- ----------------------- 2/5 [numpy]\n",
      "   ---------------- ----------------------- 2/5 [numpy]\n",
      "   ---------------- ----------------------- 2/5 [numpy]\n",
      "   ---------------- ----------------------- 2/5 [numpy]\n",
      "   ---------------- ----------------------- 2/5 [numpy]\n",
      "   ---------------- ----------------------- 2/5 [numpy]\n",
      "   ---------------- ----------------------- 2/5 [numpy]\n",
      "   ---------------- ----------------------- 2/5 [numpy]\n",
      "   ---------------- ----------------------- 2/5 [numpy]\n",
      "   ---------------- ----------------------- 2/5 [numpy]\n",
      "   ---------------- ----------------------- 2/5 [numpy]\n",
      "   ---------------- ----------------------- 2/5 [numpy]\n",
      "   ------------------------ --------------- 3/5 [pandas]\n",
      "   ------------------------ --------------- 3/5 [pandas]\n",
      "   ------------------------ --------------- 3/5 [pandas]\n",
      "   ------------------------ --------------- 3/5 [pandas]\n",
      "   ------------------------ --------------- 3/5 [pandas]\n",
      "   ------------------------ --------------- 3/5 [pandas]\n",
      "   ------------------------ --------------- 3/5 [pandas]\n",
      "   ------------------------ --------------- 3/5 [pandas]\n",
      "   ------------------------ --------------- 3/5 [pandas]\n",
      "   ------------------------ --------------- 3/5 [pandas]\n",
      "   ------------------------ --------------- 3/5 [pandas]\n",
      "   ------------------------ --------------- 3/5 [pandas]\n",
      "   ------------------------ --------------- 3/5 [pandas]\n",
      "   ------------------------ --------------- 3/5 [pandas]\n",
      "   ------------------------ --------------- 3/5 [pandas]\n",
      "   ------------------------ --------------- 3/5 [pandas]\n",
      "   ------------------------ --------------- 3/5 [pandas]\n",
      "   ------------------------ --------------- 3/5 [pandas]\n",
      "   ------------------------ --------------- 3/5 [pandas]\n",
      "   ------------------------ --------------- 3/5 [pandas]\n",
      "   ------------------------ --------------- 3/5 [pandas]\n",
      "   ------------------------ --------------- 3/5 [pandas]\n",
      "   ------------------------ --------------- 3/5 [pandas]\n",
      "   ------------------------ --------------- 3/5 [pandas]\n",
      "   ------------------------ --------------- 3/5 [pandas]\n",
      "   ------------------------ --------------- 3/5 [pandas]\n",
      "   ------------------------ --------------- 3/5 [pandas]\n",
      "   ------------------------ --------------- 3/5 [pandas]\n",
      "   ------------------------ --------------- 3/5 [pandas]\n",
      "   ------------------------ --------------- 3/5 [pandas]\n",
      "   ------------------------ --------------- 3/5 [pandas]\n",
      "   ------------------------ --------------- 3/5 [pandas]\n",
      "   ------------------------ --------------- 3/5 [pandas]\n",
      "   ------------------------ --------------- 3/5 [pandas]\n",
      "   ------------------------ --------------- 3/5 [pandas]\n",
      "   ------------------------ --------------- 3/5 [pandas]\n",
      "   ------------------------ --------------- 3/5 [pandas]\n",
      "   ------------------------ --------------- 3/5 [pandas]\n",
      "   ------------------------ --------------- 3/5 [pandas]\n",
      "   ------------------------ --------------- 3/5 [pandas]\n",
      "   ------------------------ --------------- 3/5 [pandas]\n",
      "   -------------------------------- ------- 4/5 [seaborn]\n",
      "   -------------------------------- ------- 4/5 [seaborn]\n",
      "   ---------------------------------------- 5/5 [seaborn]\n",
      "\n",
      "Successfully installed numpy-2.0.2 pandas-2.2.3 pytz-2025.2 seaborn-0.13.2 tzdata-2025.2\n"
     ]
    }
   ],
   "source": [
    "pip install seaborn"
   ]
  },
  {
   "cell_type": "code",
   "execution_count": 7,
   "id": "032ea423-feb7-4000-af27-ad60c248a190",
   "metadata": {},
   "outputs": [
    {
     "name": "stdout",
     "output_type": "stream",
     "text": [
      "Collecting numpy==1.19.5\n",
      "  Using cached numpy-1.19.5-cp39-cp39-win_amd64.whl.metadata (2.0 kB)\n",
      "Using cached numpy-1.19.5-cp39-cp39-win_amd64.whl (13.3 MB)\n",
      "Installing collected packages: numpy\n",
      "  Attempting uninstall: numpy\n",
      "    Found existing installation: numpy 2.0.2\n",
      "    Uninstalling numpy-2.0.2:\n",
      "      Successfully uninstalled numpy-2.0.2\n",
      "Successfully installed numpy-1.19.5\n",
      "Note: you may need to restart the kernel to use updated packages.\n"
     ]
    },
    {
     "name": "stderr",
     "output_type": "stream",
     "text": [
      "  WARNING: The script f2py.exe is installed in 'C:\\Users\\Admin\\anaconda3\\envs\\deepfake\\Scripts' which is not on PATH.\n",
      "  Consider adding this directory to PATH or, if you prefer to suppress this warning, use --no-warn-script-location.\n",
      "  WARNING: Failed to remove contents in a temporary directory 'C:\\Users\\Admin\\anaconda3\\envs\\deepfake\\Lib\\site-packages\\~umpy.libs'.\n",
      "  You can safely remove it manually.\n",
      "  WARNING: Failed to remove contents in a temporary directory 'C:\\Users\\Admin\\anaconda3\\envs\\deepfake\\Lib\\site-packages\\~-mpy'.\n",
      "  You can safely remove it manually.\n",
      "ERROR: pip's dependency resolver does not currently take into account all the packages that are installed. This behaviour is the source of the following dependency conflicts.\n",
      "pandas 2.2.3 requires numpy>=1.22.4; python_version < \"3.11\", but you have numpy 1.19.5 which is incompatible.\n",
      "seaborn 0.13.2 requires numpy!=1.24.0,>=1.20, but you have numpy 1.19.5 which is incompatible.\n",
      "tensorflow 2.5.0 requires typing-extensions~=3.7.4, but you have typing-extensions 4.13.2 which is incompatible.\n"
     ]
    }
   ],
   "source": [
    "pip install numpy==1.19.5"
   ]
  },
  {
   "cell_type": "code",
   "execution_count": 1,
   "id": "c7a24a17-17e3-4063-8add-aa0f83d1a4f3",
   "metadata": {},
   "outputs": [
    {
     "name": "stdout",
     "output_type": "stream",
     "text": [
      "Package                   Version\n",
      "------------------------- -------------------\n",
      "absl-py                   0.15.0\n",
      "anyio                     4.9.0\n",
      "argon2-cffi               23.1.0\n",
      "argon2-cffi-bindings      21.2.0\n",
      "arrow                     1.3.0\n",
      "asttokens                 3.0.0\n",
      "astunparse                1.6.3\n",
      "async-lru                 2.0.5\n",
      "attrs                     25.3.0\n",
      "babel                     2.17.0\n",
      "beautifulsoup4            4.13.4\n",
      "bleach                    6.2.0\n",
      "cachetools                5.5.2\n",
      "certifi                   2025.4.26\n",
      "cffi                      1.17.1\n",
      "charset-normalizer        3.4.2\n",
      "colorama                  0.4.6\n",
      "comm                      0.2.2\n",
      "cycler                    0.12.1\n",
      "debugpy                   1.8.14\n",
      "decorator                 5.2.1\n",
      "defusedxml                0.7.1\n",
      "exceptiongroup            1.3.0\n",
      "executing                 2.2.0\n",
      "fastjsonschema            2.21.1\n",
      "filelock                  3.13.1\n",
      "flatbuffers               1.12\n",
      "fonttools                 4.58.0\n",
      "fqdn                      1.5.1\n",
      "fsspec                    2024.6.1\n",
      "gast                      0.4.0\n",
      "google-auth               2.40.1\n",
      "google-auth-oauthlib      0.4.6\n",
      "google-pasta              0.2.0\n",
      "grpcio                    1.34.1\n",
      "h11                       0.16.0\n",
      "h5py                      3.1.0\n",
      "httpcore                  1.0.9\n",
      "httpx                     0.28.1\n",
      "idna                      3.10\n",
      "importlib_metadata        8.7.0\n",
      "ipykernel                 6.29.5\n",
      "ipython                   8.18.1\n",
      "ipywidgets                8.1.7\n",
      "isoduration               20.11.0\n",
      "jedi                      0.19.2\n",
      "Jinja2                    3.1.4\n",
      "joblib                    1.5.0\n",
      "json5                     0.12.0\n",
      "jsonpointer               3.0.0\n",
      "jsonschema                4.23.0\n",
      "jsonschema-specifications 2025.4.1\n",
      "jupyter                   1.1.1\n",
      "jupyter_client            8.6.3\n",
      "jupyter-console           6.6.3\n",
      "jupyter_core              5.7.2\n",
      "jupyter-events            0.12.0\n",
      "jupyter-lsp               2.2.5\n",
      "jupyter_server            2.15.0\n",
      "jupyter_server_terminals  0.5.3\n",
      "jupyterlab                4.4.2\n",
      "jupyterlab_pygments       0.3.0\n",
      "jupyterlab_server         2.27.3\n",
      "jupyterlab_widgets        3.0.15\n",
      "keras-nightly             2.5.0.dev2021032900\n",
      "Keras-Preprocessing       1.1.2\n",
      "kiwisolver                1.4.7\n",
      "Markdown                  3.8\n",
      "MarkupSafe                3.0.2\n",
      "matplotlib                3.5.2\n",
      "matplotlib-inline         0.1.7\n",
      "mistune                   3.1.3\n",
      "mpmath                    1.3.0\n",
      "nbclient                  0.10.2\n",
      "nbconvert                 7.16.6\n",
      "nbformat                  5.10.4\n",
      "nest-asyncio              1.6.0\n",
      "networkx                  3.2.1\n",
      "notebook                  7.4.2\n",
      "notebook_shim             0.2.4\n",
      "numpy                     1.19.5\n",
      "oauthlib                  3.2.2\n",
      "opencv-contrib-python     4.11.0.86\n",
      "opt-einsum                3.3.0\n",
      "overrides                 7.7.0\n",
      "packaging                 25.0\n",
      "pandas                    2.2.3\n",
      "pandocfilters             1.5.1\n",
      "parso                     0.8.4\n",
      "Pillow                    9.0.0\n",
      "pip                       25.1\n",
      "platformdirs              4.3.8\n",
      "prometheus_client         0.21.1\n",
      "prompt_toolkit            3.0.51\n",
      "protobuf                  3.20.3\n",
      "psutil                    7.0.0\n",
      "pure_eval                 0.2.3\n",
      "pyasn1                    0.6.1\n",
      "pyasn1_modules            0.4.2\n",
      "pycparser                 2.22\n",
      "Pygments                  2.19.1\n",
      "pyparsing                 3.2.3\n",
      "python-dateutil           2.9.0.post0\n",
      "python-json-logger        3.3.0\n",
      "pytz                      2025.2\n",
      "pywin32                   310\n",
      "pywinpty                  2.0.15\n",
      "PyYAML                    6.0.2\n",
      "pyzmq                     26.4.0\n",
      "referencing               0.36.2\n",
      "requests                  2.32.3\n",
      "requests-oauthlib         2.0.0\n",
      "rfc3339-validator         0.1.4\n",
      "rfc3986-validator         0.1.1\n",
      "rpds-py                   0.24.0\n",
      "rsa                       4.9.1\n",
      "scikit-learn              1.0.2\n",
      "scipy                     1.7.3\n",
      "seaborn                   0.13.2\n",
      "Send2Trash                1.8.3\n",
      "setuptools                78.1.1\n",
      "six                       1.15.0\n",
      "sniffio                   1.3.1\n",
      "sounddevice               0.5.1\n",
      "soupsieve                 2.7\n",
      "stack-data                0.6.3\n",
      "sympy                     1.13.3\n",
      "tensorboard               2.11.2\n",
      "tensorboard-data-server   0.6.1\n",
      "tensorboard-plugin-wit    1.8.1\n",
      "tensorflow                2.5.0\n",
      "tensorflow-estimator      2.5.0\n",
      "termcolor                 1.1.0\n",
      "terminado                 0.18.1\n",
      "threadpoolctl             3.6.0\n",
      "tinycss2                  1.4.0\n",
      "tomli                     2.2.1\n",
      "torch                     2.1.0+cu121\n",
      "torchaudio                2.1.0+cu121\n",
      "torchvision               0.16.0+cu121\n",
      "tornado                   6.4.2\n",
      "tqdm                      4.66.1\n",
      "traitlets                 5.14.3\n",
      "types-python-dateutil     2.9.0.20241206\n",
      "typing_extensions         4.13.2\n",
      "tzdata                    2025.2\n",
      "uri-template              1.3.0\n",
      "urllib3                   2.4.0\n",
      "wcwidth                   0.2.13\n",
      "webcolors                 24.11.1\n",
      "webencodings              0.5.1\n",
      "websocket-client          1.8.0\n",
      "Werkzeug                  3.1.3\n",
      "wheel                     0.45.1\n",
      "widgetsnbextension        4.0.14\n",
      "wrapt                     1.12.1\n",
      "zipp                      3.21.0\n",
      "Note: you may need to restart the kernel to use updated packages.\n"
     ]
    }
   ],
   "source": [
    "pip list"
   ]
  },
  {
   "cell_type": "code",
   "execution_count": 7,
   "id": "8c1f9bec-7090-4a13-ae03-e8e54c4ab805",
   "metadata": {},
   "outputs": [
    {
     "name": "stdout",
     "output_type": "stream",
     "text": [
      "Collecting pandas==1.3.5\n",
      "  Downloading pandas-1.3.5-cp39-cp39-win_amd64.whl.metadata (12 kB)\n",
      "Requirement already satisfied: python-dateutil>=2.7.3 in c:\\users\\admin\\anaconda3\\envs\\deepfake\\lib\\site-packages (from pandas==1.3.5) (2.9.0.post0)\n",
      "Requirement already satisfied: pytz>=2017.3 in c:\\users\\admin\\anaconda3\\envs\\deepfake\\lib\\site-packages (from pandas==1.3.5) (2025.2)\n",
      "Requirement already satisfied: numpy>=1.17.3 in c:\\users\\admin\\anaconda3\\envs\\deepfake\\lib\\site-packages (from pandas==1.3.5) (1.19.5)\n",
      "Requirement already satisfied: six>=1.5 in c:\\users\\admin\\anaconda3\\envs\\deepfake\\lib\\site-packages (from python-dateutil>=2.7.3->pandas==1.3.5) (1.15.0)\n",
      "Downloading pandas-1.3.5-cp39-cp39-win_amd64.whl (10.2 MB)\n",
      "   ---------------------------------------- 0.0/10.2 MB ? eta -:--:--\n",
      "   ---------------------------------------- 0.0/10.2 MB ? eta -:--:--\n",
      "   - -------------------------------------- 0.3/10.2 MB ? eta -:--:--\n",
      "   - -------------------------------------- 0.3/10.2 MB ? eta -:--:--\n",
      "   - -------------------------------------- 0.3/10.2 MB ? eta -:--:--\n",
      "   - -------------------------------------- 0.3/10.2 MB ? eta -:--:--\n",
      "   - -------------------------------------- 0.3/10.2 MB ? eta -:--:--\n",
      "   - -------------------------------------- 0.3/10.2 MB ? eta -:--:--\n",
      "   - -------------------------------------- 0.3/10.2 MB ? eta -:--:--\n",
      "   - -------------------------------------- 0.3/10.2 MB ? eta -:--:--\n",
      "   - -------------------------------------- 0.3/10.2 MB ? eta -:--:--\n",
      "   - -------------------------------------- 0.3/10.2 MB ? eta -:--:--\n",
      "   - -------------------------------------- 0.3/10.2 MB ? eta -:--:--\n",
      "   - -------------------------------------- 0.3/10.2 MB ? eta -:--:--\n",
      "   - -------------------------------------- 0.3/10.2 MB ? eta -:--:--\n",
      "   - -------------------------------------- 0.3/10.2 MB ? eta -:--:--\n",
      "   - -------------------------------------- 0.3/10.2 MB ? eta -:--:--\n",
      "   - -------------------------------------- 0.3/10.2 MB ? eta -:--:--\n",
      "   - -------------------------------------- 0.3/10.2 MB ? eta -:--:--\n",
      "   - -------------------------------------- 0.3/10.2 MB ? eta -:--:--\n",
      "   - -------------------------------------- 0.3/10.2 MB ? eta -:--:--\n",
      "   - -------------------------------------- 0.3/10.2 MB ? eta -:--:--\n",
      "   - -------------------------------------- 0.3/10.2 MB ? eta -:--:--\n",
      "   - -------------------------------------- 0.3/10.2 MB ? eta -:--:--\n",
      "   - -------------------------------------- 0.3/10.2 MB ? eta -:--:--\n",
      "   - -------------------------------------- 0.3/10.2 MB ? eta -:--:--\n",
      "   - -------------------------------------- 0.3/10.2 MB ? eta -:--:--\n",
      "   - -------------------------------------- 0.3/10.2 MB ? eta -:--:--\n",
      "   - -------------------------------------- 0.3/10.2 MB ? eta -:--:--\n",
      "   - -------------------------------------- 0.3/10.2 MB ? eta -:--:--\n",
      "   - -------------------------------------- 0.3/10.2 MB ? eta -:--:--\n",
      "   - -------------------------------------- 0.3/10.2 MB ? eta -:--:--\n",
      "   - -------------------------------------- 0.3/10.2 MB ? eta -:--:--\n",
      "   - -------------------------------------- 0.3/10.2 MB ? eta -:--:--\n",
      "   - -------------------------------------- 0.3/10.2 MB ? eta -:--:--\n",
      "   - -------------------------------------- 0.3/10.2 MB ? eta -:--:--\n",
      "   - -------------------------------------- 0.3/10.2 MB ? eta -:--:--\n",
      "   - -------------------------------------- 0.3/10.2 MB ? eta -:--:--\n",
      "   - -------------------------------------- 0.3/10.2 MB ? eta -:--:--\n",
      "   - -------------------------------------- 0.3/10.2 MB ? eta -:--:--\n",
      "   - -------------------------------------- 0.3/10.2 MB ? eta -:--:--\n",
      "   - -------------------------------------- 0.3/10.2 MB ? eta -:--:--\n",
      "   - -------------------------------------- 0.3/10.2 MB ? eta -:--:--\n",
      "   - -------------------------------------- 0.3/10.2 MB ? eta -:--:--\n",
      "   - -------------------------------------- 0.3/10.2 MB ? eta -:--:--\n",
      "   - -------------------------------------- 0.3/10.2 MB ? eta -:--:--\n",
      "   - -------------------------------------- 0.3/10.2 MB ? eta -:--:--\n",
      "   - -------------------------------------- 0.3/10.2 MB ? eta -:--:--\n",
      "   -- ------------------------------------- 0.5/10.2 MB 27.1 kB/s eta 0:05:57\n",
      "   -- ------------------------------------- 0.5/10.2 MB 27.1 kB/s eta 0:05:57\n",
      "   -- ------------------------------------- 0.5/10.2 MB 27.1 kB/s eta 0:05:57\n",
      "   -- ------------------------------------- 0.5/10.2 MB 27.1 kB/s eta 0:05:57\n",
      "   -- ------------------------------------- 0.5/10.2 MB 27.1 kB/s eta 0:05:57\n",
      "   -- ------------------------------------- 0.5/10.2 MB 27.1 kB/s eta 0:05:57\n",
      "   -- ------------------------------------- 0.5/10.2 MB 27.1 kB/s eta 0:05:57\n",
      "   -- ------------------------------------- 0.5/10.2 MB 27.1 kB/s eta 0:05:57\n",
      "   -- ------------------------------------- 0.5/10.2 MB 27.1 kB/s eta 0:05:57\n",
      "   -- ------------------------------------- 0.5/10.2 MB 27.1 kB/s eta 0:05:57\n",
      "   -- ------------------------------------- 0.5/10.2 MB 27.1 kB/s eta 0:05:57\n",
      "   -- ------------------------------------- 0.5/10.2 MB 27.1 kB/s eta 0:05:57\n",
      "   -- ------------------------------------- 0.5/10.2 MB 27.1 kB/s eta 0:05:57\n",
      "   -- ------------------------------------- 0.5/10.2 MB 27.1 kB/s eta 0:05:57\n",
      "   -- ------------------------------------- 0.5/10.2 MB 27.1 kB/s eta 0:05:57\n",
      "   -- ------------------------------------- 0.5/10.2 MB 27.1 kB/s eta 0:05:57\n",
      "   -- ------------------------------------- 0.5/10.2 MB 27.1 kB/s eta 0:05:57\n",
      "   -- ------------------------------------- 0.5/10.2 MB 27.1 kB/s eta 0:05:57\n",
      "   -- ------------------------------------- 0.5/10.2 MB 27.1 kB/s eta 0:05:57\n",
      "   -- ------------------------------------- 0.5/10.2 MB 27.1 kB/s eta 0:05:57\n",
      "   --- ------------------------------------ 0.8/10.2 MB 37.7 kB/s eta 0:04:09\n",
      "   --- ------------------------------------ 0.8/10.2 MB 37.7 kB/s eta 0:04:09\n",
      "   --- ------------------------------------ 0.8/10.2 MB 37.7 kB/s eta 0:04:09\n",
      "   --- ------------------------------------ 0.8/10.2 MB 37.7 kB/s eta 0:04:09\n",
      "   --- ------------------------------------ 0.8/10.2 MB 37.7 kB/s eta 0:04:09\n",
      "   --- ------------------------------------ 0.8/10.2 MB 37.7 kB/s eta 0:04:09\n",
      "   --- ------------------------------------ 0.8/10.2 MB 37.7 kB/s eta 0:04:09\n",
      "   --- ------------------------------------ 0.8/10.2 MB 37.7 kB/s eta 0:04:09\n",
      "   --- ------------------------------------ 0.8/10.2 MB 37.7 kB/s eta 0:04:09\n",
      "   --- ------------------------------------ 0.8/10.2 MB 37.7 kB/s eta 0:04:09\n",
      "   --- ------------------------------------ 0.8/10.2 MB 37.7 kB/s eta 0:04:09\n",
      "   ---- ----------------------------------- 1.0/10.2 MB 49.0 kB/s eta 0:03:07\n",
      "   ----- ---------------------------------- 1.3/10.2 MB 64.4 kB/s eta 0:02:18\n",
      "   ------ --------------------------------- 1.6/10.2 MB 79.4 kB/s eta 0:01:49\n",
      "   ------- -------------------------------- 1.8/10.2 MB 94.1 kB/s eta 0:01:29\n",
      "   ------- -------------------------------- 1.8/10.2 MB 94.1 kB/s eta 0:01:29\n",
      "   --------- ------------------------------ 2.4/10.2 MB 122.1 kB/s eta 0:01:05\n",
      "   --------- ------------------------------ 2.4/10.2 MB 122.1 kB/s eta 0:01:05\n",
      "   ---------- ----------------------------- 2.6/10.2 MB 135.5 kB/s eta 0:00:56\n",
      "   ----------- ---------------------------- 2.9/10.2 MB 148.7 kB/s eta 0:00:50\n",
      "   ------------ --------------------------- 3.1/10.2 MB 161.5 kB/s eta 0:00:44\n",
      "   ------------- -------------------------- 3.4/10.2 MB 174.0 kB/s eta 0:00:39\n",
      "   -------------- ------------------------- 3.7/10.2 MB 186.1 kB/s eta 0:00:35\n",
      "   --------------- ------------------------ 3.9/10.2 MB 198.0 kB/s eta 0:00:32\n",
      "   ---------------- ----------------------- 4.2/10.2 MB 209.5 kB/s eta 0:00:29\n",
      "   ----------------- ---------------------- 4.5/10.2 MB 220.9 kB/s eta 0:00:26\n",
      "   ------------------ --------------------- 4.7/10.2 MB 231.9 kB/s eta 0:00:24\n",
      "   ------------------- -------------------- 5.0/10.2 MB 242.6 kB/s eta 0:00:22\n",
      "   -------------------- ------------------- 5.2/10.2 MB 253.4 kB/s eta 0:00:20\n",
      "   --------------------- ------------------ 5.5/10.2 MB 263.6 kB/s eta 0:00:18\n",
      "   --------------------- ------------------ 5.5/10.2 MB 263.6 kB/s eta 0:00:18\n",
      "   ---------------------- ----------------- 5.8/10.2 MB 273.1 kB/s eta 0:00:17\n",
      "   ----------------------- ---------------- 6.0/10.2 MB 283.5 kB/s eta 0:00:15\n",
      "   ------------------------ --------------- 6.3/10.2 MB 293.2 kB/s eta 0:00:14\n",
      "   ------------------------- -------------- 6.6/10.2 MB 302.5 kB/s eta 0:00:12\n",
      "   -------------------------- ------------- 6.8/10.2 MB 311.6 kB/s eta 0:00:11\n",
      "   --------------------------- ------------ 7.1/10.2 MB 320.7 kB/s eta 0:00:10\n",
      "   ---------------------------- ----------- 7.3/10.2 MB 329.4 kB/s eta 0:00:09\n",
      "   ----------------------------- ---------- 7.6/10.2 MB 338.0 kB/s eta 0:00:08\n",
      "   ------------------------------ --------- 7.9/10.2 MB 346.5 kB/s eta 0:00:07\n",
      "   ------------------------------ --------- 7.9/10.2 MB 346.5 kB/s eta 0:00:07\n",
      "   ------------------------------- -------- 8.1/10.2 MB 354.7 kB/s eta 0:00:06\n",
      "   -------------------------------- ------- 8.4/10.2 MB 362.9 kB/s eta 0:00:05\n",
      "   ---------------------------------- ----- 8.7/10.2 MB 370.8 kB/s eta 0:00:05\n",
      "   ----------------------------------- ---- 8.9/10.2 MB 378.7 kB/s eta 0:00:04\n",
      "   ------------------------------------ --- 9.2/10.2 MB 386.2 kB/s eta 0:00:03\n",
      "   ------------------------------------- -- 9.4/10.2 MB 393.6 kB/s eta 0:00:02\n",
      "   -------------------------------------- - 9.7/10.2 MB 401.3 kB/s eta 0:00:02\n",
      "   ---------------------------------------  10.0/10.2 MB 408.4 kB/s eta 0:00:01\n",
      "   ---------------------------------------- 10.2/10.2 MB 413.7 kB/s eta 0:00:00\n",
      "Installing collected packages: pandas\n",
      "  Attempting uninstall: pandas\n",
      "    Found existing installation: pandas 2.2.3\n",
      "    Uninstalling pandas-2.2.3:\n",
      "      Successfully uninstalled pandas-2.2.3\n",
      "Successfully installed pandas-1.3.5\n",
      "Note: you may need to restart the kernel to use updated packages.\n"
     ]
    },
    {
     "name": "stderr",
     "output_type": "stream",
     "text": [
      "ERROR: pip's dependency resolver does not currently take into account all the packages that are installed. This behaviour is the source of the following dependency conflicts.\n",
      "seaborn 0.13.2 requires numpy!=1.24.0,>=1.20, but you have numpy 1.19.5 which is incompatible.\n"
     ]
    }
   ],
   "source": [
    "pip install pandas==1.3.5"
   ]
  },
  {
   "cell_type": "code",
   "execution_count": 9,
   "id": "39f2a7bc-ac7b-47fc-abf4-66344177df84",
   "metadata": {},
   "outputs": [
    {
     "name": "stdout",
     "output_type": "stream",
     "text": [
      "Adım 1: Grafiklerin kaydedileceği klasör oluşturuluyor...\n",
      "Grafik klasörü oluşturuldu: C:\\Users\\Admin\\Desktop\\TEZ\\Deepfake\\DeepFake-train-test\\_faces_preprocessed_dnn\\grafikler\n",
      "\n",
      "Adım 2: Cihaz seçiliyor (GPU veya CPU)...\n",
      "GPU bellek temizlendi.\n",
      "Kullanılan cihaz: cuda\n",
      "\n",
      "Adım 3: Veri yolları tanımlanıyor...\n",
      "Eğitim fake veri yolu: C:\\Users\\Admin\\Desktop\\TEZ\\Deepfake\\DeepFake-train-test\\_faces_preprocessed_dnn\\train-fake-frame\n",
      "Eğitim real veri yolu: C:\\Users\\Admin\\Desktop\\TEZ\\Deepfake\\DeepFake-train-test\\_faces_preprocessed_dnn\\train-real-frame\n",
      "Test fake veri yolu: C:\\Users\\Admin\\Desktop\\TEZ\\Deepfake\\DeepFake-train-test\\_faces_preprocessed_dnn\\test-fake-frame\n",
      "Test real veri yolu: C:\\Users\\Admin\\Desktop\\TEZ\\Deepfake\\DeepFake-train-test\\_faces_preprocessed_dnn\\test-real-frame\n",
      "Veri yollarının varlığı kontrol ediliyor...\n",
      "C:\\Users\\Admin\\Desktop\\TEZ\\Deepfake\\DeepFake-train-test\\_faces_preprocessed_dnn\\train-fake-frame mevcut.\n",
      "C:\\Users\\Admin\\Desktop\\TEZ\\Deepfake\\DeepFake-train-test\\_faces_preprocessed_dnn\\train-real-frame mevcut.\n",
      "C:\\Users\\Admin\\Desktop\\TEZ\\Deepfake\\DeepFake-train-test\\_faces_preprocessed_dnn\\test-fake-frame mevcut.\n",
      "C:\\Users\\Admin\\Desktop\\TEZ\\Deepfake\\DeepFake-train-test\\_faces_preprocessed_dnn\\test-real-frame mevcut.\n",
      "\n",
      "Adım 4: Veri dönüşümleri tanımlanıyor...\n",
      "Dönüşümler tanımlandı: ToPILImage, Resize(150x150), ToTensor, Normalize\n",
      "\n",
      "Adım 5: DeepfakeDataset sınıfı tanımlanıyor...\n",
      "\n",
      "Adım 6: Eğitim ve test veri setleri oluşturuluyor...\n",
      "Veri seti oluşturuluyor: Fake: C:\\Users\\Admin\\Desktop\\TEZ\\Deepfake\\DeepFake-train-test\\_faces_preprocessed_dnn\\train-fake-frame, Real: C:\\Users\\Admin\\Desktop\\TEZ\\Deepfake\\DeepFake-train-test\\_faces_preprocessed_dnn\\train-real-frame\n",
      "Fake görüntüler yükleniyor...\n",
      "Real görüntüler yükleniyor...\n",
      "273409 görüntü yüklendi.\n",
      "Veri seti oluşturuluyor: Fake: C:\\Users\\Admin\\Desktop\\TEZ\\Deepfake\\DeepFake-train-test\\_faces_preprocessed_dnn\\test-fake-frame, Real: C:\\Users\\Admin\\Desktop\\TEZ\\Deepfake\\DeepFake-train-test\\_faces_preprocessed_dnn\\test-real-frame\n",
      "Fake görüntüler yükleniyor...\n",
      "Real görüntüler yükleniyor...\n",
      "68353 görüntü yüklendi.\n",
      "Veri setleri oluşturuldu.\n",
      "\n",
      "Adım 7: Veri yükleyiciler (DataLoader) tanımlanıyor...\n",
      "Eğitim DataLoader: batch_size=64, shuffle=True, num_workers=0\n",
      "Test DataLoader: batch_size=64, shuffle=False, num_workers=0\n",
      "\n",
      "Adım 8: Sınıf ağırlıkları hesaplanıyor...\n",
      "Sınıf sayıları: Real=131002, Fake=142407\n",
      "Sınıf ağırlıkları: tensor([7.6335e-06, 7.0221e-06], device='cuda:0', dtype=torch.float64)\n",
      "\n",
      "Adım 9: Modeller tanımlanıyor...\n",
      "MobileNetV3 modeli oluşturuluyor...\n",
      "MobileNetV3: Önceden eğitilmiş, son katman 2 sınıfa uyarlandı.\n",
      "ResNet18 modeli oluşturuluyor...\n",
      "ResNet18: Önceden eğitilmiş, son katman 2 sınıfa uyarlandı.\n",
      "EfficientNet-B0 modeli oluşturuluyor...\n",
      "EfficientNet-B0: Kendi checkpoint'inden yüklendi ve son katman 2 sınıfa uyarlandı.\n"
     ]
    },
    {
     "name": "stderr",
     "output_type": "stream",
     "text": [
      "C:\\Users\\Admin\\anaconda3\\envs\\deepfake\\lib\\site-packages\\torchvision\\models\\_utils.py:223: UserWarning: Arguments other than a weight enum or `None` for 'weights' are deprecated since 0.13 and may be removed in the future. The current behavior is equivalent to passing `weights=None`.\n",
      "  warnings.warn(msg)\n"
     ]
    },
    {
     "name": "stdout",
     "output_type": "stream",
     "text": [
      "MesoNet modeli oluşturuluyor...\n",
      "MesoNet: Özel CNN mimarisi tanımlandı.\n",
      "Tüm modeller tanımlandı: ['MobileNetV3', 'ResNet18', 'EfficientNet-B0', 'MesoNet']\n",
      "\n",
      "Adım 10: Eğitim ve değerlendirme fonksiyonları tanımlanıyor...\n",
      "\n",
      "Adım 11: Eğitim döngüsü başlatılıyor...\n",
      "Kayıp fonksiyonu: CrossEntropyLoss (sınıf ağırlıklı)\n",
      "\n",
      "MobileNetV3 için eğitim başlatılıyor...\n",
      "Optimizasyon: Adam, öğrenme oranı=0.001\n",
      "Planlayıcı: ReduceLROnPlateau, factor=0.2, patience=3\n",
      "\n",
      "Epoch 1/15 başlatılıyor...\n",
      "Eğitim fonksiyonu başlatılıyor...\n"
     ]
    },
    {
     "name": "stderr",
     "output_type": "stream",
     "text": [
      "Eğitim:   0%|          | 0/4273 [00:00<?, ?it/s]"
     ]
    },
    {
     "name": "stdout",
     "output_type": "stream",
     "text": [
      "Mixed precision hatası, normal modda devam ediliyor...\n"
     ]
    },
    {
     "name": "stderr",
     "output_type": "stream",
     "text": [
      "Eğitim:   0%|          | 0/4273 [00:01<?, ?it/s]\n"
     ]
    },
    {
     "ename": "RuntimeError",
     "evalue": "expected scalar type Float but found Double",
     "output_type": "error",
     "traceback": [
      "\u001b[1;31m---------------------------------------------------------------------------\u001b[0m",
      "\u001b[1;31mRuntimeError\u001b[0m                              Traceback (most recent call last)",
      "Cell \u001b[1;32mIn[9], line 211\u001b[0m, in \u001b[0;36mtrain_model\u001b[1;34m(model, train_loader, criterion, optimizer, device)\u001b[0m\n\u001b[0;32m    210\u001b[0m         outputs \u001b[38;5;241m=\u001b[39m model(images)\n\u001b[1;32m--> 211\u001b[0m         loss \u001b[38;5;241m=\u001b[39m \u001b[43mcriterion\u001b[49m\u001b[43m(\u001b[49m\u001b[43moutputs\u001b[49m\u001b[43m,\u001b[49m\u001b[43m \u001b[49m\u001b[43mlabels\u001b[49m\u001b[43m)\u001b[49m\n\u001b[0;32m    212\u001b[0m \u001b[38;5;28;01mexcept\u001b[39;00m \u001b[38;5;167;01mRuntimeError\u001b[39;00m:\n",
      "File \u001b[1;32m~\\anaconda3\\envs\\deepfake\\lib\\site-packages\\torch\\nn\\modules\\module.py:1518\u001b[0m, in \u001b[0;36mModule._wrapped_call_impl\u001b[1;34m(self, *args, **kwargs)\u001b[0m\n\u001b[0;32m   1517\u001b[0m \u001b[38;5;28;01melse\u001b[39;00m:\n\u001b[1;32m-> 1518\u001b[0m     \u001b[38;5;28;01mreturn\u001b[39;00m \u001b[38;5;28mself\u001b[39m\u001b[38;5;241m.\u001b[39m_call_impl(\u001b[38;5;241m*\u001b[39margs, \u001b[38;5;241m*\u001b[39m\u001b[38;5;241m*\u001b[39mkwargs)\n",
      "File \u001b[1;32m~\\anaconda3\\envs\\deepfake\\lib\\site-packages\\torch\\nn\\modules\\module.py:1527\u001b[0m, in \u001b[0;36mModule._call_impl\u001b[1;34m(self, *args, **kwargs)\u001b[0m\n\u001b[0;32m   1524\u001b[0m \u001b[38;5;28;01mif\u001b[39;00m \u001b[38;5;129;01mnot\u001b[39;00m (\u001b[38;5;28mself\u001b[39m\u001b[38;5;241m.\u001b[39m_backward_hooks \u001b[38;5;129;01mor\u001b[39;00m \u001b[38;5;28mself\u001b[39m\u001b[38;5;241m.\u001b[39m_backward_pre_hooks \u001b[38;5;129;01mor\u001b[39;00m \u001b[38;5;28mself\u001b[39m\u001b[38;5;241m.\u001b[39m_forward_hooks \u001b[38;5;129;01mor\u001b[39;00m \u001b[38;5;28mself\u001b[39m\u001b[38;5;241m.\u001b[39m_forward_pre_hooks\n\u001b[0;32m   1525\u001b[0m         \u001b[38;5;129;01mor\u001b[39;00m _global_backward_pre_hooks \u001b[38;5;129;01mor\u001b[39;00m _global_backward_hooks\n\u001b[0;32m   1526\u001b[0m         \u001b[38;5;129;01mor\u001b[39;00m _global_forward_hooks \u001b[38;5;129;01mor\u001b[39;00m _global_forward_pre_hooks):\n\u001b[1;32m-> 1527\u001b[0m     \u001b[38;5;28;01mreturn\u001b[39;00m forward_call(\u001b[38;5;241m*\u001b[39margs, \u001b[38;5;241m*\u001b[39m\u001b[38;5;241m*\u001b[39mkwargs)\n\u001b[0;32m   1529\u001b[0m \u001b[38;5;28;01mtry\u001b[39;00m:\n",
      "File \u001b[1;32m~\\anaconda3\\envs\\deepfake\\lib\\site-packages\\torch\\nn\\modules\\loss.py:1179\u001b[0m, in \u001b[0;36mCrossEntropyLoss.forward\u001b[1;34m(self, input, target)\u001b[0m\n\u001b[0;32m   1178\u001b[0m \u001b[38;5;28;01mdef\u001b[39;00m\u001b[38;5;250m \u001b[39m\u001b[38;5;21mforward\u001b[39m(\u001b[38;5;28mself\u001b[39m, \u001b[38;5;28minput\u001b[39m: Tensor, target: Tensor) \u001b[38;5;241m-\u001b[39m\u001b[38;5;241m>\u001b[39m Tensor:\n\u001b[1;32m-> 1179\u001b[0m     \u001b[38;5;28;01mreturn\u001b[39;00m \u001b[43mF\u001b[49m\u001b[38;5;241;43m.\u001b[39;49m\u001b[43mcross_entropy\u001b[49m\u001b[43m(\u001b[49m\u001b[38;5;28;43minput\u001b[39;49m\u001b[43m,\u001b[49m\u001b[43m \u001b[49m\u001b[43mtarget\u001b[49m\u001b[43m,\u001b[49m\u001b[43m \u001b[49m\u001b[43mweight\u001b[49m\u001b[38;5;241;43m=\u001b[39;49m\u001b[38;5;28;43mself\u001b[39;49m\u001b[38;5;241;43m.\u001b[39;49m\u001b[43mweight\u001b[49m\u001b[43m,\u001b[49m\n\u001b[0;32m   1180\u001b[0m \u001b[43m                           \u001b[49m\u001b[43mignore_index\u001b[49m\u001b[38;5;241;43m=\u001b[39;49m\u001b[38;5;28;43mself\u001b[39;49m\u001b[38;5;241;43m.\u001b[39;49m\u001b[43mignore_index\u001b[49m\u001b[43m,\u001b[49m\u001b[43m \u001b[49m\u001b[43mreduction\u001b[49m\u001b[38;5;241;43m=\u001b[39;49m\u001b[38;5;28;43mself\u001b[39;49m\u001b[38;5;241;43m.\u001b[39;49m\u001b[43mreduction\u001b[49m\u001b[43m,\u001b[49m\n\u001b[0;32m   1181\u001b[0m \u001b[43m                           \u001b[49m\u001b[43mlabel_smoothing\u001b[49m\u001b[38;5;241;43m=\u001b[39;49m\u001b[38;5;28;43mself\u001b[39;49m\u001b[38;5;241;43m.\u001b[39;49m\u001b[43mlabel_smoothing\u001b[49m\u001b[43m)\u001b[49m\n",
      "File \u001b[1;32m~\\anaconda3\\envs\\deepfake\\lib\\site-packages\\torch\\nn\\functional.py:3053\u001b[0m, in \u001b[0;36mcross_entropy\u001b[1;34m(input, target, weight, size_average, ignore_index, reduce, reduction, label_smoothing)\u001b[0m\n\u001b[0;32m   3052\u001b[0m     reduction \u001b[38;5;241m=\u001b[39m _Reduction\u001b[38;5;241m.\u001b[39mlegacy_get_string(size_average, reduce)\n\u001b[1;32m-> 3053\u001b[0m \u001b[38;5;28;01mreturn\u001b[39;00m \u001b[43mtorch\u001b[49m\u001b[38;5;241;43m.\u001b[39;49m\u001b[43m_C\u001b[49m\u001b[38;5;241;43m.\u001b[39;49m\u001b[43m_nn\u001b[49m\u001b[38;5;241;43m.\u001b[39;49m\u001b[43mcross_entropy_loss\u001b[49m\u001b[43m(\u001b[49m\u001b[38;5;28;43minput\u001b[39;49m\u001b[43m,\u001b[49m\u001b[43m \u001b[49m\u001b[43mtarget\u001b[49m\u001b[43m,\u001b[49m\u001b[43m \u001b[49m\u001b[43mweight\u001b[49m\u001b[43m,\u001b[49m\u001b[43m \u001b[49m\u001b[43m_Reduction\u001b[49m\u001b[38;5;241;43m.\u001b[39;49m\u001b[43mget_enum\u001b[49m\u001b[43m(\u001b[49m\u001b[43mreduction\u001b[49m\u001b[43m)\u001b[49m\u001b[43m,\u001b[49m\u001b[43m \u001b[49m\u001b[43mignore_index\u001b[49m\u001b[43m,\u001b[49m\u001b[43m \u001b[49m\u001b[43mlabel_smoothing\u001b[49m\u001b[43m)\u001b[49m\n",
      "\u001b[1;31mRuntimeError\u001b[0m: expected scalar type Float but found Double",
      "\nDuring handling of the above exception, another exception occurred:\n",
      "\u001b[1;31mRuntimeError\u001b[0m                              Traceback (most recent call last)",
      "Cell \u001b[1;32mIn[9], line 276\u001b[0m\n\u001b[0;32m    274\u001b[0m \u001b[38;5;28;01mfor\u001b[39;00m epoch \u001b[38;5;129;01min\u001b[39;00m \u001b[38;5;28mrange\u001b[39m(\u001b[38;5;241m15\u001b[39m):\n\u001b[0;32m    275\u001b[0m     \u001b[38;5;28mprint\u001b[39m(\u001b[38;5;124mf\u001b[39m\u001b[38;5;124m\"\u001b[39m\u001b[38;5;130;01m\\n\u001b[39;00m\u001b[38;5;124mEpoch \u001b[39m\u001b[38;5;132;01m{\u001b[39;00mepoch\u001b[38;5;241m+\u001b[39m\u001b[38;5;241m1\u001b[39m\u001b[38;5;132;01m}\u001b[39;00m\u001b[38;5;124m/15 başlatılıyor...\u001b[39m\u001b[38;5;124m\"\u001b[39m)\n\u001b[1;32m--> 276\u001b[0m     train_loss, train_acc, train_running_loss, train_correct \u001b[38;5;241m=\u001b[39m \u001b[43mtrain_model\u001b[49m\u001b[43m(\u001b[49m\u001b[43mmodel\u001b[49m\u001b[43m,\u001b[49m\u001b[43m \u001b[49m\u001b[43mtrain_loader\u001b[49m\u001b[43m,\u001b[49m\u001b[43m \u001b[49m\u001b[43mcriterion\u001b[49m\u001b[43m,\u001b[49m\u001b[43m \u001b[49m\u001b[43moptimizer\u001b[49m\u001b[43m,\u001b[49m\u001b[43m \u001b[49m\u001b[43mdevice\u001b[49m\u001b[43m)\u001b[49m\n\u001b[0;32m    277\u001b[0m     val_loss, val_acc, val_predictions, val_true_labels, val_probs \u001b[38;5;241m=\u001b[39m evaluate_model(model, test_loader, criterion, device)\n\u001b[0;32m    278\u001b[0m     train_accs\u001b[38;5;241m.\u001b[39mappend(train_acc)\n",
      "Cell \u001b[1;32mIn[9], line 215\u001b[0m, in \u001b[0;36mtrain_model\u001b[1;34m(model, train_loader, criterion, optimizer, device)\u001b[0m\n\u001b[0;32m    213\u001b[0m     \u001b[38;5;28mprint\u001b[39m(\u001b[38;5;124m\"\u001b[39m\u001b[38;5;124mMixed precision hatası, normal modda devam ediliyor...\u001b[39m\u001b[38;5;124m\"\u001b[39m)\n\u001b[0;32m    214\u001b[0m     outputs \u001b[38;5;241m=\u001b[39m model(images)\n\u001b[1;32m--> 215\u001b[0m     loss \u001b[38;5;241m=\u001b[39m \u001b[43mcriterion\u001b[49m\u001b[43m(\u001b[49m\u001b[43moutputs\u001b[49m\u001b[43m,\u001b[49m\u001b[43m \u001b[49m\u001b[43mlabels\u001b[49m\u001b[43m)\u001b[49m\n\u001b[0;32m    216\u001b[0m scaler\u001b[38;5;241m.\u001b[39mscale(loss)\u001b[38;5;241m.\u001b[39mbackward()\n\u001b[0;32m    217\u001b[0m scaler\u001b[38;5;241m.\u001b[39mstep(optimizer)\n",
      "File \u001b[1;32m~\\anaconda3\\envs\\deepfake\\lib\\site-packages\\torch\\nn\\modules\\module.py:1518\u001b[0m, in \u001b[0;36mModule._wrapped_call_impl\u001b[1;34m(self, *args, **kwargs)\u001b[0m\n\u001b[0;32m   1516\u001b[0m     \u001b[38;5;28;01mreturn\u001b[39;00m \u001b[38;5;28mself\u001b[39m\u001b[38;5;241m.\u001b[39m_compiled_call_impl(\u001b[38;5;241m*\u001b[39margs, \u001b[38;5;241m*\u001b[39m\u001b[38;5;241m*\u001b[39mkwargs)  \u001b[38;5;66;03m# type: ignore[misc]\u001b[39;00m\n\u001b[0;32m   1517\u001b[0m \u001b[38;5;28;01melse\u001b[39;00m:\n\u001b[1;32m-> 1518\u001b[0m     \u001b[38;5;28;01mreturn\u001b[39;00m \u001b[38;5;28mself\u001b[39m\u001b[38;5;241m.\u001b[39m_call_impl(\u001b[38;5;241m*\u001b[39margs, \u001b[38;5;241m*\u001b[39m\u001b[38;5;241m*\u001b[39mkwargs)\n",
      "File \u001b[1;32m~\\anaconda3\\envs\\deepfake\\lib\\site-packages\\torch\\nn\\modules\\module.py:1527\u001b[0m, in \u001b[0;36mModule._call_impl\u001b[1;34m(self, *args, **kwargs)\u001b[0m\n\u001b[0;32m   1522\u001b[0m \u001b[38;5;66;03m# If we don't have any hooks, we want to skip the rest of the logic in\u001b[39;00m\n\u001b[0;32m   1523\u001b[0m \u001b[38;5;66;03m# this function, and just call forward.\u001b[39;00m\n\u001b[0;32m   1524\u001b[0m \u001b[38;5;28;01mif\u001b[39;00m \u001b[38;5;129;01mnot\u001b[39;00m (\u001b[38;5;28mself\u001b[39m\u001b[38;5;241m.\u001b[39m_backward_hooks \u001b[38;5;129;01mor\u001b[39;00m \u001b[38;5;28mself\u001b[39m\u001b[38;5;241m.\u001b[39m_backward_pre_hooks \u001b[38;5;129;01mor\u001b[39;00m \u001b[38;5;28mself\u001b[39m\u001b[38;5;241m.\u001b[39m_forward_hooks \u001b[38;5;129;01mor\u001b[39;00m \u001b[38;5;28mself\u001b[39m\u001b[38;5;241m.\u001b[39m_forward_pre_hooks\n\u001b[0;32m   1525\u001b[0m         \u001b[38;5;129;01mor\u001b[39;00m _global_backward_pre_hooks \u001b[38;5;129;01mor\u001b[39;00m _global_backward_hooks\n\u001b[0;32m   1526\u001b[0m         \u001b[38;5;129;01mor\u001b[39;00m _global_forward_hooks \u001b[38;5;129;01mor\u001b[39;00m _global_forward_pre_hooks):\n\u001b[1;32m-> 1527\u001b[0m     \u001b[38;5;28;01mreturn\u001b[39;00m forward_call(\u001b[38;5;241m*\u001b[39margs, \u001b[38;5;241m*\u001b[39m\u001b[38;5;241m*\u001b[39mkwargs)\n\u001b[0;32m   1529\u001b[0m \u001b[38;5;28;01mtry\u001b[39;00m:\n\u001b[0;32m   1530\u001b[0m     result \u001b[38;5;241m=\u001b[39m \u001b[38;5;28;01mNone\u001b[39;00m\n",
      "File \u001b[1;32m~\\anaconda3\\envs\\deepfake\\lib\\site-packages\\torch\\nn\\modules\\loss.py:1179\u001b[0m, in \u001b[0;36mCrossEntropyLoss.forward\u001b[1;34m(self, input, target)\u001b[0m\n\u001b[0;32m   1178\u001b[0m \u001b[38;5;28;01mdef\u001b[39;00m\u001b[38;5;250m \u001b[39m\u001b[38;5;21mforward\u001b[39m(\u001b[38;5;28mself\u001b[39m, \u001b[38;5;28minput\u001b[39m: Tensor, target: Tensor) \u001b[38;5;241m-\u001b[39m\u001b[38;5;241m>\u001b[39m Tensor:\n\u001b[1;32m-> 1179\u001b[0m     \u001b[38;5;28;01mreturn\u001b[39;00m \u001b[43mF\u001b[49m\u001b[38;5;241;43m.\u001b[39;49m\u001b[43mcross_entropy\u001b[49m\u001b[43m(\u001b[49m\u001b[38;5;28;43minput\u001b[39;49m\u001b[43m,\u001b[49m\u001b[43m \u001b[49m\u001b[43mtarget\u001b[49m\u001b[43m,\u001b[49m\u001b[43m \u001b[49m\u001b[43mweight\u001b[49m\u001b[38;5;241;43m=\u001b[39;49m\u001b[38;5;28;43mself\u001b[39;49m\u001b[38;5;241;43m.\u001b[39;49m\u001b[43mweight\u001b[49m\u001b[43m,\u001b[49m\n\u001b[0;32m   1180\u001b[0m \u001b[43m                           \u001b[49m\u001b[43mignore_index\u001b[49m\u001b[38;5;241;43m=\u001b[39;49m\u001b[38;5;28;43mself\u001b[39;49m\u001b[38;5;241;43m.\u001b[39;49m\u001b[43mignore_index\u001b[49m\u001b[43m,\u001b[49m\u001b[43m \u001b[49m\u001b[43mreduction\u001b[49m\u001b[38;5;241;43m=\u001b[39;49m\u001b[38;5;28;43mself\u001b[39;49m\u001b[38;5;241;43m.\u001b[39;49m\u001b[43mreduction\u001b[49m\u001b[43m,\u001b[49m\n\u001b[0;32m   1181\u001b[0m \u001b[43m                           \u001b[49m\u001b[43mlabel_smoothing\u001b[49m\u001b[38;5;241;43m=\u001b[39;49m\u001b[38;5;28;43mself\u001b[39;49m\u001b[38;5;241;43m.\u001b[39;49m\u001b[43mlabel_smoothing\u001b[49m\u001b[43m)\u001b[49m\n",
      "File \u001b[1;32m~\\anaconda3\\envs\\deepfake\\lib\\site-packages\\torch\\nn\\functional.py:3053\u001b[0m, in \u001b[0;36mcross_entropy\u001b[1;34m(input, target, weight, size_average, ignore_index, reduce, reduction, label_smoothing)\u001b[0m\n\u001b[0;32m   3051\u001b[0m \u001b[38;5;28;01mif\u001b[39;00m size_average \u001b[38;5;129;01mis\u001b[39;00m \u001b[38;5;129;01mnot\u001b[39;00m \u001b[38;5;28;01mNone\u001b[39;00m \u001b[38;5;129;01mor\u001b[39;00m reduce \u001b[38;5;129;01mis\u001b[39;00m \u001b[38;5;129;01mnot\u001b[39;00m \u001b[38;5;28;01mNone\u001b[39;00m:\n\u001b[0;32m   3052\u001b[0m     reduction \u001b[38;5;241m=\u001b[39m _Reduction\u001b[38;5;241m.\u001b[39mlegacy_get_string(size_average, reduce)\n\u001b[1;32m-> 3053\u001b[0m \u001b[38;5;28;01mreturn\u001b[39;00m \u001b[43mtorch\u001b[49m\u001b[38;5;241;43m.\u001b[39;49m\u001b[43m_C\u001b[49m\u001b[38;5;241;43m.\u001b[39;49m\u001b[43m_nn\u001b[49m\u001b[38;5;241;43m.\u001b[39;49m\u001b[43mcross_entropy_loss\u001b[49m\u001b[43m(\u001b[49m\u001b[38;5;28;43minput\u001b[39;49m\u001b[43m,\u001b[49m\u001b[43m \u001b[49m\u001b[43mtarget\u001b[49m\u001b[43m,\u001b[49m\u001b[43m \u001b[49m\u001b[43mweight\u001b[49m\u001b[43m,\u001b[49m\u001b[43m \u001b[49m\u001b[43m_Reduction\u001b[49m\u001b[38;5;241;43m.\u001b[39;49m\u001b[43mget_enum\u001b[49m\u001b[43m(\u001b[49m\u001b[43mreduction\u001b[49m\u001b[43m)\u001b[49m\u001b[43m,\u001b[49m\u001b[43m \u001b[49m\u001b[43mignore_index\u001b[49m\u001b[43m,\u001b[49m\u001b[43m \u001b[49m\u001b[43mlabel_smoothing\u001b[49m\u001b[43m)\u001b[49m\n",
      "\u001b[1;31mRuntimeError\u001b[0m: expected scalar type Float but found Double"
     ]
    }
   ],
   "source": [
    "import os\n",
    "import cv2\n",
    "import numpy as np\n",
    "import torch\n",
    "import torch.nn as nn\n",
    "import torch.optim as optim\n",
    "from torch.utils.data import Dataset, DataLoader\n",
    "from torchvision import models, transforms\n",
    "from torchvision.models import efficientnet_b0, EfficientNet_B0_Weights\n",
    "from sklearn.metrics import accuracy_score, precision_score, recall_score, f1_score, roc_auc_score, confusion_matrix\n",
    "import matplotlib.pyplot as plt\n",
    "import seaborn as sns\n",
    "from tqdm import tqdm\n",
    "import time\n",
    "from torch.cuda.amp import autocast, GradScaler\n",
    "\n",
    "\n",
    "# 1. Grafiklerin kaydedileceği klasörü oluştur\n",
    "print(\"Adım 1: Grafiklerin kaydedileceği klasör oluşturuluyor...\")\n",
    "base_path = r\"C:\\Users\\Admin\\Desktop\\TEZ\\Deepfake\\DeepFake-train-test\\_faces_preprocessed_dnn\"\n",
    "graph_dir = os.path.join(base_path, \"grafikler\")\n",
    "os.makedirs(graph_dir, exist_ok=True)\n",
    "print(f\"Grafik klasörü oluşturuldu: {graph_dir}\")\n",
    "\n",
    "# 2. Cihaz seçimi ve GPU bellek temizliği\n",
    "print(\"\\nAdım 2: Cihaz seçiliyor (GPU veya CPU)...\")\n",
    "device = torch.device(\"cuda\" if torch.cuda.is_available() else \"cpu\")\n",
    "if device.type == \"cuda\":\n",
    "    torch.cuda.empty_cache()\n",
    "    print(\"GPU bellek temizlendi.\")\n",
    "print(f\"Kullanılan cihaz: {device}\")\n",
    "\n",
    "# 3. Veri yollarını tanımla\n",
    "print(\"\\nAdım 3: Veri yolları tanımlanıyor...\")\n",
    "train_fake_path = r\"C:\\Users\\Admin\\Desktop\\TEZ\\Deepfake\\DeepFake-train-test\\_faces_preprocessed_dnn\\train-fake-frame\"\n",
    "train_real_path = r\"C:\\Users\\Admin\\Desktop\\TEZ\\Deepfake\\DeepFake-train-test\\_faces_preprocessed_dnn\\train-real-frame\"\n",
    "test_fake_path = r\"C:\\Users\\Admin\\Desktop\\TEZ\\Deepfake\\DeepFake-train-test\\_faces_preprocessed_dnn\\test-fake-frame\"\n",
    "test_real_path = r\"C:\\Users\\Admin\\Desktop\\TEZ\\Deepfake\\DeepFake-train-test\\_faces_preprocessed_dnn\\test-real-frame\"\n",
    "print(f\"Eğitim fake veri yolu: {train_fake_path}\")\n",
    "print(f\"Eğitim real veri yolu: {train_real_path}\")\n",
    "print(f\"Test fake veri yolu: {test_fake_path}\")\n",
    "print(f\"Test real veri yolu: {test_real_path}\")\n",
    "\n",
    "# Veri yollarının varlığını kontrol et\n",
    "print(\"Veri yollarının varlığı kontrol ediliyor...\")\n",
    "for path in [train_fake_path, train_real_path, test_fake_path, test_real_path]:\n",
    "    if not os.path.exists(path):\n",
    "        print(f\"Hata: {path} mevcut değil!\")\n",
    "    else:\n",
    "        print(f\"{path} mevcut.\")\n",
    "\n",
    "# 4. Veri dönüşümleri\n",
    "print(\"\\nAdım 4: Veri dönüşümleri tanımlanıyor...\")\n",
    "transform = transforms.Compose([\n",
    "    transforms.ToPILImage(),\n",
    "    transforms.Resize((150, 150)),\n",
    "    transforms.ToTensor(),\n",
    "    transforms.Normalize(mean=[0.5, 0.5, 0.5], std=[0.5, 0.5, 0.5])\n",
    "])\n",
    "print(\"Dönüşümler tanımlandı: ToPILImage, Resize(150x150), ToTensor, Normalize\")\n",
    "\n",
    "# 5. Veri seti sınıfı\n",
    "print(\"\\nAdım 5: DeepfakeDataset sınıfı tanımlanıyor...\")\n",
    "class DeepfakeDataset(Dataset):\n",
    "    def __init__(self, fake_path, real_path, transform=None):\n",
    "        print(f\"Veri seti oluşturuluyor: Fake: {fake_path}, Real: {real_path}\")\n",
    "        self.transform = transform\n",
    "        self.images = []\n",
    "        self.labels = []\n",
    "        missing_files = []\n",
    "        print(\"Fake görüntüler yükleniyor...\")\n",
    "        for img_name in os.listdir(fake_path):\n",
    "            img_path = os.path.join(fake_path, img_name)\n",
    "            if cv2.imread(img_path) is not None:\n",
    "                self.images.append(img_path)\n",
    "                self.labels.append(1)  # Fake: 1\n",
    "            else:\n",
    "                missing_files.append(img_path)\n",
    "        print(\"Real görüntüler yükleniyor...\")\n",
    "        for img_name in os.listdir(real_path):\n",
    "            img_path = os.path.join(real_path, img_name)\n",
    "            if cv2.imread(img_path) is not None:\n",
    "                self.images.append(img_path)\n",
    "                self.labels.append(0)  # Real: 0\n",
    "            else:\n",
    "                missing_files.append(img_path)\n",
    "        print(f\"{len(self.images)} görüntü yüklendi.\")\n",
    "        if missing_files:\n",
    "            print(f\"{len(missing_files)} dosya yüklenemedi: {missing_files[:5]}...\")\n",
    "\n",
    "    def __len__(self):\n",
    "        return len(self.images)\n",
    "\n",
    "    def __getitem__(self, idx):\n",
    "        img_path = self.images[idx]\n",
    "        image = cv2.imread(img_path)\n",
    "        if image is None:\n",
    "            print(f\"Yüklenemedi: {img_path}, rastgele başka bir görüntü seçiliyor...\")\n",
    "            idx = np.random.randint(0, len(self.images))\n",
    "            return self.__getitem__(idx)\n",
    "        image = cv2.cvtColor(image, cv2.COLOR_BGR2RGB)\n",
    "        if self.transform:\n",
    "            image = self.transform(image)\n",
    "        label = self.labels[idx]\n",
    "        return image, label\n",
    "\n",
    "# 6. Veri setlerini oluştur\n",
    "print(\"\\nAdım 6: Eğitim ve test veri setleri oluşturuluyor...\")\n",
    "train_dataset = DeepfakeDataset(train_fake_path, train_real_path, transform=transform)\n",
    "test_dataset = DeepfakeDataset(test_fake_path, test_real_path, transform=transform)\n",
    "print(\"Veri setleri oluşturuldu.\")\n",
    "\n",
    "# 7. Veri yükleyiciler\n",
    "print(\"\\nAdım 7: Veri yükleyiciler (DataLoader) tanımlanıyor...\")\n",
    "train_loader = DataLoader(train_dataset, batch_size=64, shuffle=True, num_workers=0, pin_memory=True)\n",
    "test_loader = DataLoader(test_dataset, batch_size=64, shuffle=False, num_workers=0, pin_memory=True)\n",
    "print(f\"Eğitim DataLoader: batch_size=64, shuffle=True, num_workers=0\")\n",
    "print(f\"Test DataLoader: batch_size=64, shuffle=False, num_workers=0\")\n",
    "\n",
    "# 8. Sınıf ağırlıkları (dengesiz veri seti için)\n",
    "print(\"\\nAdım 8: Sınıf ağırlıkları hesaplanıyor...\")\n",
    "class_counts = [sum(np.array(train_dataset.labels) == i) for i in range(2)]\n",
    "class_weights = torch.tensor([1.0 / c for c in class_counts]).to(device)\n",
    "print(f\"Sınıf sayıları: Real={class_counts[0]}, Fake={class_counts[1]}\")\n",
    "print(f\"Sınıf ağırlıkları: {class_weights}\")\n",
    "\n",
    "# 9. Modeller\n",
    "print(\"\\nAdım 9: Modeller tanımlanıyor...\")\n",
    "def get_model(model_name):\n",
    "    print(f\"{model_name} modeli oluşturuluyor...\")\n",
    "    if model_name == \"MobileNetV3\":\n",
    "        model = models.mobilenet_v3_small(pretrained=True)\n",
    "        for param in model.parameters():\n",
    "            param.requires_grad = False\n",
    "        model.classifier[3] = nn.Linear(model.classifier[3].in_features, 2)\n",
    "        print(\"MobileNetV3: Önceden eğitilmiş, son katman 2 sınıfa uyarlandı.\")\n",
    "    elif model_name == \"ResNet18\":\n",
    "        model = models.resnet18(pretrained=True)\n",
    "        for param in model.parameters():\n",
    "            param.requires_grad = False\n",
    "        model.fc = nn.Linear(model.fc.in_features, 2)\n",
    "        print(\"ResNet18: Önceden eğitilmiş, son katman 2 sınıfa uyarlandı.\")\n",
    "    elif model_name == \"EfficientNet-B0\":\n",
    "        model = models.efficientnet_b0(pretrained=False)  # kendi checkpoint'i yükleyeceğimiz için pretrained=False\n",
    "        checkpoint_path = \"C:/Users/Admin/.cache/torch/hub/checkpoints/efficientnet_b0_rwightman-7f5810bc.pth\"\n",
    "        state_dict = torch.load(checkpoint_path)\n",
    "        model.load_state_dict(state_dict)\n",
    "        for param in model.parameters():\n",
    "            param.requires_grad = False\n",
    "        model.classifier[1] = nn.Linear(model.classifier[1].in_features, 2)\n",
    "        print(\"EfficientNet-B0: Kendi checkpoint'inden yüklendi ve son katman 2 sınıfa uyarlandı.\")\n",
    "    elif model_name == \"MesoNet\":\n",
    "        class MesoNet(nn.Module):\n",
    "            def __init__(self):\n",
    "                super(MesoNet, self).__init__()\n",
    "                self.conv1 = nn.Conv2d(3, 8, 3, padding=1)\n",
    "                self.conv2 = nn.Conv2d(8, 8, 5, padding=2)\n",
    "                self.conv3 = nn.Conv2d(8, 16, 5, padding=2)\n",
    "                self.conv4 = nn.Conv2d(16, 16, 5, padding=2)\n",
    "                self.pool = nn.MaxPool2d(2, 2)\n",
    "                self.relu = nn.ReLU()\n",
    "                self.batchnorm1 = nn.BatchNorm2d(8)\n",
    "                self.batchnorm2 = nn.BatchNorm2d(16)\n",
    "                self.dropout = nn.Dropout(0.2)\n",
    "                self.fc1 = nn.Linear(16 * 9 * 9, 16)\n",
    "                self.fc2 = nn.Linear(16, 2)\n",
    "                print(\"MesoNet: Özel CNN mimarisi tanımlandı.\")\n",
    "\n",
    "            def forward(self, x):\n",
    "                x = self.relu(self.batchnorm1(self.conv1(x)))\n",
    "                x = self.pool(x)\n",
    "                x = self.relu(self.batchnorm1(self.conv2(x)))\n",
    "                x = self.pool(x)\n",
    "                x = self.relu(self.batchnorm2(self.conv3(x)))\n",
    "                x = self.pool(x)\n",
    "                x = self.relu(self.batchnorm2(self.conv4(x)))\n",
    "                x = self.pool(x)\n",
    "                x = x.view(-1, 16 * 9 * 9)\n",
    "                x = self.dropout(self.relu(self.fc1(x)))\n",
    "                x = self.fc2(x)\n",
    "                return x\n",
    "        model = MesoNet()\n",
    "    return model.to(device)\n",
    "\n",
    "models_dict = {\n",
    "    'MobileNetV3': get_model('MobileNetV3'),\n",
    "    'ResNet18': get_model('ResNet18'),\n",
    "    'EfficientNet-B0': get_model('EfficientNet-B0'),\n",
    "    'MesoNet': get_model('MesoNet')\n",
    "}\n",
    "print(\"Tüm modeller tanımlandı:\", list(models_dict.keys()))\n",
    "\n",
    "# 10. Eğitim ve değerlendirme fonksiyonları\n",
    "print(\"\\nAdım 10: Eğitim ve değerlendirme fonksiyonları tanımlanıyor...\")\n",
    "def train_model(model, train_loader, criterion, optimizer, device):\n",
    "    print(\"Eğitim fonksiyonu başlatılıyor...\")\n",
    "    model.train()\n",
    "    scaler = GradScaler()\n",
    "    running_loss = 0.0\n",
    "    correct = 0\n",
    "    total = 0\n",
    "    for images, labels in tqdm(train_loader, desc=\"Eğitim\"):\n",
    "        if images is None:\n",
    "            print(\"Boş görüntü atlanıyor...\")\n",
    "            continue\n",
    "        images, labels = images.to(device, non_blocking=True), labels.to(device, non_blocking=True)\n",
    "        optimizer.zero_grad()\n",
    "        try:\n",
    "            with autocast():\n",
    "                outputs = model(images)\n",
    "                loss = criterion(outputs, labels)\n",
    "        except RuntimeError:\n",
    "            print(\"Mixed precision hatası, normal modda devam ediliyor...\")\n",
    "            outputs = model(images)\n",
    "            loss = criterion(outputs, labels)\n",
    "        scaler.scale(loss).backward()\n",
    "        scaler.step(optimizer)\n",
    "        scaler.update()\n",
    "        running_loss += loss.item()\n",
    "        _, predicted = torch.max(outputs, 1)\n",
    "        total += labels.size(0)\n",
    "        correct += (predicted == labels).sum().item()\n",
    "    epoch_loss = running_loss / len(train_loader)\n",
    "    epoch_acc = correct / total\n",
    "    print(f\"Eğitim tamamlandı: Kayıp={epoch_loss:.4f}, Doğruluk={epoch_acc:.4f}\")\n",
    "    return epoch_loss, epoch_acc, running_loss, correct\n",
    "\n",
    "def evaluate_model(model, test_loader, criterion, device):\n",
    "    print(\"Değerlendirme fonksiyonu başlatılıyor...\")\n",
    "    model.eval()\n",
    "    running_loss = 0.0\n",
    "    correct = 0\n",
    "    total = 0\n",
    "    predictions, true_labels, probs = [], [], []\n",
    "    with torch.no_grad():\n",
    "        for images, labels in tqdm(test_loader, desc=\"Değerlendirme\"):\n",
    "            if images is None:\n",
    "                print(\"Boş görüntü atlanıyor...\")\n",
    "                continue\n",
    "            images, labels = images.to(device, non_blocking=True), labels.to(device, non_blocking=True)\n",
    "            with autocast():\n",
    "                outputs = model(images)\n",
    "                loss = criterion(outputs, labels)\n",
    "            running_loss += loss.item()\n",
    "            _, predicted = torch.max(outputs, 1)\n",
    "            total += labels.size(0)\n",
    "            correct += (predicted == labels).sum().item()\n",
    "            predictions.extend(predicted.cpu().numpy())\n",
    "            true_labels.extend(labels.cpu().numpy())\n",
    "            probs.extend(torch.softmax(outputs, dim=1)[:, 1].cpu().numpy())\n",
    "    epoch_loss = running_loss / len(test_loader)\n",
    "    epoch_acc = correct / total\n",
    "    print(f\"Değerlendirme tamamlandı: Kayıp={epoch_loss:.4f}, Doğruluk={epoch_acc:.4f}\")\n",
    "    return epoch_loss, epoch_acc, predictions, true_labels, probs\n",
    "\n",
    "# 11. Eğitim döngüsü\n",
    "print(\"\\nAdım 11: Eğitim döngüsü başlatılıyor...\")\n",
    "results = {}\n",
    "criterion = nn.CrossEntropyLoss(weight=class_weights)\n",
    "print(\"Kayıp fonksiyonu: CrossEntropyLoss (sınıf ağırlıklı)\")\n",
    "for model_name, model in models_dict.items():\n",
    "    print(f\"\\n{model_name} için eğitim başlatılıyor...\")\n",
    "    optimizer = optim.Adam(model.parameters(), lr=0.001)\n",
    "    scheduler = optim.lr_scheduler.ReduceLROnPlateau(optimizer, factor=0.2, patience=3)\n",
    "    print(f\"Optimizasyon: Adam, öğrenme oranı=0.001\")\n",
    "    print(\"Planlayıcı: ReduceLROnPlateau, factor=0.2, patience=3\")\n",
    "    best_val_loss = float('inf')\n",
    "    best_val_acc = 0\n",
    "    patience = 5\n",
    "    counter = 0\n",
    "    train_accs, val_accs, train_losses, val_losses = [], [], [], []\n",
    "\n",
    "    start_time = time.time()\n",
    "    for epoch in range(15):\n",
    "        print(f\"\\nEpoch {epoch+1}/15 başlatılıyor...\")\n",
    "        train_loss, train_acc, train_running_loss, train_correct = train_model(model, train_loader, criterion, optimizer, device)\n",
    "        val_loss, val_acc, val_predictions, val_true_labels, val_probs = evaluate_model(model, test_loader, criterion, device)\n",
    "        train_accs.append(train_acc)\n",
    "        val_accs.append(val_acc)\n",
    "        train_losses.append(train_loss)\n",
    "        val_losses.append(val_loss)\n",
    "        print(f\"Epoch {epoch+1}/15 - Eğitim Kaybı: {train_loss:.4f}, Eğitim Doğruluğu: {train_acc:.4f}, \"\n",
    "              f\"Doğrulama Kaybı: {val_loss:.4f}, Doğrulama Doğruluğu: {val_acc:.4f}\")\n",
    "        scheduler.step(val_loss)\n",
    "        if val_loss < best_val_loss or val_acc > best_val_acc:\n",
    "            best_val_loss = val_loss\n",
    "            best_val_acc = max(val_acc, best_val_acc)\n",
    "            print(f\"En iyi model kaydediliyor: {os.path.join(graph_dir, f'{model_name}_model.pth')}\")\n",
    "            torch.save(model.state_dict(), os.path.join(graph_dir, f'{model_name}_model.pth'))\n",
    "            counter = 0\n",
    "        else:\n",
    "            counter += 1\n",
    "            print(f\"Erken durdurma sayacı: {counter}/{patience}\")\n",
    "            if counter >= patience:\n",
    "                print(\"Erken durdurma tetiklendi\")\n",
    "                break\n",
    "    training_time = time.time() - start_time\n",
    "    print(f\"{model_name} eğitimi {training_time:.2f} saniyede tamamlandı\")\n",
    "\n",
    "    print(f\"\\n{model_name} için en iyi model yükleniyor...\")\n",
    "    model.load_state_dict(torch.load(os.path.join(graph_dir, f'{model_name}_model.pth')))\n",
    "    print(f\"{model_name} değerlendiriliyor...\")\n",
    "    start_time = time.time()\n",
    "    _, accuracy, pred_labels, true_labels, probs = evaluate_model(model, test_loader, criterion, device)\n",
    "    test_time = time.time() - start_time\n",
    "    precision = precision_score(true_labels, pred_labels, zero_division=0)\n",
    "    recall = recall_score(true_labels, pred_labels, zero_division=0)\n",
    "    f1 = f1_score(true_labels, pred_labels, zero_division=0)\n",
    "    roc_auc = roc_auc_score(true_labels, probs)\n",
    "    print(f\"{model_name} değerlendirme süresi: {test_time:.2f} saniye\")\n",
    "    print(f\"{model_name} Doğruluğu: {accuracy:.4f}\")\n",
    "    print(f\"{model_name} Kesinlik: {precision:.4f}\")\n",
    "    print(f\"{model_name} Duyarlılık: {recall:.4f}\")\n",
    "    print(f\"{model_name} F1-Skor: {f1:.4f}\")\n",
    "    print(f\"{model_name} ROC-AUC: {roc_auc:.4f}\")\n",
    "\n",
    "    # Confusion Matrix\n",
    "    print(f\"\\n{model_name} için confusion matrix oluşturuluyor...\")\n",
    "    cm = confusion_matrix(true_labels, pred_labels)\n",
    "    plt.figure(figsize=(6, 4))\n",
    "    sns.heatmap(cm, annot=True, fmt='d', cmap='Blues')\n",
    "    plt.title(f'{model_name} Confusion Matrix')\n",
    "    plt.ylabel('True Label')\n",
    "    plt.xlabel('Predicted Label')\n",
    "    plt.savefig(os.path.join(graph_dir, f'{model_name}_confusion_matrix.png'))\n",
    "    plt.close()\n",
    "    print(f\"Confusion matrix kaydedildi: {os.path.join(graph_dir, f'{model_name}_confusion_matrix.png')}\")\n",
    "\n",
    "    results[model_name] = {\n",
    "        'train_accs': train_accs, 'val_accs': val_accs, 'train_losses': train_losses, 'val_losses': val_losses,\n",
    "        'accuracy': accuracy, 'precision': precision, 'recall': recall, 'f1': f1, 'roc_auc': roc_auc,\n",
    "        'training_time': training_time, 'test_time': test_time,\n",
    "        'true_labels': true_labels, 'pred_labels': pred_labels, 'probs': probs\n",
    "    }\n",
    "    print(f\"{model_name} sonuçları kaydedildi.\")\n",
    "\n",
    "# 12. Grafik çizimi\n",
    "print(\"\\nAdım 12: Eğitim ve doğrulama grafikleri çiziliyor...\")\n",
    "plt.figure(figsize=(12, 8))\n",
    "for model_name, res in results.items():\n",
    "    print(f\"{model_name} için doğruluk grafiği çiziliyor...\")\n",
    "    plt.subplot(2, 1, 1)\n",
    "    plt.plot(res['train_accs'], label=f'{model_name} Eğitim')\n",
    "    plt.plot(res['val_accs'], label=f'{model_name} Doğrulama')\n",
    "    plt.title('Model Doğrulukları')\n",
    "    plt.xlabel('Epoch')\n",
    "    plt.ylabel('Doğruluk')\n",
    "    plt.legend()\n",
    "\n",
    "    print(f\"{model_name} için kayıp grafiği çiziliyor...\")\n",
    "    plt.subplot(2, 1, 2)\n",
    "    plt.plot(res['train_losses'], label=f'{model_name} Eğitim')\n",
    "    plt.plot(res['val_losses'], label=f'{model_name} Doğrulama')\n",
    "    plt.title('Model Kayıpları')\n",
    "    plt.xlabel('Epoch')\n",
    "    plt.ylabel('Kayıp')\n",
    "    plt.legend()\n",
    "\n",
    "plt.tight_layout()\n",
    "plt.savefig(os.path.join(graph_dir, 'training_history.png'))\n",
    "plt.close()\n",
    "print(f\"Eğitim geçmişi grafiği kaydedildi: {os.path.join(graph_dir, 'training_history.png')}\")\n",
    "\n",
    "# 13. Sonuç özeti\n",
    "print(\"\\nAdım 13: Sonuç özeti yazdırılıyor...\")\n",
    "print(\"\\n=== Sonuç Özeti ===\")\n",
    "for model_name, res in results.items():\n",
    "    print(f\"\\n{model_name}:\")\n",
    "    print(f\"Eğitim Süresi: {res['training_time']:.2f} saniye\")\n",
    "    print(f\"Değerlendirme Süresi: {res['test_time']:.2f} saniye\")\n",
    "    print(f\"Doğruluk: {res['accuracy']:.4f}, Kesinlik: {res['precision']:.4f}, \"\n",
    "          f\"Duyarlılık: {res['recall']:.4f}, F1-Skor: {res['f1']:.4f}, ROC-AUC: {res['roc_auc']:.4f}\")\n",
    "print(\"Sonuç özeti tamamlandı.\")"
   ]
  },
  {
   "cell_type": "code",
   "execution_count": 13,
   "id": "580ece82-1d0d-4874-9b87-74e5aaf4a642",
   "metadata": {
    "scrolled": true
   },
   "outputs": [
    {
     "name": "stdout",
     "output_type": "stream",
     "text": [
      "Adım 1: Grafiklerin kaydedileceği klasör oluşturuluyor...\n",
      "Grafik klasörü oluşturuldu: C:\\Users\\Admin\\Desktop\\TEZ\\Deepfake\\DeepFake-train-test\\_faces_preprocessed_dnn\\grafikler\n",
      "\n",
      "Adım 2: Cihaz seçiliyor (GPU veya CPU)...\n",
      "GPU bellek temizlendi.\n",
      "Kullanılan cihaz: cuda\n",
      "\n",
      "Adım 3: Veri yolları tanımlanıyor...\n",
      "Eğitim fake veri yolu: C:\\Users\\Admin\\Desktop\\TEZ\\Deepfake\\DeepFake-train-test\\_faces_preprocessed_dnn\\train-fake-frame\n",
      "Eğitim real veri yolu: C:\\Users\\Admin\\Desktop\\TEZ\\Deepfake\\DeepFake-train-test\\_faces_preprocessed_dnn\\train-real-frame\n",
      "Test fake veri yolu: C:\\Users\\Admin\\Desktop\\TEZ\\Deepfake\\DeepFake-train-test\\_faces_preprocessed_dnn\\test-fake-frame\n",
      "Test real veri yolu: C:\\Users\\Admin\\Desktop\\TEZ\\Deepfake\\DeepFake-train-test\\_faces_preprocessed_dnn\\test-real-frame\n",
      "Veri yollarının varlığı kontrol ediliyor...\n",
      "C:\\Users\\Admin\\Desktop\\TEZ\\Deepfake\\DeepFake-train-test\\_faces_preprocessed_dnn\\train-fake-frame mevcut.\n",
      "C:\\Users\\Admin\\Desktop\\TEZ\\Deepfake\\DeepFake-train-test\\_faces_preprocessed_dnn\\train-real-frame mevcut.\n",
      "C:\\Users\\Admin\\Desktop\\TEZ\\Deepfake\\DeepFake-train-test\\_faces_preprocessed_dnn\\test-fake-frame mevcut.\n",
      "C:\\Users\\Admin\\Desktop\\TEZ\\Deepfake\\DeepFake-train-test\\_faces_preprocessed_dnn\\test-real-frame mevcut.\n",
      "\n",
      "Adım 4: Veri dönüşümleri tanımlanıyor...\n",
      "Dönüşümler tanımlandı: ToPILImage, Resize(150x150), ToTensor, Normalize\n",
      "\n",
      "Adım 5: DeepfakeDataset sınıfı tanımlanıyor...\n",
      "\n",
      "Adım 6: Eğitim ve test veri setleri oluşturuluyor...\n",
      "Veri seti oluşturuluyor: Fake: C:\\Users\\Admin\\Desktop\\TEZ\\Deepfake\\DeepFake-train-test\\_faces_preprocessed_dnn\\train-fake-frame, Real: C:\\Users\\Admin\\Desktop\\TEZ\\Deepfake\\DeepFake-train-test\\_faces_preprocessed_dnn\\train-real-frame\n",
      "Fake görüntüler yükleniyor...\n",
      "Real görüntüler yükleniyor...\n",
      "273409 görüntü yüklendi.\n",
      "Veri seti oluşturuluyor: Fake: C:\\Users\\Admin\\Desktop\\TEZ\\Deepfake\\DeepFake-train-test\\_faces_preprocessed_dnn\\test-fake-frame, Real: C:\\Users\\Admin\\Desktop\\TEZ\\Deepfake\\DeepFake-train-test\\_faces_preprocessed_dnn\\test-real-frame\n",
      "Fake görüntüler yükleniyor...\n",
      "Real görüntüler yükleniyor...\n",
      "68353 görüntü yüklendi.\n",
      "Veri setleri oluşturuldu.\n",
      "\n",
      "Adım 7: Veri yükleyiciler (DataLoader) tanımlanıyor...\n",
      "Eğitim DataLoader: batch_size=64, shuffle=True, num_workers=0\n",
      "Test DataLoader: batch_size=64, shuffle=False, num_workers=0\n",
      "\n",
      "Adım 8: Sınıf ağırlıkları hesaplanıyor...\n",
      "Sınıf sayıları: Real=131002, Fake=142407\n",
      "Sınıf ağırlıkları: tensor([7.6335e-06, 7.0221e-06], device='cuda:0')\n",
      "\n",
      "Adım 9: Modeller tanımlanıyor...\n",
      "MobileNetV3 modeli oluşturuluyor...\n",
      "MobileNetV3: Önceden eğitilmiş, son katman 2 sınıfa uyarlandı.\n",
      "ResNet18 modeli oluşturuluyor...\n",
      "ResNet18: Önceden eğitilmiş, son katman 2 sınıfa uyarlandı.\n",
      "EfficientNet-B0 modeli oluşturuluyor...\n",
      "EfficientNet-B0: Kendi checkpoint'inden yüklendi ve son katman 2 sınıfa uyarlandı.\n",
      "MesoNet modeli oluşturuluyor...\n",
      "MesoNet: Özel CNN mimarisi tanımlandı.\n",
      "Tüm modeller tanımlandı: ['MobileNetV3', 'ResNet18', 'EfficientNet-B0', 'MesoNet']\n",
      "\n",
      "Adım 10: Eğitim ve değerlendirme fonksiyonları tanımlanıyor...\n",
      "\n",
      "Adım 11: Eğitim döngüsü başlatılıyor...\n",
      "Kayıp fonksiyonu: CrossEntropyLoss (sınıf ağırlıklı)\n",
      "\n",
      "MobileNetV3 için eğitim başlatılıyor...\n",
      "Optimizasyon: Adam, öğrenme oranı=0.001\n",
      "Planlayıcı: ReduceLROnPlateau, factor=0.2, patience=3\n",
      "\n",
      "Epoch 1/15 başlatılıyor...\n",
      "Eğitim fonksiyonu başlatılıyor...\n"
     ]
    },
    {
     "name": "stderr",
     "output_type": "stream",
     "text": [
      "Eğitim: 100%|██████████| 4273/4273 [07:25<00:00,  9.60it/s]\n"
     ]
    },
    {
     "name": "stdout",
     "output_type": "stream",
     "text": [
      "Eğitim tamamlandı: Kayıp=0.4627, Doğruluk=0.7816\n",
      "Değerlendirme fonksiyonu başlatılıyor...\n"
     ]
    },
    {
     "name": "stderr",
     "output_type": "stream",
     "text": [
      "Değerlendirme: 100%|██████████| 1069/1069 [01:55<00:00,  9.25it/s]\n"
     ]
    },
    {
     "name": "stdout",
     "output_type": "stream",
     "text": [
      "Değerlendirme tamamlandı: Kayıp=0.4242, Doğruluk=0.8047\n",
      "Epoch 1/15 - Eğitim Kaybı: 0.4627, Eğitim Doğruluğu: 0.7816, Doğrulama Kaybı: 0.4242, Doğrulama Doğruluğu: 0.8047\n",
      "En iyi model kaydediliyor: C:\\Users\\Admin\\Desktop\\TEZ\\Deepfake\\DeepFake-train-test\\_faces_preprocessed_dnn\\grafikler\\MobileNetV3_model.pth\n",
      "\n",
      "Epoch 2/15 başlatılıyor...\n",
      "Eğitim fonksiyonu başlatılıyor...\n"
     ]
    },
    {
     "name": "stderr",
     "output_type": "stream",
     "text": [
      "Eğitim: 100%|██████████| 4273/4273 [08:12<00:00,  8.68it/s]\n"
     ]
    },
    {
     "name": "stdout",
     "output_type": "stream",
     "text": [
      "Eğitim tamamlandı: Kayıp=0.4595, Doğruluk=0.7837\n",
      "Değerlendirme fonksiyonu başlatılıyor...\n"
     ]
    },
    {
     "name": "stderr",
     "output_type": "stream",
     "text": [
      "Değerlendirme: 100%|██████████| 1069/1069 [02:05<00:00,  8.51it/s]\n"
     ]
    },
    {
     "name": "stdout",
     "output_type": "stream",
     "text": [
      "Değerlendirme tamamlandı: Kayıp=0.4231, Doğruluk=0.8083\n",
      "Epoch 2/15 - Eğitim Kaybı: 0.4595, Eğitim Doğruluğu: 0.7837, Doğrulama Kaybı: 0.4231, Doğrulama Doğruluğu: 0.8083\n",
      "En iyi model kaydediliyor: C:\\Users\\Admin\\Desktop\\TEZ\\Deepfake\\DeepFake-train-test\\_faces_preprocessed_dnn\\grafikler\\MobileNetV3_model.pth\n",
      "\n",
      "Epoch 3/15 başlatılıyor...\n",
      "Eğitim fonksiyonu başlatılıyor...\n"
     ]
    },
    {
     "name": "stderr",
     "output_type": "stream",
     "text": [
      "Eğitim: 100%|██████████| 4273/4273 [07:29<00:00,  9.50it/s]\n"
     ]
    },
    {
     "name": "stdout",
     "output_type": "stream",
     "text": [
      "Eğitim tamamlandı: Kayıp=0.4590, Doğruluk=0.7840\n",
      "Değerlendirme fonksiyonu başlatılıyor...\n"
     ]
    },
    {
     "name": "stderr",
     "output_type": "stream",
     "text": [
      "Değerlendirme: 100%|██████████| 1069/1069 [02:09<00:00,  8.24it/s]\n"
     ]
    },
    {
     "name": "stdout",
     "output_type": "stream",
     "text": [
      "Değerlendirme tamamlandı: Kayıp=0.4249, Doğruluk=0.8056\n",
      "Epoch 3/15 - Eğitim Kaybı: 0.4590, Eğitim Doğruluğu: 0.7840, Doğrulama Kaybı: 0.4249, Doğrulama Doğruluğu: 0.8056\n",
      "Erken durdurma sayacı: 1/5\n",
      "\n",
      "Epoch 4/15 başlatılıyor...\n",
      "Eğitim fonksiyonu başlatılıyor...\n"
     ]
    },
    {
     "name": "stderr",
     "output_type": "stream",
     "text": [
      "Eğitim: 100%|██████████| 4273/4273 [08:15<00:00,  8.62it/s]\n"
     ]
    },
    {
     "name": "stdout",
     "output_type": "stream",
     "text": [
      "Eğitim tamamlandı: Kayıp=0.4601, Doğruluk=0.7830\n",
      "Değerlendirme fonksiyonu başlatılıyor...\n"
     ]
    },
    {
     "name": "stderr",
     "output_type": "stream",
     "text": [
      "Değerlendirme: 100%|██████████| 1069/1069 [02:07<00:00,  8.40it/s]\n"
     ]
    },
    {
     "name": "stdout",
     "output_type": "stream",
     "text": [
      "Değerlendirme tamamlandı: Kayıp=0.4232, Doğruluk=0.8070\n",
      "Epoch 4/15 - Eğitim Kaybı: 0.4601, Eğitim Doğruluğu: 0.7830, Doğrulama Kaybı: 0.4232, Doğrulama Doğruluğu: 0.8070\n",
      "Erken durdurma sayacı: 2/5\n",
      "\n",
      "Epoch 5/15 başlatılıyor...\n",
      "Eğitim fonksiyonu başlatılıyor...\n"
     ]
    },
    {
     "name": "stderr",
     "output_type": "stream",
     "text": [
      "Eğitim: 100%|██████████| 4273/4273 [07:50<00:00,  9.08it/s]\n"
     ]
    },
    {
     "name": "stdout",
     "output_type": "stream",
     "text": [
      "Eğitim tamamlandı: Kayıp=0.4604, Doğruluk=0.7824\n",
      "Değerlendirme fonksiyonu başlatılıyor...\n"
     ]
    },
    {
     "name": "stderr",
     "output_type": "stream",
     "text": [
      "Değerlendirme: 100%|██████████| 1069/1069 [02:03<00:00,  8.64it/s]\n"
     ]
    },
    {
     "name": "stdout",
     "output_type": "stream",
     "text": [
      "Değerlendirme tamamlandı: Kayıp=0.4234, Doğruluk=0.8064\n",
      "Epoch 5/15 - Eğitim Kaybı: 0.4604, Eğitim Doğruluğu: 0.7824, Doğrulama Kaybı: 0.4234, Doğrulama Doğruluğu: 0.8064\n",
      "Erken durdurma sayacı: 3/5\n",
      "\n",
      "Epoch 6/15 başlatılıyor...\n",
      "Eğitim fonksiyonu başlatılıyor...\n"
     ]
    },
    {
     "name": "stderr",
     "output_type": "stream",
     "text": [
      "Eğitim: 100%|██████████| 4273/4273 [07:45<00:00,  9.19it/s]\n"
     ]
    },
    {
     "name": "stdout",
     "output_type": "stream",
     "text": [
      "Eğitim tamamlandı: Kayıp=0.4596, Doğruluk=0.7827\n",
      "Değerlendirme fonksiyonu başlatılıyor...\n"
     ]
    },
    {
     "name": "stderr",
     "output_type": "stream",
     "text": [
      "Değerlendirme: 100%|██████████| 1069/1069 [02:05<00:00,  8.49it/s]\n"
     ]
    },
    {
     "name": "stdout",
     "output_type": "stream",
     "text": [
      "Değerlendirme tamamlandı: Kayıp=0.4196, Doğruluk=0.8099\n",
      "Epoch 6/15 - Eğitim Kaybı: 0.4596, Eğitim Doğruluğu: 0.7827, Doğrulama Kaybı: 0.4196, Doğrulama Doğruluğu: 0.8099\n",
      "En iyi model kaydediliyor: C:\\Users\\Admin\\Desktop\\TEZ\\Deepfake\\DeepFake-train-test\\_faces_preprocessed_dnn\\grafikler\\MobileNetV3_model.pth\n",
      "\n",
      "Epoch 7/15 başlatılıyor...\n",
      "Eğitim fonksiyonu başlatılıyor...\n"
     ]
    },
    {
     "name": "stderr",
     "output_type": "stream",
     "text": [
      "Eğitim: 100%|██████████| 4273/4273 [07:46<00:00,  9.16it/s]\n"
     ]
    },
    {
     "name": "stdout",
     "output_type": "stream",
     "text": [
      "Eğitim tamamlandı: Kayıp=0.4594, Doğruluk=0.7835\n",
      "Değerlendirme fonksiyonu başlatılıyor...\n"
     ]
    },
    {
     "name": "stderr",
     "output_type": "stream",
     "text": [
      "Değerlendirme: 100%|██████████| 1069/1069 [02:04<00:00,  8.61it/s]\n"
     ]
    },
    {
     "name": "stdout",
     "output_type": "stream",
     "text": [
      "Değerlendirme tamamlandı: Kayıp=0.4272, Doğruluk=0.8024\n",
      "Epoch 7/15 - Eğitim Kaybı: 0.4594, Eğitim Doğruluğu: 0.7835, Doğrulama Kaybı: 0.4272, Doğrulama Doğruluğu: 0.8024\n",
      "Erken durdurma sayacı: 1/5\n",
      "\n",
      "Epoch 8/15 başlatılıyor...\n",
      "Eğitim fonksiyonu başlatılıyor...\n"
     ]
    },
    {
     "name": "stderr",
     "output_type": "stream",
     "text": [
      "Eğitim: 100%|██████████| 4273/4273 [07:47<00:00,  9.14it/s]\n"
     ]
    },
    {
     "name": "stdout",
     "output_type": "stream",
     "text": [
      "Eğitim tamamlandı: Kayıp=0.4594, Doğruluk=0.7836\n",
      "Değerlendirme fonksiyonu başlatılıyor...\n"
     ]
    },
    {
     "name": "stderr",
     "output_type": "stream",
     "text": [
      "Değerlendirme: 100%|██████████| 1069/1069 [02:06<00:00,  8.47it/s]\n"
     ]
    },
    {
     "name": "stdout",
     "output_type": "stream",
     "text": [
      "Değerlendirme tamamlandı: Kayıp=0.4241, Doğruluk=0.8057\n",
      "Epoch 8/15 - Eğitim Kaybı: 0.4594, Eğitim Doğruluğu: 0.7836, Doğrulama Kaybı: 0.4241, Doğrulama Doğruluğu: 0.8057\n",
      "Erken durdurma sayacı: 2/5\n",
      "\n",
      "Epoch 9/15 başlatılıyor...\n",
      "Eğitim fonksiyonu başlatılıyor...\n"
     ]
    },
    {
     "name": "stderr",
     "output_type": "stream",
     "text": [
      "Eğitim: 100%|██████████| 4273/4273 [06:50<00:00, 10.41it/s]\n"
     ]
    },
    {
     "name": "stdout",
     "output_type": "stream",
     "text": [
      "Eğitim tamamlandı: Kayıp=0.4598, Doğruluk=0.7829\n",
      "Değerlendirme fonksiyonu başlatılıyor...\n"
     ]
    },
    {
     "name": "stderr",
     "output_type": "stream",
     "text": [
      "Değerlendirme: 100%|██████████| 1069/1069 [01:36<00:00, 11.03it/s]\n"
     ]
    },
    {
     "name": "stdout",
     "output_type": "stream",
     "text": [
      "Değerlendirme tamamlandı: Kayıp=0.4217, Doğruluk=0.8074\n",
      "Epoch 9/15 - Eğitim Kaybı: 0.4598, Eğitim Doğruluğu: 0.7829, Doğrulama Kaybı: 0.4217, Doğrulama Doğruluğu: 0.8074\n",
      "Erken durdurma sayacı: 3/5\n",
      "\n",
      "Epoch 10/15 başlatılıyor...\n",
      "Eğitim fonksiyonu başlatılıyor...\n"
     ]
    },
    {
     "name": "stderr",
     "output_type": "stream",
     "text": [
      "Eğitim: 100%|██████████| 4273/4273 [07:56<00:00,  8.96it/s]\n"
     ]
    },
    {
     "name": "stdout",
     "output_type": "stream",
     "text": [
      "Eğitim tamamlandı: Kayıp=0.4595, Doğruluk=0.7845\n",
      "Değerlendirme fonksiyonu başlatılıyor...\n"
     ]
    },
    {
     "name": "stderr",
     "output_type": "stream",
     "text": [
      "Değerlendirme: 100%|██████████| 1069/1069 [01:24<00:00, 12.66it/s]\n"
     ]
    },
    {
     "name": "stdout",
     "output_type": "stream",
     "text": [
      "Değerlendirme tamamlandı: Kayıp=0.4220, Doğruluk=0.8054\n",
      "Epoch 10/15 - Eğitim Kaybı: 0.4595, Eğitim Doğruluğu: 0.7845, Doğrulama Kaybı: 0.4220, Doğrulama Doğruluğu: 0.8054\n",
      "Erken durdurma sayacı: 4/5\n",
      "\n",
      "Epoch 11/15 başlatılıyor...\n",
      "Eğitim fonksiyonu başlatılıyor...\n"
     ]
    },
    {
     "name": "stderr",
     "output_type": "stream",
     "text": [
      "Eğitim: 100%|██████████| 4273/4273 [05:40<00:00, 12.54it/s]\n"
     ]
    },
    {
     "name": "stdout",
     "output_type": "stream",
     "text": [
      "Eğitim tamamlandı: Kayıp=0.4500, Doğruluk=0.7894\n",
      "Değerlendirme fonksiyonu başlatılıyor...\n"
     ]
    },
    {
     "name": "stderr",
     "output_type": "stream",
     "text": [
      "Değerlendirme: 100%|██████████| 1069/1069 [01:22<00:00, 13.00it/s]\n"
     ]
    },
    {
     "name": "stdout",
     "output_type": "stream",
     "text": [
      "Değerlendirme tamamlandı: Kayıp=0.4154, Doğruluk=0.8121\n",
      "Epoch 11/15 - Eğitim Kaybı: 0.4500, Eğitim Doğruluğu: 0.7894, Doğrulama Kaybı: 0.4154, Doğrulama Doğruluğu: 0.8121\n",
      "En iyi model kaydediliyor: C:\\Users\\Admin\\Desktop\\TEZ\\Deepfake\\DeepFake-train-test\\_faces_preprocessed_dnn\\grafikler\\MobileNetV3_model.pth\n",
      "\n",
      "Epoch 12/15 başlatılıyor...\n",
      "Eğitim fonksiyonu başlatılıyor...\n"
     ]
    },
    {
     "name": "stderr",
     "output_type": "stream",
     "text": [
      "Eğitim: 100%|██████████| 4273/4273 [05:27<00:00, 13.04it/s]\n"
     ]
    },
    {
     "name": "stdout",
     "output_type": "stream",
     "text": [
      "Eğitim tamamlandı: Kayıp=0.4495, Doğruluk=0.7892\n",
      "Değerlendirme fonksiyonu başlatılıyor...\n"
     ]
    },
    {
     "name": "stderr",
     "output_type": "stream",
     "text": [
      "Değerlendirme: 100%|██████████| 1069/1069 [01:48<00:00,  9.87it/s]\n"
     ]
    },
    {
     "name": "stdout",
     "output_type": "stream",
     "text": [
      "Değerlendirme tamamlandı: Kayıp=0.4148, Doğruluk=0.8130\n",
      "Epoch 12/15 - Eğitim Kaybı: 0.4495, Eğitim Doğruluğu: 0.7892, Doğrulama Kaybı: 0.4148, Doğrulama Doğruluğu: 0.8130\n",
      "En iyi model kaydediliyor: C:\\Users\\Admin\\Desktop\\TEZ\\Deepfake\\DeepFake-train-test\\_faces_preprocessed_dnn\\grafikler\\MobileNetV3_model.pth\n",
      "\n",
      "Epoch 13/15 başlatılıyor...\n",
      "Eğitim fonksiyonu başlatılıyor...\n"
     ]
    },
    {
     "name": "stderr",
     "output_type": "stream",
     "text": [
      "Eğitim: 100%|██████████| 4273/4273 [07:03<00:00, 10.09it/s]\n"
     ]
    },
    {
     "name": "stdout",
     "output_type": "stream",
     "text": [
      "Eğitim tamamlandı: Kayıp=0.4483, Doğruluk=0.7899\n",
      "Değerlendirme fonksiyonu başlatılıyor...\n"
     ]
    },
    {
     "name": "stderr",
     "output_type": "stream",
     "text": [
      "Değerlendirme: 100%|██████████| 1069/1069 [01:46<00:00, 10.06it/s]\n"
     ]
    },
    {
     "name": "stdout",
     "output_type": "stream",
     "text": [
      "Değerlendirme tamamlandı: Kayıp=0.4147, Doğruluk=0.8128\n",
      "Epoch 13/15 - Eğitim Kaybı: 0.4483, Eğitim Doğruluğu: 0.7899, Doğrulama Kaybı: 0.4147, Doğrulama Doğruluğu: 0.8128\n",
      "En iyi model kaydediliyor: C:\\Users\\Admin\\Desktop\\TEZ\\Deepfake\\DeepFake-train-test\\_faces_preprocessed_dnn\\grafikler\\MobileNetV3_model.pth\n",
      "\n",
      "Epoch 14/15 başlatılıyor...\n",
      "Eğitim fonksiyonu başlatılıyor...\n"
     ]
    },
    {
     "name": "stderr",
     "output_type": "stream",
     "text": [
      "Eğitim: 100%|██████████| 4273/4273 [08:13<00:00,  8.67it/s]\n"
     ]
    },
    {
     "name": "stdout",
     "output_type": "stream",
     "text": [
      "Eğitim tamamlandı: Kayıp=0.4488, Doğruluk=0.7891\n",
      "Değerlendirme fonksiyonu başlatılıyor...\n"
     ]
    },
    {
     "name": "stderr",
     "output_type": "stream",
     "text": [
      "Değerlendirme: 100%|██████████| 1069/1069 [02:01<00:00,  8.79it/s]\n"
     ]
    },
    {
     "name": "stdout",
     "output_type": "stream",
     "text": [
      "Değerlendirme tamamlandı: Kayıp=0.4142, Doğruluk=0.8130\n",
      "Epoch 14/15 - Eğitim Kaybı: 0.4488, Eğitim Doğruluğu: 0.7891, Doğrulama Kaybı: 0.4142, Doğrulama Doğruluğu: 0.8130\n",
      "En iyi model kaydediliyor: C:\\Users\\Admin\\Desktop\\TEZ\\Deepfake\\DeepFake-train-test\\_faces_preprocessed_dnn\\grafikler\\MobileNetV3_model.pth\n",
      "\n",
      "Epoch 15/15 başlatılıyor...\n",
      "Eğitim fonksiyonu başlatılıyor...\n"
     ]
    },
    {
     "name": "stderr",
     "output_type": "stream",
     "text": [
      "Eğitim: 100%|██████████| 4273/4273 [08:00<00:00,  8.89it/s]\n"
     ]
    },
    {
     "name": "stdout",
     "output_type": "stream",
     "text": [
      "Eğitim tamamlandı: Kayıp=0.4484, Doğruluk=0.7894\n",
      "Değerlendirme fonksiyonu başlatılıyor...\n"
     ]
    },
    {
     "name": "stderr",
     "output_type": "stream",
     "text": [
      "Değerlendirme: 100%|██████████| 1069/1069 [02:04<00:00,  8.61it/s]\n"
     ]
    },
    {
     "name": "stdout",
     "output_type": "stream",
     "text": [
      "Değerlendirme tamamlandı: Kayıp=0.4158, Doğruluk=0.8113\n",
      "Epoch 15/15 - Eğitim Kaybı: 0.4484, Eğitim Doğruluğu: 0.7894, Doğrulama Kaybı: 0.4158, Doğrulama Doğruluğu: 0.8113\n",
      "Erken durdurma sayacı: 1/5\n",
      "MobileNetV3 eğitimi 8428.57 saniyede tamamlandı\n",
      "\n",
      "MobileNetV3 için en iyi model yükleniyor...\n",
      "MobileNetV3 değerlendiriliyor...\n",
      "Değerlendirme fonksiyonu başlatılıyor...\n"
     ]
    },
    {
     "name": "stderr",
     "output_type": "stream",
     "text": [
      "Değerlendirme: 100%|██████████| 1069/1069 [01:23<00:00, 12.75it/s]\n"
     ]
    },
    {
     "name": "stdout",
     "output_type": "stream",
     "text": [
      "Değerlendirme tamamlandı: Kayıp=0.4142, Doğruluk=0.8130\n",
      "MobileNetV3 değerlendirme süresi: 83.85 saniye\n",
      "MobileNetV3 Doğruluğu: 0.8130\n",
      "MobileNetV3 Kesinlik: 0.8087\n",
      "MobileNetV3 Duyarlılık: 0.8354\n",
      "MobileNetV3 F1-Skor: 0.8218\n",
      "MobileNetV3 ROC-AUC: 0.8912\n",
      "\n",
      "MobileNetV3 için confusion matrix oluşturuluyor...\n",
      "Confusion matrix kaydedildi: C:\\Users\\Admin\\Desktop\\TEZ\\Deepfake\\DeepFake-train-test\\_faces_preprocessed_dnn\\grafikler\\MobileNetV3_confusion_matrix.png\n",
      "MobileNetV3 sonuçları kaydedildi.\n",
      "\n",
      "ResNet18 için eğitim başlatılıyor...\n",
      "Optimizasyon: Adam, öğrenme oranı=0.001\n",
      "Planlayıcı: ReduceLROnPlateau, factor=0.2, patience=3\n",
      "\n",
      "Epoch 1/15 başlatılıyor...\n",
      "Eğitim fonksiyonu başlatılıyor...\n"
     ]
    },
    {
     "name": "stderr",
     "output_type": "stream",
     "text": [
      "Eğitim: 100%|██████████| 4273/4273 [06:13<00:00, 11.44it/s]\n"
     ]
    },
    {
     "name": "stdout",
     "output_type": "stream",
     "text": [
      "Eğitim tamamlandı: Kayıp=0.4418, Doğruluk=0.7918\n",
      "Değerlendirme fonksiyonu başlatılıyor...\n"
     ]
    },
    {
     "name": "stderr",
     "output_type": "stream",
     "text": [
      "Değerlendirme: 100%|██████████| 1069/1069 [01:32<00:00, 11.53it/s]\n"
     ]
    },
    {
     "name": "stdout",
     "output_type": "stream",
     "text": [
      "Değerlendirme tamamlandı: Kayıp=0.4237, Doğruluk=0.8031\n",
      "Epoch 1/15 - Eğitim Kaybı: 0.4418, Eğitim Doğruluğu: 0.7918, Doğrulama Kaybı: 0.4237, Doğrulama Doğruluğu: 0.8031\n",
      "En iyi model kaydediliyor: C:\\Users\\Admin\\Desktop\\TEZ\\Deepfake\\DeepFake-train-test\\_faces_preprocessed_dnn\\grafikler\\ResNet18_model.pth\n",
      "\n",
      "Epoch 2/15 başlatılıyor...\n",
      "Eğitim fonksiyonu başlatılıyor...\n"
     ]
    },
    {
     "name": "stderr",
     "output_type": "stream",
     "text": [
      "Eğitim: 100%|██████████| 4273/4273 [06:48<00:00, 10.45it/s]\n"
     ]
    },
    {
     "name": "stdout",
     "output_type": "stream",
     "text": [
      "Eğitim tamamlandı: Kayıp=0.4305, Doğruluk=0.8002\n",
      "Değerlendirme fonksiyonu başlatılıyor...\n"
     ]
    },
    {
     "name": "stderr",
     "output_type": "stream",
     "text": [
      "Değerlendirme: 100%|██████████| 1069/1069 [01:32<00:00, 11.61it/s]\n"
     ]
    },
    {
     "name": "stdout",
     "output_type": "stream",
     "text": [
      "Değerlendirme tamamlandı: Kayıp=0.4393, Doğruluk=0.8000\n",
      "Epoch 2/15 - Eğitim Kaybı: 0.4305, Eğitim Doğruluğu: 0.8002, Doğrulama Kaybı: 0.4393, Doğrulama Doğruluğu: 0.8000\n",
      "Erken durdurma sayacı: 1/5\n",
      "\n",
      "Epoch 3/15 başlatılıyor...\n",
      "Eğitim fonksiyonu başlatılıyor...\n"
     ]
    },
    {
     "name": "stderr",
     "output_type": "stream",
     "text": [
      "Eğitim: 100%|██████████| 4273/4273 [06:29<00:00, 10.97it/s]\n"
     ]
    },
    {
     "name": "stdout",
     "output_type": "stream",
     "text": [
      "Eğitim tamamlandı: Kayıp=0.4285, Doğruluk=0.8011\n",
      "Değerlendirme fonksiyonu başlatılıyor...\n"
     ]
    },
    {
     "name": "stderr",
     "output_type": "stream",
     "text": [
      "Değerlendirme: 100%|██████████| 1069/1069 [01:31<00:00, 11.63it/s]\n"
     ]
    },
    {
     "name": "stdout",
     "output_type": "stream",
     "text": [
      "Değerlendirme tamamlandı: Kayıp=0.4549, Doğruluk=0.7806\n",
      "Epoch 3/15 - Eğitim Kaybı: 0.4285, Eğitim Doğruluğu: 0.8011, Doğrulama Kaybı: 0.4549, Doğrulama Doğruluğu: 0.7806\n",
      "Erken durdurma sayacı: 2/5\n",
      "\n",
      "Epoch 4/15 başlatılıyor...\n",
      "Eğitim fonksiyonu başlatılıyor...\n"
     ]
    },
    {
     "name": "stderr",
     "output_type": "stream",
     "text": [
      "Eğitim: 100%|██████████| 4273/4273 [05:56<00:00, 11.98it/s]\n"
     ]
    },
    {
     "name": "stdout",
     "output_type": "stream",
     "text": [
      "Eğitim tamamlandı: Kayıp=0.4293, Doğruluk=0.8017\n",
      "Değerlendirme fonksiyonu başlatılıyor...\n"
     ]
    },
    {
     "name": "stderr",
     "output_type": "stream",
     "text": [
      "Değerlendirme: 100%|██████████| 1069/1069 [01:28<00:00, 12.02it/s]\n"
     ]
    },
    {
     "name": "stdout",
     "output_type": "stream",
     "text": [
      "Değerlendirme tamamlandı: Kayıp=0.4248, Doğruluk=0.8053\n",
      "Epoch 4/15 - Eğitim Kaybı: 0.4293, Eğitim Doğruluğu: 0.8017, Doğrulama Kaybı: 0.4248, Doğrulama Doğruluğu: 0.8053\n",
      "En iyi model kaydediliyor: C:\\Users\\Admin\\Desktop\\TEZ\\Deepfake\\DeepFake-train-test\\_faces_preprocessed_dnn\\grafikler\\ResNet18_model.pth\n",
      "\n",
      "Epoch 5/15 başlatılıyor...\n",
      "Eğitim fonksiyonu başlatılıyor...\n"
     ]
    },
    {
     "name": "stderr",
     "output_type": "stream",
     "text": [
      "Eğitim: 100%|██████████| 4273/4273 [06:26<00:00, 11.06it/s]\n"
     ]
    },
    {
     "name": "stdout",
     "output_type": "stream",
     "text": [
      "Eğitim tamamlandı: Kayıp=0.4284, Doğruluk=0.8024\n",
      "Değerlendirme fonksiyonu başlatılıyor...\n"
     ]
    },
    {
     "name": "stderr",
     "output_type": "stream",
     "text": [
      "Değerlendirme: 100%|██████████| 1069/1069 [01:40<00:00, 10.65it/s]\n"
     ]
    },
    {
     "name": "stdout",
     "output_type": "stream",
     "text": [
      "Değerlendirme tamamlandı: Kayıp=0.4475, Doğruluk=0.7989\n",
      "Epoch 5/15 - Eğitim Kaybı: 0.4284, Eğitim Doğruluğu: 0.8024, Doğrulama Kaybı: 0.4475, Doğrulama Doğruluğu: 0.7989\n",
      "Erken durdurma sayacı: 1/5\n",
      "\n",
      "Epoch 6/15 başlatılıyor...\n",
      "Eğitim fonksiyonu başlatılıyor...\n"
     ]
    },
    {
     "name": "stderr",
     "output_type": "stream",
     "text": [
      "Eğitim: 100%|██████████| 4273/4273 [07:10<00:00,  9.93it/s]\n"
     ]
    },
    {
     "name": "stdout",
     "output_type": "stream",
     "text": [
      "Eğitim tamamlandı: Kayıp=0.4178, Doğruluk=0.8076\n",
      "Değerlendirme fonksiyonu başlatılıyor...\n"
     ]
    },
    {
     "name": "stderr",
     "output_type": "stream",
     "text": [
      "Değerlendirme: 100%|██████████| 1069/1069 [01:14<00:00, 14.30it/s]\n"
     ]
    },
    {
     "name": "stdout",
     "output_type": "stream",
     "text": [
      "Değerlendirme tamamlandı: Kayıp=0.4247, Doğruluk=0.7992\n",
      "Epoch 6/15 - Eğitim Kaybı: 0.4178, Eğitim Doğruluğu: 0.8076, Doğrulama Kaybı: 0.4247, Doğrulama Doğruluğu: 0.7992\n",
      "En iyi model kaydediliyor: C:\\Users\\Admin\\Desktop\\TEZ\\Deepfake\\DeepFake-train-test\\_faces_preprocessed_dnn\\grafikler\\ResNet18_model.pth\n",
      "\n",
      "Epoch 7/15 başlatılıyor...\n",
      "Eğitim fonksiyonu başlatılıyor...\n"
     ]
    },
    {
     "name": "stderr",
     "output_type": "stream",
     "text": [
      "Eğitim: 100%|██████████| 4273/4273 [06:12<00:00, 11.47it/s]\n"
     ]
    },
    {
     "name": "stdout",
     "output_type": "stream",
     "text": [
      "Eğitim tamamlandı: Kayıp=0.4172, Doğruluk=0.8076\n",
      "Değerlendirme fonksiyonu başlatılıyor...\n"
     ]
    },
    {
     "name": "stderr",
     "output_type": "stream",
     "text": [
      "Değerlendirme: 100%|██████████| 1069/1069 [01:35<00:00, 11.21it/s]\n"
     ]
    },
    {
     "name": "stdout",
     "output_type": "stream",
     "text": [
      "Değerlendirme tamamlandı: Kayıp=0.4323, Doğruluk=0.8026\n",
      "Epoch 7/15 - Eğitim Kaybı: 0.4172, Eğitim Doğruluğu: 0.8076, Doğrulama Kaybı: 0.4323, Doğrulama Doğruluğu: 0.8026\n",
      "Erken durdurma sayacı: 1/5\n",
      "\n",
      "Epoch 8/15 başlatılıyor...\n",
      "Eğitim fonksiyonu başlatılıyor...\n"
     ]
    },
    {
     "name": "stderr",
     "output_type": "stream",
     "text": [
      "Eğitim: 100%|██████████| 4273/4273 [05:22<00:00, 13.25it/s]\n"
     ]
    },
    {
     "name": "stdout",
     "output_type": "stream",
     "text": [
      "Eğitim tamamlandı: Kayıp=0.4170, Doğruluk=0.8080\n",
      "Değerlendirme fonksiyonu başlatılıyor...\n"
     ]
    },
    {
     "name": "stderr",
     "output_type": "stream",
     "text": [
      "Değerlendirme: 100%|██████████| 1069/1069 [01:12<00:00, 14.73it/s]\n"
     ]
    },
    {
     "name": "stdout",
     "output_type": "stream",
     "text": [
      "Değerlendirme tamamlandı: Kayıp=0.4174, Doğruluk=0.8080\n",
      "Epoch 8/15 - Eğitim Kaybı: 0.4170, Eğitim Doğruluğu: 0.8080, Doğrulama Kaybı: 0.4174, Doğrulama Doğruluğu: 0.8080\n",
      "En iyi model kaydediliyor: C:\\Users\\Admin\\Desktop\\TEZ\\Deepfake\\DeepFake-train-test\\_faces_preprocessed_dnn\\grafikler\\ResNet18_model.pth\n",
      "\n",
      "Epoch 9/15 başlatılıyor...\n",
      "Eğitim fonksiyonu başlatılıyor...\n"
     ]
    },
    {
     "name": "stderr",
     "output_type": "stream",
     "text": [
      "Eğitim: 100%|██████████| 4273/4273 [05:59<00:00, 11.88it/s]\n"
     ]
    },
    {
     "name": "stdout",
     "output_type": "stream",
     "text": [
      "Eğitim tamamlandı: Kayıp=0.4169, Doğruluk=0.8085\n",
      "Değerlendirme fonksiyonu başlatılıyor...\n"
     ]
    },
    {
     "name": "stderr",
     "output_type": "stream",
     "text": [
      "Değerlendirme: 100%|██████████| 1069/1069 [01:35<00:00, 11.15it/s]\n"
     ]
    },
    {
     "name": "stdout",
     "output_type": "stream",
     "text": [
      "Değerlendirme tamamlandı: Kayıp=0.4323, Doğruluk=0.8015\n",
      "Epoch 9/15 - Eğitim Kaybı: 0.4169, Eğitim Doğruluğu: 0.8085, Doğrulama Kaybı: 0.4323, Doğrulama Doğruluğu: 0.8015\n",
      "Erken durdurma sayacı: 1/5\n",
      "\n",
      "Epoch 10/15 başlatılıyor...\n",
      "Eğitim fonksiyonu başlatılıyor...\n"
     ]
    },
    {
     "name": "stderr",
     "output_type": "stream",
     "text": [
      "Eğitim: 100%|██████████| 4273/4273 [07:03<00:00, 10.09it/s]\n"
     ]
    },
    {
     "name": "stdout",
     "output_type": "stream",
     "text": [
      "Eğitim tamamlandı: Kayıp=0.4166, Doğruluk=0.8079\n",
      "Değerlendirme fonksiyonu başlatılıyor...\n"
     ]
    },
    {
     "name": "stderr",
     "output_type": "stream",
     "text": [
      "Değerlendirme: 100%|██████████| 1069/1069 [01:37<00:00, 10.94it/s]\n"
     ]
    },
    {
     "name": "stdout",
     "output_type": "stream",
     "text": [
      "Değerlendirme tamamlandı: Kayıp=0.4180, Doğruluk=0.8076\n",
      "Epoch 10/15 - Eğitim Kaybı: 0.4166, Eğitim Doğruluğu: 0.8079, Doğrulama Kaybı: 0.4180, Doğrulama Doğruluğu: 0.8076\n",
      "Erken durdurma sayacı: 2/5\n",
      "\n",
      "Epoch 11/15 başlatılıyor...\n",
      "Eğitim fonksiyonu başlatılıyor...\n"
     ]
    },
    {
     "name": "stderr",
     "output_type": "stream",
     "text": [
      "Eğitim: 100%|██████████| 4273/4273 [05:54<00:00, 12.07it/s]\n"
     ]
    },
    {
     "name": "stdout",
     "output_type": "stream",
     "text": [
      "Eğitim tamamlandı: Kayıp=0.4167, Doğruluk=0.8085\n",
      "Değerlendirme fonksiyonu başlatılıyor...\n"
     ]
    },
    {
     "name": "stderr",
     "output_type": "stream",
     "text": [
      "Değerlendirme: 100%|██████████| 1069/1069 [01:13<00:00, 14.48it/s]\n"
     ]
    },
    {
     "name": "stdout",
     "output_type": "stream",
     "text": [
      "Değerlendirme tamamlandı: Kayıp=0.4218, Doğruluk=0.8015\n",
      "Epoch 11/15 - Eğitim Kaybı: 0.4167, Eğitim Doğruluğu: 0.8085, Doğrulama Kaybı: 0.4218, Doğrulama Doğruluğu: 0.8015\n",
      "Erken durdurma sayacı: 3/5\n",
      "\n",
      "Epoch 12/15 başlatılıyor...\n",
      "Eğitim fonksiyonu başlatılıyor...\n"
     ]
    },
    {
     "name": "stderr",
     "output_type": "stream",
     "text": [
      "Eğitim: 100%|██████████| 4273/4273 [04:59<00:00, 14.25it/s]\n"
     ]
    },
    {
     "name": "stdout",
     "output_type": "stream",
     "text": [
      "Eğitim tamamlandı: Kayıp=0.4170, Doğruluk=0.8075\n",
      "Değerlendirme fonksiyonu başlatılıyor...\n"
     ]
    },
    {
     "name": "stderr",
     "output_type": "stream",
     "text": [
      "Değerlendirme: 100%|██████████| 1069/1069 [01:12<00:00, 14.69it/s]\n"
     ]
    },
    {
     "name": "stdout",
     "output_type": "stream",
     "text": [
      "Değerlendirme tamamlandı: Kayıp=0.4167, Doğruluk=0.8059\n",
      "Epoch 12/15 - Eğitim Kaybı: 0.4170, Eğitim Doğruluğu: 0.8075, Doğrulama Kaybı: 0.4167, Doğrulama Doğruluğu: 0.8059\n",
      "En iyi model kaydediliyor: C:\\Users\\Admin\\Desktop\\TEZ\\Deepfake\\DeepFake-train-test\\_faces_preprocessed_dnn\\grafikler\\ResNet18_model.pth\n",
      "\n",
      "Epoch 13/15 başlatılıyor...\n",
      "Eğitim fonksiyonu başlatılıyor...\n"
     ]
    },
    {
     "name": "stderr",
     "output_type": "stream",
     "text": [
      "Eğitim: 100%|██████████| 4273/4273 [04:57<00:00, 14.38it/s]\n"
     ]
    },
    {
     "name": "stdout",
     "output_type": "stream",
     "text": [
      "Eğitim tamamlandı: Kayıp=0.4173, Doğruluk=0.8081\n",
      "Değerlendirme fonksiyonu başlatılıyor...\n"
     ]
    },
    {
     "name": "stderr",
     "output_type": "stream",
     "text": [
      "Değerlendirme: 100%|██████████| 1069/1069 [01:12<00:00, 14.67it/s]\n"
     ]
    },
    {
     "name": "stdout",
     "output_type": "stream",
     "text": [
      "Değerlendirme tamamlandı: Kayıp=0.4179, Doğruluk=0.8067\n",
      "Epoch 13/15 - Eğitim Kaybı: 0.4173, Eğitim Doğruluğu: 0.8081, Doğrulama Kaybı: 0.4179, Doğrulama Doğruluğu: 0.8067\n",
      "Erken durdurma sayacı: 1/5\n",
      "\n",
      "Epoch 14/15 başlatılıyor...\n",
      "Eğitim fonksiyonu başlatılıyor...\n"
     ]
    },
    {
     "name": "stderr",
     "output_type": "stream",
     "text": [
      "Eğitim: 100%|██████████| 4273/4273 [04:55<00:00, 14.44it/s]\n"
     ]
    },
    {
     "name": "stdout",
     "output_type": "stream",
     "text": [
      "Eğitim tamamlandı: Kayıp=0.4167, Doğruluk=0.8079\n",
      "Değerlendirme fonksiyonu başlatılıyor...\n"
     ]
    },
    {
     "name": "stderr",
     "output_type": "stream",
     "text": [
      "Değerlendirme: 100%|██████████| 1069/1069 [01:13<00:00, 14.58it/s]\n"
     ]
    },
    {
     "name": "stdout",
     "output_type": "stream",
     "text": [
      "Değerlendirme tamamlandı: Kayıp=0.4225, Doğruluk=0.8064\n",
      "Epoch 14/15 - Eğitim Kaybı: 0.4167, Eğitim Doğruluğu: 0.8079, Doğrulama Kaybı: 0.4225, Doğrulama Doğruluğu: 0.8064\n",
      "Erken durdurma sayacı: 2/5\n",
      "\n",
      "Epoch 15/15 başlatılıyor...\n",
      "Eğitim fonksiyonu başlatılıyor...\n"
     ]
    },
    {
     "name": "stderr",
     "output_type": "stream",
     "text": [
      "Eğitim: 100%|██████████| 4273/4273 [04:56<00:00, 14.42it/s]\n"
     ]
    },
    {
     "name": "stdout",
     "output_type": "stream",
     "text": [
      "Eğitim tamamlandı: Kayıp=0.4171, Doğruluk=0.8085\n",
      "Değerlendirme fonksiyonu başlatılıyor...\n"
     ]
    },
    {
     "name": "stderr",
     "output_type": "stream",
     "text": [
      "Değerlendirme: 100%|██████████| 1069/1069 [01:13<00:00, 14.58it/s]\n"
     ]
    },
    {
     "name": "stdout",
     "output_type": "stream",
     "text": [
      "Değerlendirme tamamlandı: Kayıp=0.4231, Doğruluk=0.8026\n",
      "Epoch 15/15 - Eğitim Kaybı: 0.4171, Eğitim Doğruluğu: 0.8085, Doğrulama Kaybı: 0.4231, Doğrulama Doğruluğu: 0.8026\n",
      "Erken durdurma sayacı: 3/5\n",
      "ResNet18 eğitimi 6635.65 saniyede tamamlandı\n",
      "\n",
      "ResNet18 için en iyi model yükleniyor...\n",
      "ResNet18 değerlendiriliyor...\n",
      "Değerlendirme fonksiyonu başlatılıyor...\n"
     ]
    },
    {
     "name": "stderr",
     "output_type": "stream",
     "text": [
      "Değerlendirme: 100%|██████████| 1069/1069 [01:13<00:00, 14.62it/s]\n"
     ]
    },
    {
     "name": "stdout",
     "output_type": "stream",
     "text": [
      "Değerlendirme tamamlandı: Kayıp=0.4167, Doğruluk=0.8059\n",
      "ResNet18 değerlendirme süresi: 73.11 saniye\n",
      "ResNet18 Doğruluğu: 0.8059\n",
      "ResNet18 Kesinlik: 0.7956\n",
      "ResNet18 Duyarlılık: 0.8400\n",
      "ResNet18 F1-Skor: 0.8172\n",
      "ResNet18 ROC-AUC: 0.8878\n",
      "\n",
      "ResNet18 için confusion matrix oluşturuluyor...\n",
      "Confusion matrix kaydedildi: C:\\Users\\Admin\\Desktop\\TEZ\\Deepfake\\DeepFake-train-test\\_faces_preprocessed_dnn\\grafikler\\ResNet18_confusion_matrix.png\n",
      "ResNet18 sonuçları kaydedildi.\n",
      "\n",
      "EfficientNet-B0 için eğitim başlatılıyor...\n",
      "Optimizasyon: Adam, öğrenme oranı=0.001\n",
      "Planlayıcı: ReduceLROnPlateau, factor=0.2, patience=3\n",
      "\n",
      "Epoch 1/15 başlatılıyor...\n",
      "Eğitim fonksiyonu başlatılıyor...\n"
     ]
    },
    {
     "name": "stderr",
     "output_type": "stream",
     "text": [
      "Eğitim: 100%|██████████| 4273/4273 [04:51<00:00, 14.66it/s]\n"
     ]
    },
    {
     "name": "stdout",
     "output_type": "stream",
     "text": [
      "Eğitim tamamlandı: Kayıp=0.4470, Doğruluk=0.7921\n",
      "Değerlendirme fonksiyonu başlatılıyor...\n"
     ]
    },
    {
     "name": "stderr",
     "output_type": "stream",
     "text": [
      "Değerlendirme: 100%|██████████| 1069/1069 [01:12<00:00, 14.77it/s]\n"
     ]
    },
    {
     "name": "stdout",
     "output_type": "stream",
     "text": [
      "Değerlendirme tamamlandı: Kayıp=0.4083, Doğruluk=0.8153\n",
      "Epoch 1/15 - Eğitim Kaybı: 0.4470, Eğitim Doğruluğu: 0.7921, Doğrulama Kaybı: 0.4083, Doğrulama Doğruluğu: 0.8153\n",
      "En iyi model kaydediliyor: C:\\Users\\Admin\\Desktop\\TEZ\\Deepfake\\DeepFake-train-test\\_faces_preprocessed_dnn\\grafikler\\EfficientNet-B0_model.pth\n",
      "\n",
      "Epoch 2/15 başlatılıyor...\n",
      "Eğitim fonksiyonu başlatılıyor...\n"
     ]
    },
    {
     "name": "stderr",
     "output_type": "stream",
     "text": [
      "Eğitim: 100%|██████████| 4273/4273 [05:48<00:00, 12.26it/s]\n"
     ]
    },
    {
     "name": "stdout",
     "output_type": "stream",
     "text": [
      "Eğitim tamamlandı: Kayıp=0.4433, Doğruluk=0.7942\n",
      "Değerlendirme fonksiyonu başlatılıyor...\n"
     ]
    },
    {
     "name": "stderr",
     "output_type": "stream",
     "text": [
      "Değerlendirme: 100%|██████████| 1069/1069 [01:32<00:00, 11.54it/s]\n"
     ]
    },
    {
     "name": "stdout",
     "output_type": "stream",
     "text": [
      "Değerlendirme tamamlandı: Kayıp=0.4049, Doğruluk=0.8172\n",
      "Epoch 2/15 - Eğitim Kaybı: 0.4433, Eğitim Doğruluğu: 0.7942, Doğrulama Kaybı: 0.4049, Doğrulama Doğruluğu: 0.8172\n",
      "En iyi model kaydediliyor: C:\\Users\\Admin\\Desktop\\TEZ\\Deepfake\\DeepFake-train-test\\_faces_preprocessed_dnn\\grafikler\\EfficientNet-B0_model.pth\n",
      "\n",
      "Epoch 3/15 başlatılıyor...\n",
      "Eğitim fonksiyonu başlatılıyor...\n"
     ]
    },
    {
     "name": "stderr",
     "output_type": "stream",
     "text": [
      "Eğitim: 100%|██████████| 4273/4273 [07:04<00:00, 10.07it/s]\n"
     ]
    },
    {
     "name": "stdout",
     "output_type": "stream",
     "text": [
      "Eğitim tamamlandı: Kayıp=0.4409, Doğruluk=0.7952\n",
      "Değerlendirme fonksiyonu başlatılıyor...\n"
     ]
    },
    {
     "name": "stderr",
     "output_type": "stream",
     "text": [
      "Değerlendirme: 100%|██████████| 1069/1069 [01:31<00:00, 11.73it/s]\n"
     ]
    },
    {
     "name": "stdout",
     "output_type": "stream",
     "text": [
      "Değerlendirme tamamlandı: Kayıp=0.4082, Doğruluk=0.8163\n",
      "Epoch 3/15 - Eğitim Kaybı: 0.4409, Eğitim Doğruluğu: 0.7952, Doğrulama Kaybı: 0.4082, Doğrulama Doğruluğu: 0.8163\n",
      "Erken durdurma sayacı: 1/5\n",
      "\n",
      "Epoch 4/15 başlatılıyor...\n",
      "Eğitim fonksiyonu başlatılıyor...\n"
     ]
    },
    {
     "name": "stderr",
     "output_type": "stream",
     "text": [
      "Eğitim: 100%|██████████| 4273/4273 [05:29<00:00, 12.98it/s]\n"
     ]
    },
    {
     "name": "stdout",
     "output_type": "stream",
     "text": [
      "Eğitim tamamlandı: Kayıp=0.4410, Doğruluk=0.7957\n",
      "Değerlendirme fonksiyonu başlatılıyor...\n"
     ]
    },
    {
     "name": "stderr",
     "output_type": "stream",
     "text": [
      "Değerlendirme: 100%|██████████| 1069/1069 [01:14<00:00, 14.44it/s]\n"
     ]
    },
    {
     "name": "stdout",
     "output_type": "stream",
     "text": [
      "Değerlendirme tamamlandı: Kayıp=0.4043, Doğruluk=0.8188\n",
      "Epoch 4/15 - Eğitim Kaybı: 0.4410, Eğitim Doğruluğu: 0.7957, Doğrulama Kaybı: 0.4043, Doğrulama Doğruluğu: 0.8188\n",
      "En iyi model kaydediliyor: C:\\Users\\Admin\\Desktop\\TEZ\\Deepfake\\DeepFake-train-test\\_faces_preprocessed_dnn\\grafikler\\EfficientNet-B0_model.pth\n",
      "\n",
      "Epoch 5/15 başlatılıyor...\n",
      "Eğitim fonksiyonu başlatılıyor...\n"
     ]
    },
    {
     "name": "stderr",
     "output_type": "stream",
     "text": [
      "Eğitim: 100%|██████████| 4273/4273 [04:56<00:00, 14.42it/s]\n"
     ]
    },
    {
     "name": "stdout",
     "output_type": "stream",
     "text": [
      "Eğitim tamamlandı: Kayıp=0.4414, Doğruluk=0.7965\n",
      "Değerlendirme fonksiyonu başlatılıyor...\n"
     ]
    },
    {
     "name": "stderr",
     "output_type": "stream",
     "text": [
      "Değerlendirme: 100%|██████████| 1069/1069 [01:12<00:00, 14.77it/s]\n"
     ]
    },
    {
     "name": "stdout",
     "output_type": "stream",
     "text": [
      "Değerlendirme tamamlandı: Kayıp=0.4198, Doğruluk=0.8138\n",
      "Epoch 5/15 - Eğitim Kaybı: 0.4414, Eğitim Doğruluğu: 0.7965, Doğrulama Kaybı: 0.4198, Doğrulama Doğruluğu: 0.8138\n",
      "Erken durdurma sayacı: 1/5\n",
      "\n",
      "Epoch 6/15 başlatılıyor...\n",
      "Eğitim fonksiyonu başlatılıyor...\n"
     ]
    },
    {
     "name": "stderr",
     "output_type": "stream",
     "text": [
      "Eğitim: 100%|██████████| 4273/4273 [05:02<00:00, 14.14it/s]\n"
     ]
    },
    {
     "name": "stdout",
     "output_type": "stream",
     "text": [
      "Eğitim tamamlandı: Kayıp=0.4415, Doğruluk=0.7960\n",
      "Değerlendirme fonksiyonu başlatılıyor...\n"
     ]
    },
    {
     "name": "stderr",
     "output_type": "stream",
     "text": [
      "Değerlendirme: 100%|██████████| 1069/1069 [01:14<00:00, 14.38it/s]\n"
     ]
    },
    {
     "name": "stdout",
     "output_type": "stream",
     "text": [
      "Değerlendirme tamamlandı: Kayıp=0.4058, Doğruluk=0.8194\n",
      "Epoch 6/15 - Eğitim Kaybı: 0.4415, Eğitim Doğruluğu: 0.7960, Doğrulama Kaybı: 0.4058, Doğrulama Doğruluğu: 0.8194\n",
      "En iyi model kaydediliyor: C:\\Users\\Admin\\Desktop\\TEZ\\Deepfake\\DeepFake-train-test\\_faces_preprocessed_dnn\\grafikler\\EfficientNet-B0_model.pth\n",
      "\n",
      "Epoch 7/15 başlatılıyor...\n",
      "Eğitim fonksiyonu başlatılıyor...\n"
     ]
    },
    {
     "name": "stderr",
     "output_type": "stream",
     "text": [
      "Eğitim: 100%|██████████| 4273/4273 [05:00<00:00, 14.24it/s]\n"
     ]
    },
    {
     "name": "stdout",
     "output_type": "stream",
     "text": [
      "Eğitim tamamlandı: Kayıp=0.4417, Doğruluk=0.7962\n",
      "Değerlendirme fonksiyonu başlatılıyor...\n"
     ]
    },
    {
     "name": "stderr",
     "output_type": "stream",
     "text": [
      "Değerlendirme: 100%|██████████| 1069/1069 [01:13<00:00, 14.46it/s]\n"
     ]
    },
    {
     "name": "stdout",
     "output_type": "stream",
     "text": [
      "Değerlendirme tamamlandı: Kayıp=0.4280, Doğruluk=0.8122\n",
      "Epoch 7/15 - Eğitim Kaybı: 0.4417, Eğitim Doğruluğu: 0.7962, Doğrulama Kaybı: 0.4280, Doğrulama Doğruluğu: 0.8122\n",
      "Erken durdurma sayacı: 1/5\n",
      "\n",
      "Epoch 8/15 başlatılıyor...\n",
      "Eğitim fonksiyonu başlatılıyor...\n"
     ]
    },
    {
     "name": "stderr",
     "output_type": "stream",
     "text": [
      "Eğitim: 100%|██████████| 4273/4273 [04:58<00:00, 14.31it/s]\n"
     ]
    },
    {
     "name": "stdout",
     "output_type": "stream",
     "text": [
      "Eğitim tamamlandı: Kayıp=0.4412, Doğruluk=0.7952\n",
      "Değerlendirme fonksiyonu başlatılıyor...\n"
     ]
    },
    {
     "name": "stderr",
     "output_type": "stream",
     "text": [
      "Değerlendirme: 100%|██████████| 1069/1069 [01:14<00:00, 14.42it/s]\n"
     ]
    },
    {
     "name": "stdout",
     "output_type": "stream",
     "text": [
      "Değerlendirme tamamlandı: Kayıp=0.4059, Doğruluk=0.8217\n",
      "Epoch 8/15 - Eğitim Kaybı: 0.4412, Eğitim Doğruluğu: 0.7952, Doğrulama Kaybı: 0.4059, Doğrulama Doğruluğu: 0.8217\n",
      "En iyi model kaydediliyor: C:\\Users\\Admin\\Desktop\\TEZ\\Deepfake\\DeepFake-train-test\\_faces_preprocessed_dnn\\grafikler\\EfficientNet-B0_model.pth\n",
      "\n",
      "Epoch 9/15 başlatılıyor...\n",
      "Eğitim fonksiyonu başlatılıyor...\n"
     ]
    },
    {
     "name": "stderr",
     "output_type": "stream",
     "text": [
      "Eğitim: 100%|██████████| 4273/4273 [04:58<00:00, 14.32it/s]\n"
     ]
    },
    {
     "name": "stdout",
     "output_type": "stream",
     "text": [
      "Eğitim tamamlandı: Kayıp=0.4309, Doğruluk=0.8003\n",
      "Değerlendirme fonksiyonu başlatılıyor...\n"
     ]
    },
    {
     "name": "stderr",
     "output_type": "stream",
     "text": [
      "Değerlendirme: 100%|██████████| 1069/1069 [01:13<00:00, 14.47it/s]\n"
     ]
    },
    {
     "name": "stdout",
     "output_type": "stream",
     "text": [
      "Değerlendirme tamamlandı: Kayıp=0.4153, Doğruluk=0.8072\n",
      "Epoch 9/15 - Eğitim Kaybı: 0.4309, Eğitim Doğruluğu: 0.8003, Doğrulama Kaybı: 0.4153, Doğrulama Doğruluğu: 0.8072\n",
      "Erken durdurma sayacı: 1/5\n",
      "\n",
      "Epoch 10/15 başlatılıyor...\n",
      "Eğitim fonksiyonu başlatılıyor...\n"
     ]
    },
    {
     "name": "stderr",
     "output_type": "stream",
     "text": [
      "Eğitim: 100%|██████████| 4273/4273 [04:58<00:00, 14.29it/s]\n"
     ]
    },
    {
     "name": "stdout",
     "output_type": "stream",
     "text": [
      "Eğitim tamamlandı: Kayıp=0.4308, Doğruluk=0.8014\n",
      "Değerlendirme fonksiyonu başlatılıyor...\n"
     ]
    },
    {
     "name": "stderr",
     "output_type": "stream",
     "text": [
      "Değerlendirme: 100%|██████████| 1069/1069 [01:14<00:00, 14.42it/s]\n"
     ]
    },
    {
     "name": "stdout",
     "output_type": "stream",
     "text": [
      "Değerlendirme tamamlandı: Kayıp=0.3934, Doğruluk=0.8241\n",
      "Epoch 10/15 - Eğitim Kaybı: 0.4308, Eğitim Doğruluğu: 0.8014, Doğrulama Kaybı: 0.3934, Doğrulama Doğruluğu: 0.8241\n",
      "En iyi model kaydediliyor: C:\\Users\\Admin\\Desktop\\TEZ\\Deepfake\\DeepFake-train-test\\_faces_preprocessed_dnn\\grafikler\\EfficientNet-B0_model.pth\n",
      "\n",
      "Epoch 11/15 başlatılıyor...\n",
      "Eğitim fonksiyonu başlatılıyor...\n"
     ]
    },
    {
     "name": "stderr",
     "output_type": "stream",
     "text": [
      "Eğitim: 100%|██████████| 4273/4273 [04:59<00:00, 14.27it/s]\n"
     ]
    },
    {
     "name": "stdout",
     "output_type": "stream",
     "text": [
      "Eğitim tamamlandı: Kayıp=0.4296, Doğruluk=0.8017\n",
      "Değerlendirme fonksiyonu başlatılıyor...\n"
     ]
    },
    {
     "name": "stderr",
     "output_type": "stream",
     "text": [
      "Değerlendirme: 100%|██████████| 1069/1069 [01:12<00:00, 14.75it/s]\n"
     ]
    },
    {
     "name": "stdout",
     "output_type": "stream",
     "text": [
      "Değerlendirme tamamlandı: Kayıp=0.3995, Doğruluk=0.8204\n",
      "Epoch 11/15 - Eğitim Kaybı: 0.4296, Eğitim Doğruluğu: 0.8017, Doğrulama Kaybı: 0.3995, Doğrulama Doğruluğu: 0.8204\n",
      "Erken durdurma sayacı: 1/5\n",
      "\n",
      "Epoch 12/15 başlatılıyor...\n",
      "Eğitim fonksiyonu başlatılıyor...\n"
     ]
    },
    {
     "name": "stderr",
     "output_type": "stream",
     "text": [
      "Eğitim: 100%|██████████| 4273/4273 [06:23<00:00, 11.14it/s]\n"
     ]
    },
    {
     "name": "stdout",
     "output_type": "stream",
     "text": [
      "Eğitim tamamlandı: Kayıp=0.4304, Doğruluk=0.8007\n",
      "Değerlendirme fonksiyonu başlatılıyor...\n"
     ]
    },
    {
     "name": "stderr",
     "output_type": "stream",
     "text": [
      "Değerlendirme: 100%|██████████| 1069/1069 [01:35<00:00, 11.20it/s]\n"
     ]
    },
    {
     "name": "stdout",
     "output_type": "stream",
     "text": [
      "Değerlendirme tamamlandı: Kayıp=0.4231, Doğruluk=0.8055\n",
      "Epoch 12/15 - Eğitim Kaybı: 0.4304, Eğitim Doğruluğu: 0.8007, Doğrulama Kaybı: 0.4231, Doğrulama Doğruluğu: 0.8055\n",
      "Erken durdurma sayacı: 2/5\n",
      "\n",
      "Epoch 13/15 başlatılıyor...\n",
      "Eğitim fonksiyonu başlatılıyor...\n"
     ]
    },
    {
     "name": "stderr",
     "output_type": "stream",
     "text": [
      "Eğitim: 100%|██████████| 4273/4273 [07:06<00:00, 10.02it/s]\n"
     ]
    },
    {
     "name": "stdout",
     "output_type": "stream",
     "text": [
      "Eğitim tamamlandı: Kayıp=0.4307, Doğruluk=0.8006\n",
      "Değerlendirme fonksiyonu başlatılıyor...\n"
     ]
    },
    {
     "name": "stderr",
     "output_type": "stream",
     "text": [
      "Değerlendirme: 100%|██████████| 1069/1069 [01:43<00:00, 10.28it/s]\n"
     ]
    },
    {
     "name": "stdout",
     "output_type": "stream",
     "text": [
      "Değerlendirme tamamlandı: Kayıp=0.3997, Doğruluk=0.8216\n",
      "Epoch 13/15 - Eğitim Kaybı: 0.4307, Eğitim Doğruluğu: 0.8006, Doğrulama Kaybı: 0.3997, Doğrulama Doğruluğu: 0.8216\n",
      "Erken durdurma sayacı: 3/5\n",
      "\n",
      "Epoch 14/15 başlatılıyor...\n",
      "Eğitim fonksiyonu başlatılıyor...\n"
     ]
    },
    {
     "name": "stderr",
     "output_type": "stream",
     "text": [
      "Eğitim: 100%|██████████| 4273/4273 [07:02<00:00, 10.12it/s]\n"
     ]
    },
    {
     "name": "stdout",
     "output_type": "stream",
     "text": [
      "Eğitim tamamlandı: Kayıp=0.4294, Doğruluk=0.8015\n",
      "Değerlendirme fonksiyonu başlatılıyor...\n"
     ]
    },
    {
     "name": "stderr",
     "output_type": "stream",
     "text": [
      "Değerlendirme: 100%|██████████| 1069/1069 [01:39<00:00, 10.77it/s]\n"
     ]
    },
    {
     "name": "stdout",
     "output_type": "stream",
     "text": [
      "Değerlendirme tamamlandı: Kayıp=0.4104, Doğruluk=0.8152\n",
      "Epoch 14/15 - Eğitim Kaybı: 0.4294, Eğitim Doğruluğu: 0.8015, Doğrulama Kaybı: 0.4104, Doğrulama Doğruluğu: 0.8152\n",
      "Erken durdurma sayacı: 4/5\n",
      "\n",
      "Epoch 15/15 başlatılıyor...\n",
      "Eğitim fonksiyonu başlatılıyor...\n"
     ]
    },
    {
     "name": "stderr",
     "output_type": "stream",
     "text": [
      "Eğitim: 100%|██████████| 4273/4273 [06:53<00:00, 10.33it/s]\n"
     ]
    },
    {
     "name": "stdout",
     "output_type": "stream",
     "text": [
      "Eğitim tamamlandı: Kayıp=0.4275, Doğruluk=0.8023\n",
      "Değerlendirme fonksiyonu başlatılıyor...\n"
     ]
    },
    {
     "name": "stderr",
     "output_type": "stream",
     "text": [
      "Değerlendirme: 100%|██████████| 1069/1069 [01:41<00:00, 10.49it/s]\n"
     ]
    },
    {
     "name": "stdout",
     "output_type": "stream",
     "text": [
      "Değerlendirme tamamlandı: Kayıp=0.3982, Doğruluk=0.8232\n",
      "Epoch 15/15 - Eğitim Kaybı: 0.4275, Eğitim Doğruluğu: 0.8023, Doğrulama Kaybı: 0.3982, Doğrulama Doğruluğu: 0.8232\n",
      "Erken durdurma sayacı: 5/5\n",
      "Erken durdurma tetiklendi\n",
      "EfficientNet-B0 eğitimi 6379.72 saniyede tamamlandı\n",
      "\n",
      "EfficientNet-B0 için en iyi model yükleniyor...\n",
      "EfficientNet-B0 değerlendiriliyor...\n",
      "Değerlendirme fonksiyonu başlatılıyor...\n"
     ]
    },
    {
     "name": "stderr",
     "output_type": "stream",
     "text": [
      "Değerlendirme: 100%|██████████| 1069/1069 [01:15<00:00, 14.24it/s]\n"
     ]
    },
    {
     "name": "stdout",
     "output_type": "stream",
     "text": [
      "Değerlendirme tamamlandı: Kayıp=0.3934, Doğruluk=0.8241\n",
      "EfficientNet-B0 değerlendirme süresi: 75.06 saniye\n",
      "EfficientNet-B0 Doğruluğu: 0.8241\n",
      "EfficientNet-B0 Kesinlik: 0.8252\n",
      "EfficientNet-B0 Duyarlılık: 0.8367\n",
      "EfficientNet-B0 F1-Skor: 0.8309\n",
      "EfficientNet-B0 ROC-AUC: 0.9025\n",
      "\n",
      "EfficientNet-B0 için confusion matrix oluşturuluyor...\n",
      "Confusion matrix kaydedildi: C:\\Users\\Admin\\Desktop\\TEZ\\Deepfake\\DeepFake-train-test\\_faces_preprocessed_dnn\\grafikler\\EfficientNet-B0_confusion_matrix.png\n",
      "EfficientNet-B0 sonuçları kaydedildi.\n",
      "\n",
      "MesoNet için eğitim başlatılıyor...\n",
      "Optimizasyon: Adam, öğrenme oranı=0.001\n",
      "Planlayıcı: ReduceLROnPlateau, factor=0.2, patience=3\n",
      "\n",
      "Epoch 1/15 başlatılıyor...\n",
      "Eğitim fonksiyonu başlatılıyor...\n"
     ]
    },
    {
     "name": "stderr",
     "output_type": "stream",
     "text": [
      "Eğitim: 100%|██████████| 4273/4273 [06:29<00:00, 10.96it/s]\n"
     ]
    },
    {
     "name": "stdout",
     "output_type": "stream",
     "text": [
      "Eğitim tamamlandı: Kayıp=0.3315, Doğruluk=0.8574\n",
      "Değerlendirme fonksiyonu başlatılıyor...\n"
     ]
    },
    {
     "name": "stderr",
     "output_type": "stream",
     "text": [
      "Değerlendirme: 100%|██████████| 1069/1069 [01:55<00:00,  9.24it/s]\n"
     ]
    },
    {
     "name": "stdout",
     "output_type": "stream",
     "text": [
      "Değerlendirme tamamlandı: Kayıp=1.6957, Doğruluk=0.4893\n",
      "Epoch 1/15 - Eğitim Kaybı: 0.3315, Eğitim Doğruluğu: 0.8574, Doğrulama Kaybı: 1.6957, Doğrulama Doğruluğu: 0.4893\n",
      "En iyi model kaydediliyor: C:\\Users\\Admin\\Desktop\\TEZ\\Deepfake\\DeepFake-train-test\\_faces_preprocessed_dnn\\grafikler\\MesoNet_model.pth\n",
      "\n",
      "Epoch 2/15 başlatılıyor...\n",
      "Eğitim fonksiyonu başlatılıyor...\n"
     ]
    },
    {
     "name": "stderr",
     "output_type": "stream",
     "text": [
      "Eğitim: 100%|██████████| 4273/4273 [05:51<00:00, 12.15it/s]\n"
     ]
    },
    {
     "name": "stdout",
     "output_type": "stream",
     "text": [
      "Eğitim tamamlandı: Kayıp=0.2093, Doğruluk=0.9184\n",
      "Değerlendirme fonksiyonu başlatılıyor...\n"
     ]
    },
    {
     "name": "stderr",
     "output_type": "stream",
     "text": [
      "Değerlendirme: 100%|██████████| 1069/1069 [01:34<00:00, 11.30it/s]\n"
     ]
    },
    {
     "name": "stdout",
     "output_type": "stream",
     "text": [
      "Değerlendirme tamamlandı: Kayıp=0.7649, Doğruluk=0.6607\n",
      "Epoch 2/15 - Eğitim Kaybı: 0.2093, Eğitim Doğruluğu: 0.9184, Doğrulama Kaybı: 0.7649, Doğrulama Doğruluğu: 0.6607\n",
      "En iyi model kaydediliyor: C:\\Users\\Admin\\Desktop\\TEZ\\Deepfake\\DeepFake-train-test\\_faces_preprocessed_dnn\\grafikler\\MesoNet_model.pth\n",
      "\n",
      "Epoch 3/15 başlatılıyor...\n",
      "Eğitim fonksiyonu başlatılıyor...\n"
     ]
    },
    {
     "name": "stderr",
     "output_type": "stream",
     "text": [
      "Eğitim: 100%|██████████| 4273/4273 [06:40<00:00, 10.66it/s]\n"
     ]
    },
    {
     "name": "stdout",
     "output_type": "stream",
     "text": [
      "Eğitim tamamlandı: Kayıp=0.1732, Doğruluk=0.9340\n",
      "Değerlendirme fonksiyonu başlatılıyor...\n"
     ]
    },
    {
     "name": "stderr",
     "output_type": "stream",
     "text": [
      "Değerlendirme: 100%|██████████| 1069/1069 [01:50<00:00,  9.69it/s]\n"
     ]
    },
    {
     "name": "stdout",
     "output_type": "stream",
     "text": [
      "Değerlendirme tamamlandı: Kayıp=1.1172, Doğruluk=0.5416\n",
      "Epoch 3/15 - Eğitim Kaybı: 0.1732, Eğitim Doğruluğu: 0.9340, Doğrulama Kaybı: 1.1172, Doğrulama Doğruluğu: 0.5416\n",
      "Erken durdurma sayacı: 1/5\n",
      "\n",
      "Epoch 4/15 başlatılıyor...\n",
      "Eğitim fonksiyonu başlatılıyor...\n"
     ]
    },
    {
     "name": "stderr",
     "output_type": "stream",
     "text": [
      "Eğitim: 100%|██████████| 4273/4273 [06:13<00:00, 11.44it/s]\n"
     ]
    },
    {
     "name": "stdout",
     "output_type": "stream",
     "text": [
      "Eğitim tamamlandı: Kayıp=0.1521, Doğruluk=0.9428\n",
      "Değerlendirme fonksiyonu başlatılıyor...\n"
     ]
    },
    {
     "name": "stderr",
     "output_type": "stream",
     "text": [
      "Değerlendirme: 100%|██████████| 1069/1069 [01:50<00:00,  9.71it/s]\n"
     ]
    },
    {
     "name": "stdout",
     "output_type": "stream",
     "text": [
      "Değerlendirme tamamlandı: Kayıp=1.4521, Doğruluk=0.5029\n",
      "Epoch 4/15 - Eğitim Kaybı: 0.1521, Eğitim Doğruluğu: 0.9428, Doğrulama Kaybı: 1.4521, Doğrulama Doğruluğu: 0.5029\n",
      "Erken durdurma sayacı: 2/5\n",
      "\n",
      "Epoch 5/15 başlatılıyor...\n",
      "Eğitim fonksiyonu başlatılıyor...\n"
     ]
    },
    {
     "name": "stderr",
     "output_type": "stream",
     "text": [
      "Eğitim: 100%|██████████| 4273/4273 [05:46<00:00, 12.34it/s]\n"
     ]
    },
    {
     "name": "stdout",
     "output_type": "stream",
     "text": [
      "Eğitim tamamlandı: Kayıp=0.1396, Doğruluk=0.9478\n",
      "Değerlendirme fonksiyonu başlatılıyor...\n"
     ]
    },
    {
     "name": "stderr",
     "output_type": "stream",
     "text": [
      "Değerlendirme: 100%|██████████| 1069/1069 [01:52<00:00,  9.51it/s]\n"
     ]
    },
    {
     "name": "stdout",
     "output_type": "stream",
     "text": [
      "Değerlendirme tamamlandı: Kayıp=2.1292, Doğruluk=0.4867\n",
      "Epoch 5/15 - Eğitim Kaybı: 0.1396, Eğitim Doğruluğu: 0.9478, Doğrulama Kaybı: 2.1292, Doğrulama Doğruluğu: 0.4867\n",
      "Erken durdurma sayacı: 3/5\n",
      "\n",
      "Epoch 6/15 başlatılıyor...\n",
      "Eğitim fonksiyonu başlatılıyor...\n"
     ]
    },
    {
     "name": "stderr",
     "output_type": "stream",
     "text": [
      "Eğitim: 100%|██████████| 4273/4273 [06:04<00:00, 11.72it/s]\n"
     ]
    },
    {
     "name": "stdout",
     "output_type": "stream",
     "text": [
      "Eğitim tamamlandı: Kayıp=0.1298, Doğruluk=0.9517\n",
      "Değerlendirme fonksiyonu başlatılıyor...\n"
     ]
    },
    {
     "name": "stderr",
     "output_type": "stream",
     "text": [
      "Değerlendirme: 100%|██████████| 1069/1069 [01:51<00:00,  9.61it/s]\n"
     ]
    },
    {
     "name": "stdout",
     "output_type": "stream",
     "text": [
      "Değerlendirme tamamlandı: Kayıp=1.2015, Doğruluk=0.5242\n",
      "Epoch 6/15 - Eğitim Kaybı: 0.1298, Eğitim Doğruluğu: 0.9517, Doğrulama Kaybı: 1.2015, Doğrulama Doğruluğu: 0.5242\n",
      "Erken durdurma sayacı: 4/5\n",
      "\n",
      "Epoch 7/15 başlatılıyor...\n",
      "Eğitim fonksiyonu başlatılıyor...\n"
     ]
    },
    {
     "name": "stderr",
     "output_type": "stream",
     "text": [
      "Eğitim: 100%|██████████| 4273/4273 [05:52<00:00, 12.11it/s]\n"
     ]
    },
    {
     "name": "stdout",
     "output_type": "stream",
     "text": [
      "Eğitim tamamlandı: Kayıp=0.0972, Doğruluk=0.9655\n",
      "Değerlendirme fonksiyonu başlatılıyor...\n"
     ]
    },
    {
     "name": "stderr",
     "output_type": "stream",
     "text": [
      "Değerlendirme: 100%|██████████| 1069/1069 [01:55<00:00,  9.27it/s]\n"
     ]
    },
    {
     "name": "stdout",
     "output_type": "stream",
     "text": [
      "Değerlendirme tamamlandı: Kayıp=4.8930, Doğruluk=0.4837\n",
      "Epoch 7/15 - Eğitim Kaybı: 0.0972, Eğitim Doğruluğu: 0.9655, Doğrulama Kaybı: 4.8930, Doğrulama Doğruluğu: 0.4837\n",
      "Erken durdurma sayacı: 5/5\n",
      "Erken durdurma tetiklendi\n",
      "MesoNet eğitimi 3349.26 saniyede tamamlandı\n",
      "\n",
      "MesoNet için en iyi model yükleniyor...\n",
      "MesoNet değerlendiriliyor...\n",
      "Değerlendirme fonksiyonu başlatılıyor...\n"
     ]
    },
    {
     "name": "stderr",
     "output_type": "stream",
     "text": [
      "Değerlendirme: 100%|██████████| 1069/1069 [01:19<00:00, 13.43it/s]\n"
     ]
    },
    {
     "name": "stdout",
     "output_type": "stream",
     "text": [
      "Değerlendirme tamamlandı: Kayıp=0.7649, Doğruluk=0.6607\n",
      "MesoNet değerlendirme süresi: 79.62 saniye\n",
      "MesoNet Doğruluğu: 0.6607\n",
      "MesoNet Kesinlik: 0.7130\n",
      "MesoNet Duyarlılık: 0.5739\n",
      "MesoNet F1-Skor: 0.6359\n",
      "MesoNet ROC-AUC: 0.7415\n",
      "\n",
      "MesoNet için confusion matrix oluşturuluyor...\n",
      "Confusion matrix kaydedildi: C:\\Users\\Admin\\Desktop\\TEZ\\Deepfake\\DeepFake-train-test\\_faces_preprocessed_dnn\\grafikler\\MesoNet_confusion_matrix.png\n",
      "MesoNet sonuçları kaydedildi.\n",
      "\n",
      "Adım 12: Eğitim ve doğrulama grafikleri çiziliyor...\n",
      "MobileNetV3 için doğruluk grafiği çiziliyor...\n",
      "MobileNetV3 için kayıp grafiği çiziliyor...\n",
      "ResNet18 için doğruluk grafiği çiziliyor...\n",
      "ResNet18 için kayıp grafiği çiziliyor...\n",
      "EfficientNet-B0 için doğruluk grafiği çiziliyor...\n",
      "EfficientNet-B0 için kayıp grafiği çiziliyor...\n",
      "MesoNet için doğruluk grafiği çiziliyor...\n",
      "MesoNet için kayıp grafiği çiziliyor...\n",
      "Eğitim geçmişi grafiği kaydedildi: C:\\Users\\Admin\\Desktop\\TEZ\\Deepfake\\DeepFake-train-test\\_faces_preprocessed_dnn\\grafikler\\training_history.png\n",
      "\n",
      "Adım 13: Sonuç özeti yazdırılıyor...\n",
      "\n",
      "=== Sonuç Özeti ===\n",
      "\n",
      "MobileNetV3:\n",
      "Eğitim Süresi: 8428.57 saniye\n",
      "Değerlendirme Süresi: 83.85 saniye\n",
      "Doğruluk: 0.8130, Kesinlik: 0.8087, Duyarlılık: 0.8354, F1-Skor: 0.8218, ROC-AUC: 0.8912\n",
      "\n",
      "ResNet18:\n",
      "Eğitim Süresi: 6635.65 saniye\n",
      "Değerlendirme Süresi: 73.11 saniye\n",
      "Doğruluk: 0.8059, Kesinlik: 0.7956, Duyarlılık: 0.8400, F1-Skor: 0.8172, ROC-AUC: 0.8878\n",
      "\n",
      "EfficientNet-B0:\n",
      "Eğitim Süresi: 6379.72 saniye\n",
      "Değerlendirme Süresi: 75.06 saniye\n",
      "Doğruluk: 0.8241, Kesinlik: 0.8252, Duyarlılık: 0.8367, F1-Skor: 0.8309, ROC-AUC: 0.9025\n",
      "\n",
      "MesoNet:\n",
      "Eğitim Süresi: 3349.26 saniye\n",
      "Değerlendirme Süresi: 79.62 saniye\n",
      "Doğruluk: 0.6607, Kesinlik: 0.7130, Duyarlılık: 0.5739, F1-Skor: 0.6359, ROC-AUC: 0.7415\n",
      "Sonuç özeti tamamlandı.\n"
     ]
    }
   ],
   "source": [
    "import os\n",
    "import cv2\n",
    "import numpy as np\n",
    "import torch\n",
    "import torch.nn as nn\n",
    "import torch.optim as optim\n",
    "from torch.utils.data import Dataset, DataLoader\n",
    "from torchvision import models, transforms\n",
    "from torchvision.models import EfficientNet_B0_Weights\n",
    "from sklearn.metrics import accuracy_score, precision_score, recall_score, f1_score, roc_auc_score, confusion_matrix\n",
    "import matplotlib.pyplot as plt\n",
    "import seaborn as sns\n",
    "from tqdm import tqdm\n",
    "import time\n",
    "from torch.cuda.amp import autocast, GradScaler\n",
    "\n",
    "# 1. Grafiklerin kaydedileceği klasörü oluştur\n",
    "print(\"Adım 1: Grafiklerin kaydedileceği klasör oluşturuluyor...\")\n",
    "base_path = r\"C:\\Users\\Admin\\Desktop\\TEZ\\Deepfake\\DeepFake-train-test\\_faces_preprocessed_dnn\"\n",
    "graph_dir = os.path.join(base_path, \"grafikler\")\n",
    "os.makedirs(graph_dir, exist_ok=True)\n",
    "print(f\"Grafik klasörü oluşturuldu: {graph_dir}\")\n",
    "\n",
    "# 2. Cihaz seçimi ve GPU bellek temizliği\n",
    "print(\"\\nAdım 2: Cihaz seçiliyor (GPU veya CPU)...\")\n",
    "device = torch.device(\"cuda\" if torch.cuda.is_available() else \"cpu\")\n",
    "if device.type == \"cuda\":\n",
    "    torch.cuda.empty_cache()\n",
    "    print(\"GPU bellek temizlendi.\")\n",
    "print(f\"Kullanılan cihaz: {device}\")\n",
    "\n",
    "# 3. Veri yollarını tanımla\n",
    "print(\"\\nAdım 3: Veri yolları tanımlanıyor...\")\n",
    "train_fake_path = r\"C:\\Users\\Admin\\Desktop\\TEZ\\Deepfake\\DeepFake-train-test\\_faces_preprocessed_dnn\\train-fake-frame\"\n",
    "train_real_path = r\"C:\\Users\\Admin\\Desktop\\TEZ\\Deepfake\\DeepFake-train-test\\_faces_preprocessed_dnn\\train-real-frame\"\n",
    "test_fake_path = r\"C:\\Users\\Admin\\Desktop\\TEZ\\Deepfake\\DeepFake-train-test\\_faces_preprocessed_dnn\\test-fake-frame\"\n",
    "test_real_path = r\"C:\\Users\\Admin\\Desktop\\TEZ\\Deepfake\\DeepFake-train-test\\_faces_preprocessed_dnn\\test-real-frame\"\n",
    "print(f\"Eğitim fake veri yolu: {train_fake_path}\")\n",
    "print(f\"Eğitim real veri yolu: {train_real_path}\")\n",
    "print(f\"Test fake veri yolu: {test_fake_path}\")\n",
    "print(f\"Test real veri yolu: {test_real_path}\")\n",
    "\n",
    "# Veri yollarının varlığını kontrol et\n",
    "print(\"Veri yollarının varlığı kontrol ediliyor...\")\n",
    "for path in [train_fake_path, train_real_path, test_fake_path, test_real_path]:\n",
    "    if not os.path.exists(path):\n",
    "        raise FileNotFoundError(f\"Hata: {path} mevcut değil!\")\n",
    "    else:\n",
    "        print(f\"{path} mevcut.\")\n",
    "\n",
    "# 4. Veri dönüşümleri\n",
    "print(\"\\nAdım 4: Veri dönüşümleri tanımlanıyor...\")\n",
    "transform = transforms.Compose([\n",
    "    transforms.ToPILImage(),\n",
    "    transforms.Resize((150, 150)),\n",
    "    transforms.ToTensor(),\n",
    "    transforms.Normalize(mean=[0.5, 0.5, 0.5], std=[0.5, 0.5, 0.5])\n",
    "])\n",
    "print(\"Dönüşümler tanımlandı: ToPILImage, Resize(150x150), ToTensor, Normalize\")\n",
    "\n",
    "# 5. Veri seti sınıfı\n",
    "print(\"\\nAdım 5: DeepfakeDataset sınıfı tanımlanıyor...\")\n",
    "class DeepfakeDataset(Dataset):\n",
    "    def __init__(self, fake_path, real_path, transform=None):\n",
    "        print(f\"Veri seti oluşturuluyor: Fake: {fake_path}, Real: {real_path}\")\n",
    "        self.transform = transform\n",
    "        self.images = []\n",
    "        self.labels = []\n",
    "        missing_files = []\n",
    "        print(\"Fake görüntüler yükleniyor...\")\n",
    "        for img_name in os.listdir(fake_path):\n",
    "            img_path = os.path.join(fake_path, img_name)\n",
    "            if cv2.imread(img_path) is not None:\n",
    "                self.images.append(img_path)\n",
    "                self.labels.append(1)  # Fake: 1\n",
    "            else:\n",
    "                missing_files.append(img_path)\n",
    "        print(\"Real görüntüler yükleniyor...\")\n",
    "        for img_name in os.listdir(real_path):\n",
    "            img_path = os.path.join(real_path, img_name)\n",
    "            if cv2.imread(img_path) is not None:\n",
    "                self.images.append(img_path)\n",
    "                self.labels.append(0)  # Real: 0\n",
    "            else:\n",
    "                missing_files.append(img_path)\n",
    "        print(f\"{len(self.images)} görüntü yüklendi.\")\n",
    "        if missing_files:\n",
    "            print(f\"{len(missing_files)} dosya yüklenemedi: {missing_files[:5]}...\")\n",
    "\n",
    "    def __len__(self):\n",
    "        return len(self.images)\n",
    "\n",
    "    def __getitem__(self, idx):\n",
    "        img_path = self.images[idx]\n",
    "        image = cv2.imread(img_path)\n",
    "        if image is None:\n",
    "            print(f\"Yüklenemedi: {img_path}, rastgele başka bir görüntü seçiliyor...\")\n",
    "            idx = np.random.randint(0, len(self.images))\n",
    "            return self.__getitem__(idx)\n",
    "        image = cv2.cvtColor(image, cv2.COLOR_BGR2RGB)\n",
    "        if self.transform:\n",
    "            image = self.transform(image)\n",
    "        label = torch.tensor(self.labels[idx], dtype=torch.long)  # Ensure Long for labels\n",
    "        return image, label\n",
    "\n",
    "# 6. Veri setlerini oluştur\n",
    "print(\"\\nAdım 6: Eğitim ve test veri setleri oluşturuluyor...\")\n",
    "train_dataset = DeepfakeDataset(train_fake_path, train_real_path, transform=transform)\n",
    "test_dataset = DeepfakeDataset(test_fake_path, test_real_path, transform=transform)\n",
    "print(\"Veri setleri oluşturuldu.\")\n",
    "\n",
    "# 7. Veri yükleyiciler\n",
    "print(\"\\nAdım 7: Veri yükleyiciler (DataLoader) tanımlanıyor...\")\n",
    "train_loader = DataLoader(train_dataset, batch_size=64, shuffle=True, num_workers=0, pin_memory=True)\n",
    "test_loader = DataLoader(test_dataset, batch_size=64, shuffle=False, num_workers=0, pin_memory=True)\n",
    "print(f\"Eğitim DataLoader: batch_size=64, shuffle=True, num_workers=0\")\n",
    "print(f\"Test DataLoader: batch_size=64, shuffle=False, num_workers=0\")\n",
    "\n",
    "# 8. Sınıf ağırlıkları (dengesiz veri seti için)\n",
    "print(\"\\nAdım 8: Sınıf ağırlıkları hesaplanıyor...\")\n",
    "class_counts = [sum(np.array(train_dataset.labels) == i) for i in range(2)]\n",
    "class_weights = torch.tensor([1.0 / c for c in class_counts], dtype=torch.float32).to(device)  # Ensure Float\n",
    "print(f\"Sınıf sayıları: Real={class_counts[0]}, Fake={class_counts[1]}\")\n",
    "print(f\"Sınıf ağırlıkları: {class_weights}\")\n",
    "\n",
    "# 9. Modeller\n",
    "print(\"\\nAdım 9: Modeller tanımlanıyor...\")\n",
    "def get_model(model_name):\n",
    "    print(f\"{model_name} modeli oluşturuluyor...\")\n",
    "    if model_name == \"MobileNetV3\":\n",
    "        model = models.mobilenet_v3_small(weights=\"IMAGENET1K_V1\")\n",
    "        for param in model.parameters():\n",
    "            param.requires_grad = False\n",
    "        model.classifier[3] = nn.Linear(model.classifier[3].in_features, 2)\n",
    "        print(\"MobileNetV3: Önceden eğitilmiş, son katman 2 sınıfa uyarlandı.\")\n",
    "    elif model_name == \"ResNet18\":\n",
    "        model = models.resnet18(weights=\"IMAGENET1K_V1\")\n",
    "        for param in model.parameters():\n",
    "            param.requires_grad = False\n",
    "        model.fc = nn.Linear(model.fc.in_features, 2)\n",
    "        print(\"ResNet18: Önceden eğitilmiş, son katman 2 sınıfa uyarlandı.\")\n",
    "    elif model_name == \"EfficientNet-B0\":\n",
    "        model = models.efficientnet_b0(weights=None)  # Custom checkpoint\n",
    "        checkpoint_path = \"C:/Users/Admin/.cache/torch/hub/checkpoints/efficientnet_b0_rwightman-7f5810bc.pth\"\n",
    "        if os.path.exists(checkpoint_path):\n",
    "            state_dict = torch.load(checkpoint_path, map_location=device)\n",
    "            model.load_state_dict(state_dict)\n",
    "        else:\n",
    "            print(f\"Uyarı: {checkpoint_path} bulunamadı, varsayılan ağırlıklar kullanılıyor.\")\n",
    "        for param in model.parameters():\n",
    "            param.requires_grad = False\n",
    "        model.classifier[1] = nn.Linear(model.classifier[1].in_features, 2)\n",
    "        print(\"EfficientNet-B0: Kendi checkpoint'inden yüklendi ve son katman 2 sınıfa uyarlandı.\")\n",
    "    elif model_name == \"MesoNet\":\n",
    "        class MesoNet(nn.Module):\n",
    "            def __init__(self):\n",
    "                super(MesoNet, self).__init__()\n",
    "                self.conv1 = nn.Conv2d(3, 8, 3, padding=1)\n",
    "                self.conv2 = nn.Conv2d(8, 8, 5, padding=2)\n",
    "                self.conv3 = nn.Conv2d(8, 16, 5, padding=2)\n",
    "                self.conv4 = nn.Conv2d(16, 16, 5, padding=2)\n",
    "                self.pool = nn.MaxPool2d(2, 2)\n",
    "                self.relu = nn.ReLU()\n",
    "                self.batchnorm1 = nn.BatchNorm2d(8)\n",
    "                self.batchnorm2 = nn.BatchNorm2d(16)\n",
    "                self.dropout = nn.Dropout(0.2)\n",
    "                self.fc1 = nn.Linear(16 * 9 * 9, 16)\n",
    "                self.fc2 = nn.Linear(16, 2)\n",
    "                print(\"MesoNet: Özel CNN mimarisi tanımlandı.\")\n",
    "\n",
    "            def forward(self, x):\n",
    "                x = self.relu(self.batchnorm1(self.conv1(x)))\n",
    "                x = self.pool(x)\n",
    "                x = self.relu(self.batchnorm1(self.conv2(x)))\n",
    "                x = self.pool(x)\n",
    "                x = self.relu(self.batchnorm2(self.conv3(x)))\n",
    "                x = self.pool(x)\n",
    "                x = self.relu(self.batchnorm2(self.conv4(x)))\n",
    "                x = self.pool(x)\n",
    "                x = x.view(-1, 16 * 9 * 9)\n",
    "                x = self.dropout(self.relu(self.fc1(x)))\n",
    "                x = self.fc2(x)\n",
    "                return x\n",
    "        model = MesoNet()\n",
    "    model = model.to(device, dtype=torch.float32)  # Ensure model is Float\n",
    "    return model\n",
    "\n",
    "models_dict = {\n",
    "    'MobileNetV3': get_model('MobileNetV3'),\n",
    "    'ResNet18': get_model('ResNet18'),\n",
    "    'EfficientNet-B0': get_model('EfficientNet-B0'),\n",
    "    'MesoNet': get_model('MesoNet')\n",
    "}\n",
    "print(\"Tüm modeller tanımlandı:\", list(models_dict.keys()))\n",
    "\n",
    "# 10. Eğitim ve değerlendirme fonksiyonları\n",
    "print(\"\\nAdım 10: Eğitim ve değerlendirme fonksiyonları tanımlanıyor...\")\n",
    "def train_model(model, train_loader, criterion, optimizer, device):\n",
    "    print(\"Eğitim fonksiyonu başlatılıyor...\")\n",
    "    model.train()\n",
    "    scaler = GradScaler()\n",
    "    running_loss = 0.0\n",
    "    correct = 0\n",
    "    total = 0\n",
    "    for images, labels in tqdm(train_loader, desc=\"Eğitim\"):\n",
    "        if images is None:\n",
    "            print(\"Boş görüntü atlanıyor...\")\n",
    "            continue\n",
    "        images = images.to(device, non_blocking=True, dtype=torch.float32)  # Ensure Float\n",
    "        labels = labels.to(device, non_blocking=True)  # Labels are Long\n",
    "        optimizer.zero_grad()\n",
    "        try:\n",
    "            with autocast():\n",
    "                outputs = model(images)\n",
    "                loss = criterion(outputs, labels)\n",
    "        except RuntimeError as e:\n",
    "            print(f\"Mixed precision hatası: {e}, normal modda devam ediliyor...\")\n",
    "            outputs = model(images)\n",
    "            loss = criterion(outputs, labels)\n",
    "        scaler.scale(loss).backward()\n",
    "        scaler.step(optimizer)\n",
    "        scaler.update()\n",
    "        running_loss += loss.item()  # Fixed typo: removed 'Noise' and colon\n",
    "        _, predicted = torch.max(outputs, 1)\n",
    "        total += labels.size(0)\n",
    "        correct += (predicted == labels).sum().item()\n",
    "    epoch_loss = running_loss / len(train_loader)\n",
    "    epoch_acc = correct / total\n",
    "    print(f\"Eğitim tamamlandı: Kayıp={epoch_loss:.4f}, Doğruluk={epoch_acc:.4f}\")\n",
    "    return epoch_loss, epoch_acc, running_loss, correct\n",
    "\n",
    "def evaluate_model(model, test_loader, criterion, device):\n",
    "    print(\"Değerlendirme fonksiyonu başlatılıyor...\")\n",
    "    model.eval()\n",
    "    running_loss = 0.0\n",
    "    correct = 0\n",
    "    total = 0\n",
    "    predictions, true_labels, probs = [], [], []\n",
    "    with torch.no_grad():\n",
    "        for images, labels in tqdm(test_loader, desc=\"Değerlendirme\"):\n",
    "            if images is None:\n",
    "                print(\"Boş görüntü atlanıyor...\")\n",
    "                continue\n",
    "            images = images.to(device, non_blocking=True, dtype=torch.float32)  # Ensure Float\n",
    "            labels = labels.to(device, non_blocking=True)  # Labels are Long\n",
    "            with autocast():\n",
    "                outputs = model(images)\n",
    "                loss = criterion(outputs, labels)\n",
    "            running_loss += loss.item()\n",
    "            _, predicted = torch.max(outputs, 1)\n",
    "            total += labels.size(0)\n",
    "            correct += (predicted == labels).sum().item()\n",
    "            predictions.extend(predicted.cpu().numpy())\n",
    "            true_labels.extend(labels.cpu().numpy())\n",
    "            probs.extend(torch.softmax(outputs, dim=1)[:, 1].cpu().numpy())\n",
    "    epoch_loss = running_loss / len(test_loader)\n",
    "    epoch_acc = correct / total\n",
    "    print(f\"Değerlendirme tamamlandı: Kayıp={epoch_loss:.4f}, Doğruluk={epoch_acc:.4f}\")\n",
    "    return epoch_loss, epoch_acc, predictions, true_labels, probs\n",
    "\n",
    "# 11. Eğitim döngüsü\n",
    "print(\"\\nAdım 11: Eğitim döngüsü başlatılıyor...\")\n",
    "results = {}\n",
    "criterion = nn.CrossEntropyLoss(weight=class_weights)\n",
    "print(\"Kayıp fonksiyonu: CrossEntropyLoss (sınıf ağırlıklı)\")\n",
    "for model_name, model in models_dict.items():\n",
    "    print(f\"\\n{model_name} için eğitim başlatılıyor...\")\n",
    "    optimizer = optim.Adam(model.parameters(), lr=0.001)\n",
    "    scheduler = optim.lr_scheduler.ReduceLROnPlateau(optimizer, factor=0.2, patience=3)\n",
    "    print(f\"Optimizasyon: Adam, öğrenme oranı=0.001\")\n",
    "    print(\"Planlayıcı: ReduceLROnPlateau, factor=0.2, patience=3\")\n",
    "    best_val_loss = float('inf')\n",
    "    best_val_acc = 0\n",
    "    patience = 5\n",
    "    counter = 0\n",
    "    train_accs, val_accs, train_losses, val_losses = [], [], [], []\n",
    "\n",
    "    start_time = time.time()\n",
    "    for epoch in range(15):\n",
    "        print(f\"\\nEpoch {epoch+1}/15 başlatılıyor...\")\n",
    "        train_loss, train_acc, train_running_loss, train_correct = train_model(model, train_loader, criterion, optimizer, device)\n",
    "        val_loss, val_acc, val_predictions, val_true_labels, val_probs = evaluate_model(model, test_loader, criterion, device)\n",
    "        train_accs.append(train_acc)\n",
    "        val_accs.append(val_acc)\n",
    "        train_losses.append(train_loss)\n",
    "        val_losses.append(val_loss)\n",
    "        print(f\"Epoch {epoch+1}/15 - Eğitim Kaybı: {train_loss:.4f}, Eğitim Doğruluğu: {train_acc:.4f}, \"\n",
    "              f\"Doğrulama Kaybı: {val_loss:.4f}, Doğrulama Doğruluğu: {val_acc:.4f}\")\n",
    "        scheduler.step(val_loss)\n",
    "        if val_loss < best_val_loss or val_acc > best_val_acc:\n",
    "            best_val_loss = val_loss\n",
    "            best_val_acc = max(val_acc, best_val_acc)\n",
    "            print(f\"En iyi model kaydediliyor: {os.path.join(graph_dir, f'{model_name}_model.pth')}\")\n",
    "            torch.save(model.state_dict(), os.path.join(graph_dir, f'{model_name}_model.pth'))\n",
    "            counter = 0\n",
    "        else:\n",
    "            counter += 1\n",
    "            print(f\"Erken durdurma sayacı: {counter}/{patience}\")\n",
    "            if counter >= patience:\n",
    "                print(\"Erken durdurma tetiklendi\")\n",
    "                break\n",
    "    training_time = time.time() - start_time\n",
    "    print(f\"{model_name} eğitimi {training_time:.2f} saniyede tamamlandı\")\n",
    "\n",
    "    print(f\"\\n{model_name} için en iyi model yükleniyor...\")\n",
    "    model.load_state_dict(torch.load(os.path.join(graph_dir, f'{model_name}_model.pth'), map_location=device))\n",
    "    print(f\"{model_name} değerlendiriliyor...\")\n",
    "    start_time = time.time()\n",
    "    _, accuracy, pred_labels, true_labels, probs = evaluate_model(model, test_loader, criterion, device)\n",
    "    test_time = time.time() - start_time\n",
    "    precision = precision_score(true_labels, pred_labels, zero_division=0)\n",
    "    recall = recall_score(true_labels, pred_labels, zero_division=0)\n",
    "    f1 = f1_score(true_labels, pred_labels, zero_division=0)\n",
    "    roc_auc = roc_auc_score(true_labels, probs)\n",
    "    print(f\"{model_name} değerlendirme süresi: {test_time:.2f} saniye\")\n",
    "    print(f\"{model_name} Doğruluğu: {accuracy:.4f}\")\n",
    "    print(f\"{model_name} Kesinlik: {precision:.4f}\")\n",
    "    print(f\"{model_name} Duyarlılık: {recall:.4f}\")\n",
    "    print(f\"{model_name} F1-Skor: {f1:.4f}\")\n",
    "    print(f\"{model_name} ROC-AUC: {roc_auc:.4f}\")\n",
    "\n",
    "    # Confusion Matrix\n",
    "    print(f\"\\n{model_name} için confusion matrix oluşturuluyor...\")\n",
    "    cm = confusion_matrix(true_labels, pred_labels)\n",
    "    plt.figure(figsize=(6, 4))\n",
    "    sns.heatmap(cm, annot=True, fmt='d', cmap='Blues')\n",
    "    plt.title(f'{model_name} Confusion Matrix')\n",
    "    plt.ylabel('True Label')\n",
    "    plt.xlabel('Predicted Label')\n",
    "    plt.savefig(os.path.join(graph_dir, f'{model_name}_confusion_matrix.png'))\n",
    "    plt.close()\n",
    "    print(f\"Confusion matrix kaydedildi: {os.path.join(graph_dir, f'{model_name}_confusion_matrix.png')}\")\n",
    "\n",
    "    results[model_name] = {\n",
    "        'train_accs': train_accs, 'val_accs': val_accs, 'train_losses': train_losses, 'val_losses': val_losses,\n",
    "        'accuracy': accuracy, 'precision': precision, 'recall': recall, 'f1': f1, 'roc_auc': roc_auc,\n",
    "        'training_time': training_time, 'test_time': test_time,\n",
    "        'true_labels': true_labels, 'pred_labels': pred_labels, 'probs': probs\n",
    "    }\n",
    "    print(f\"{model_name} sonuçları kaydedildi.\")\n",
    "\n",
    "# 12. Grafik çizimi\n",
    "print(\"\\nAdım 12: Eğitim ve doğrulama grafikleri çiziliyor...\")\n",
    "plt.figure(figsize=(12, 8))\n",
    "for model_name, res in results.items():\n",
    "    print(f\"{model_name} için doğruluk grafiği çiziliyor...\")\n",
    "    plt.subplot(2, 1, 1)\n",
    "    plt.plot(res['train_accs'], label=f'{model_name} Eğitim')\n",
    "    plt.plot(res['val_accs'], label=f'{model_name} Doğrulama')\n",
    "    plt.title('Model Doğrulukları')\n",
    "    plt.xlabel('Epoch')\n",
    "    plt.ylabel('Doğruluk')\n",
    "    plt.legend()\n",
    "\n",
    "    print(f\"{model_name} için kayıp grafiği çiziliyor...\")\n",
    "    plt.subplot(2, 1, 2)\n",
    "    plt.plot(res['train_losses'], label=f'{model_name} Eğitim')\n",
    "    plt.plot(res['val_losses'], label=f'{model_name} Doğrulama')\n",
    "    plt.title('Model Kayıpları')\n",
    "    plt.xlabel('Epoch')\n",
    "    plt.ylabel('Kayıp')\n",
    "    plt.legend()\n",
    "\n",
    "plt.tight_layout()\n",
    "plt.savefig(os.path.join(graph_dir, 'training_history.png'))\n",
    "plt.close()\n",
    "print(f\"Eğitim geçmişi grafiği kaydedildi: {os.path.join(graph_dir, 'training_history.png')}\")\n",
    "\n",
    "# 13. Sonuç özeti\n",
    "print(\"\\nAdım 13: Sonuç özeti yazdırılıyor...\")\n",
    "print(\"\\n=== Sonuç Özeti ===\")\n",
    "for model_name, res in results.items():\n",
    "    print(f\"\\n{model_name}:\")\n",
    "    print(f\"Eğitim Süresi: {res['training_time']:.2f} saniye\")\n",
    "    print(f\"Değerlendirme Süresi: {res['test_time']:.2f} saniye\")\n",
    "    print(f\"Doğruluk: {res['accuracy']:.4f}, Kesinlik: {res['precision']:.4f}, \"\n",
    "          f\"Duyarlılık: {res['recall']:.4f}, F1-Skor: {res['f1']:.4f}, ROC-AUC: {res['roc_auc']:.4f}\")\n",
    "print(\"Sonuç özeti tamamlandı.\")"
   ]
  },
  {
   "cell_type": "code",
   "execution_count": 15,
   "id": "c178084f-0a92-4b16-a685-651c7d699364",
   "metadata": {},
   "outputs": [
    {
     "data": {
      "text/plain": [
       "'C:\\\\Users\\\\Admin'"
      ]
     },
     "execution_count": 15,
     "metadata": {},
     "output_type": "execute_result"
    }
   ],
   "source": [
    "pwd"
   ]
  },
  {
   "cell_type": "code",
   "execution_count": null,
   "id": "f575e520-27d2-4758-b924-9038a09e99d1",
   "metadata": {},
   "outputs": [],
   "source": []
  }
 ],
 "metadata": {
  "kernelspec": {
   "display_name": "deepfake",
   "language": "python",
   "name": "deepfake"
  },
  "language_info": {
   "codemirror_mode": {
    "name": "ipython",
    "version": 3
   },
   "file_extension": ".py",
   "mimetype": "text/x-python",
   "name": "python",
   "nbconvert_exporter": "python",
   "pygments_lexer": "ipython3",
   "version": "3.9.21"
  }
 },
 "nbformat": 4,
 "nbformat_minor": 5
}
