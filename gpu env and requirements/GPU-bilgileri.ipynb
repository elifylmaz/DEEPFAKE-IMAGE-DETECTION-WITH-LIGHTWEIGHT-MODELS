{
 "cells": [
  {
   "cell_type": "code",
   "execution_count": 1,
   "id": "5e9287c7-6e13-4e68-85b1-a10ec522b6f0",
   "metadata": {},
   "outputs": [
    {
     "name": "stdout",
     "output_type": "stream",
     "text": [
      "CPU kullanılabilir: False\n",
      "GPU kullanılabilir: True\n",
      "CUDA sürümü: 12.1\n",
      "GPU cihaz sayısı: 1\n",
      "GPU adı: NVIDIA GeForce RTX 4060\n",
      "GPU testi başarılı: Matris çarpımı tamamlandı.\n"
     ]
    }
   ],
   "source": [
    "try:\n",
    "    import torch\n",
    "\n",
    "    # CPU bilgisi\n",
    "    print(\"CPU kullanılabilir:\", not torch.cuda.is_available())\n",
    "\n",
    "    # GPU ve CUDA kontrolü\n",
    "    print(\"GPU kullanılabilir:\", torch.cuda.is_available())\n",
    "    if torch.cuda.is_available():\n",
    "        print(\"CUDA sürümü:\", torch.version.cuda)\n",
    "        print(\"GPU cihaz sayısı:\", torch.cuda.device_count())\n",
    "        print(\"GPU adı:\", torch.cuda.get_device_name(0))\n",
    "        # GPU testi: Basit bir matris çarpımı\n",
    "        x = torch.randn(1000, 1000).cuda()\n",
    "        y = torch.matmul(x, x)\n",
    "        print(\"GPU testi başarılı: Matris çarpımı tamamlandı.\")\n",
    "    else:\n",
    "        print(\"CUDA veya GPU bulunamadı.\")\n",
    "except ImportError:\n",
    "    print(\"Hata: PyTorch kütüphanesi yüklü değil. Lütfen PyTorch'u yükleyin.\")\n",
    "except Exception as e:\n",
    "    print(f\"Hata: {str(e)}\")"
   ]
  },
  {
   "cell_type": "code",
   "execution_count": 2,
   "id": "de51a232-dfb3-4c05-b523-21f6a956758d",
   "metadata": {
    "scrolled": true
   },
   "outputs": [
    {
     "name": "stdout",
     "output_type": "stream",
     "text": [
      "numpy sürümü: 1.19.5\n",
      "torch sürümü: 2.1.0+cu121\n",
      "tensorflow sürümü: 2.5.0\n"
     ]
    }
   ],
   "source": [
    "def check_version(module_name):\n",
    "    try:\n",
    "        module = __import__(module_name.lower())\n",
    "        print(f\"{module_name} sürümü: {module.__version__}\")\n",
    "    except ImportError:\n",
    "        print(f\"Hata: {module_name} kütüphanesi yüklü değil.\")\n",
    "    except Exception as e:\n",
    "        print(f\"Hata: {module_name} sürüm kontrolü sırasında hata oluştu: {str(e)}\")\n",
    "\n",
    "# Versiyonları kontrol et\n",
    "for module_name in ['numpy', 'torch', 'tensorflow']:\n",
    "    check_version(module_name)"
   ]
  },
  {
   "cell_type": "code",
   "execution_count": 3,
   "id": "16109917-9db9-442a-b604-c177daf86945",
   "metadata": {},
   "outputs": [
    {
     "name": "stdout",
     "output_type": "stream",
     "text": [
      "Conda aktif. Ortam: deepfake\n",
      "Conda ortam yolu: C:\\Users\\Admin\\anaconda3\\envs\\deepfake\n"
     ]
    }
   ],
   "source": [
    "import os\n",
    "import sys\n",
    "\n",
    "# Conda ortamının aktif olup olmadığını kontrol et\n",
    "def is_conda_active():\n",
    "    return \"CONDA_PREFIX\" in os.environ or \"conda\" in sys.executable.lower()\n",
    "\n",
    "if is_conda_active():\n",
    "    print(\"Conda aktif. Ortam:\", os.environ.get(\"CONDA_DEFAULT_ENV\", \"Bilinmiyor\"))\n",
    "    print(\"Conda ortam yolu:\", os.environ.get(\"CONDA_PREFIX\", \"Bilinmiyor\"))\n",
    "else:\n",
    "    print(\"Conda aktif değil.\")"
   ]
  },
  {
   "cell_type": "code",
   "execution_count": 4,
   "id": "13c0e9d4-6544-4776-ac43-b02695b310e7",
   "metadata": {},
   "outputs": [
    {
     "name": "stdout",
     "output_type": "stream",
     "text": [
      "nvidia-smi çıktısı:\n",
      "Mon May 12 11:55:01 2025       \n",
      "+-----------------------------------------------------------------------------------------+\n",
      "| NVIDIA-SMI 572.70                 Driver Version: 572.70         CUDA Version: 12.8     |\n",
      "|-----------------------------------------+------------------------+----------------------+\n",
      "| GPU  Name                  Driver-Model | Bus-Id          Disp.A | Volatile Uncorr. ECC |\n",
      "| Fan  Temp   Perf          Pwr:Usage/Cap |           Memory-Usage | GPU-Util  Compute M. |\n",
      "|                                         |                        |               MIG M. |\n",
      "|=========================================+========================+======================|\n",
      "|   0  NVIDIA GeForce RTX 4060      WDDM  |   00000000:05:00.0  On |                  N/A |\n",
      "|  0%   43C    P8            N/A  /  115W |    1035MiB /   8188MiB |     17%      Default |\n",
      "|                                         |                        |                  N/A |\n",
      "+-----------------------------------------+------------------------+----------------------+\n",
      "                                                                                         \n",
      "+-----------------------------------------------------------------------------------------+\n",
      "| Processes:                                                                              |\n",
      "|  GPU   GI   CI              PID   Type   Process name                        GPU Memory |\n",
      "|        ID   ID                                                               Usage      |\n",
      "|=========================================================================================|\n",
      "|    0   N/A  N/A            5128    C+G   ...xyewy\\ShellExperienceHost.exe      N/A      |\n",
      "|    0   N/A  N/A            6704    C+G   ...yb3d8bbwe\\WindowsTerminal.exe      N/A      |\n",
      "|    0   N/A  N/A            7592    C+G   ...crosoft\\OneDrive\\OneDrive.exe      N/A      |\n",
      "|    0   N/A  N/A            9528    C+G   C:\\Windows\\explorer.exe               N/A      |\n",
      "|    0   N/A  N/A           10536    C+G   ..._cw5n1h2txyewy\\SearchHost.exe      N/A      |\n",
      "|    0   N/A  N/A           10540    C+G   ...y\\StartMenuExperienceHost.exe      N/A      |\n",
      "|    0   N/A  N/A           11712    C+G   ...8bbwe\\PhoneExperienceHost.exe      N/A      |\n",
      "|    0   N/A  N/A           12312    C+G   ....0.3179.98\\msedgewebview2.exe      N/A      |\n",
      "|    0   N/A  N/A           15828    C+G   ....0.3179.98\\msedgewebview2.exe      N/A      |\n",
      "|    0   N/A  N/A           16376    C+G   ...8wekyb3d8bbwe\\WebViewHost.exe      N/A      |\n",
      "|    0   N/A  N/A           16396    C+G   ...indows\\System32\\ShellHost.exe      N/A      |\n",
      "|    0   N/A  N/A           16668    C+G   ...Chrome\\Application\\chrome.exe      N/A      |\n",
      "|    0   N/A  N/A           18976    C+G   ...t\\Edge\\Application\\msedge.exe      N/A      |\n",
      "|    0   N/A  N/A           19268    C+G   ...64__8wekyb3d8bbwe\\Copilot.exe      N/A      |\n",
      "|    0   N/A  N/A           23120      C   ...nda3\\envs\\deepfake\\python.exe      N/A      |\n",
      "|    0   N/A  N/A           23472    C+G   C:\\Windows\\explorer.exe               N/A      |\n",
      "|    0   N/A  N/A           23972    C+G   ....0.3179.98\\msedgewebview2.exe      N/A      |\n",
      "+-----------------------------------------------------------------------------------------+\n",
      "\n"
     ]
    }
   ],
   "source": [
    "import subprocess\n",
    "\n",
    "def check_nvidia_smi():\n",
    "    try:\n",
    "        # nvidia-smi komutunu çalıştır\n",
    "        result = subprocess.run(['nvidia-smi'], capture_output=True, text=True, shell=True)\n",
    "        print(\"nvidia-smi çıktısı:\")\n",
    "        print(result.stdout)\n",
    "    except FileNotFoundError:\n",
    "        print(\"Hata: nvidia-smi komutu bulunamadı. GPU veya NVIDIA sürücüleri yüklü olmayabilir.\")\n",
    "    except Exception as e:\n",
    "        print(f\"Hata: {str(e)}\")\n",
    "\n",
    "check_nvidia_smi()"
   ]
  },
  {
   "cell_type": "code",
   "execution_count": 5,
   "id": "9415cf0c-9499-4ccb-a004-900447826fca",
   "metadata": {},
   "outputs": [
    {
     "name": "stdout",
     "output_type": "stream",
     "text": [
      "Note: you may need to restart the kernel to use updated packages.\n"
     ]
    }
   ],
   "source": [
    "pip list > requirements.txt"
   ]
  },
  {
   "cell_type": "code",
   "execution_count": null,
   "id": "b4dde6a7-6ef5-43a3-8161-f4192770fd0e",
   "metadata": {},
   "outputs": [],
   "source": []
  }
 ],
 "metadata": {
  "kernelspec": {
   "display_name": "deepfake",
   "language": "python",
   "name": "deepfake"
  },
  "language_info": {
   "codemirror_mode": {
    "name": "ipython",
    "version": 3
   },
   "file_extension": ".py",
   "mimetype": "text/x-python",
   "name": "python",
   "nbconvert_exporter": "python",
   "pygments_lexer": "ipython3",
   "version": "3.9.21"
  }
 },
 "nbformat": 4,
 "nbformat_minor": 5
}
